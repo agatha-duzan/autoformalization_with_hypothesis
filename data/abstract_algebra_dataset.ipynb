{
 "cells": [
  {
   "cell_type": "markdown",
   "metadata": {},
   "source": [
    "# Abstract Algebra Dataset"
   ]
  },
  {
   "cell_type": "code",
   "execution_count": 2,
   "metadata": {},
   "outputs": [],
   "source": [
    "import sys\n",
    "import os\n",
    "import pandas as pd\n",
    "import json\n",
    "\n",
    "from datasets import load_dataset, DatasetDict\n",
    "from sklearn.model_selection import train_test_split\n",
    "\n",
    "sys.path.append(os.path.abspath('../'))"
   ]
  },
  {
   "cell_type": "markdown",
   "metadata": {},
   "source": [
    "## Loading and preprocessing the data"
   ]
  },
  {
   "cell_type": "markdown",
   "metadata": {},
   "source": [
    "### Putnam Bench (273)"
   ]
  },
  {
   "cell_type": "markdown",
   "metadata": {},
   "source": [
    "- 25 rows for `{'abstract_algebra'}`"
   ]
  },
  {
   "cell_type": "code",
   "execution_count": 1,
   "metadata": {},
   "outputs": [
    {
     "name": "stderr",
     "output_type": "stream",
     "text": [
      "Repo card metadata block was not found. Setting CardData to empty.\n"
     ]
    }
   ],
   "source": [
    "from datasets import load_dataset\n",
    "ds = load_dataset(\"amitayusht/PutnamBench\")"
   ]
  },
  {
   "cell_type": "code",
   "execution_count": 3,
   "metadata": {},
   "outputs": [],
   "source": [
    "df = pd.DataFrame(ds['train'])"
   ]
  },
  {
   "cell_type": "code",
   "execution_count": 4,
   "metadata": {},
   "outputs": [],
   "source": [
    "df = df.drop(columns=['coq_statement', 'isabelle_statement', 'informal_solution'])\n",
    "df = df.dropna()\n",
    "df = df.rename(columns={'lean4_statement': 'formal_statement'})\n",
    "\n",
    "df['header'] = df['formal_statement'].apply(lambda x: x.split('theorem', 1)[0])\n",
    "df['formal_statement'] = df['formal_statement'].apply(lambda x: 'theorem' + x.split('theorem', 1)[1] if 'theorem' in x else x)"
   ]
  },
  {
   "cell_type": "code",
   "execution_count": 5,
   "metadata": {},
   "outputs": [
    {
     "name": "stdout",
     "output_type": "stream",
     "text": [
      "{'set_theory', 'number_theory', 'abstract_algebra', 'combinatorics', 'analysis', 'linear_algebra', 'probability', 'geometry', 'algebra'}\n"
     ]
    }
   ],
   "source": [
    "all_tags = set()\n",
    "\n",
    "for tags in df.tags.unique():\n",
    "    tags = tags.replace('[', '').replace(']', '').replace('\\'', '')\n",
    "    tags = tags\n",
    "    tag_list = tags.split(',')\n",
    "    for tag in tag_list:\n",
    "        all_tags.add(tag.strip())\n",
    "\n",
    "print(all_tags)"
   ]
  },
  {
   "cell_type": "code",
   "execution_count": 6,
   "metadata": {},
   "outputs": [],
   "source": [
    "wanted_tags = ['abstract_algebra']\n",
    "putnam_df = df[df.tags.str.contains('|'.join(wanted_tags))]\n",
    "\n",
    "putnam_NT_df = df[df.tags.str.contains('abstract_algebra')]\n"
   ]
  },
  {
   "cell_type": "code",
   "execution_count": 7,
   "metadata": {},
   "outputs": [],
   "source": [
    "# shuffle df\n",
    "putnam_NT_df = putnam_NT_df.sample(frac=1).reset_index(drop=True)\n",
    "putnam_NT_df['split'] = ['valid' if x < len(putnam_NT_df) / 2 else 'test' for x in range(len(putnam_NT_df))]"
   ]
  },
  {
   "cell_type": "code",
   "execution_count": 8,
   "metadata": {},
   "outputs": [
    {
     "data": {
      "text/plain": [
       "25"
      ]
     },
     "execution_count": 8,
     "metadata": {},
     "output_type": "execute_result"
    }
   ],
   "source": [
    "len(putnam_NT_df)"
   ]
  },
  {
   "cell_type": "code",
   "execution_count": 9,
   "metadata": {},
   "outputs": [
    {
     "data": {
      "text/html": [
       "<div>\n",
       "<style scoped>\n",
       "    .dataframe tbody tr th:only-of-type {\n",
       "        vertical-align: middle;\n",
       "    }\n",
       "\n",
       "    .dataframe tbody tr th {\n",
       "        vertical-align: top;\n",
       "    }\n",
       "\n",
       "    .dataframe thead th {\n",
       "        text-align: right;\n",
       "    }\n",
       "</style>\n",
       "<table border=\"1\" class=\"dataframe\">\n",
       "  <thead>\n",
       "    <tr style=\"text-align: right;\">\n",
       "      <th></th>\n",
       "      <th>name</th>\n",
       "      <th>formal_statement</th>\n",
       "      <th>informal_statement</th>\n",
       "      <th>tags</th>\n",
       "      <th>header</th>\n",
       "      <th>split</th>\n",
       "    </tr>\n",
       "  </thead>\n",
       "  <tbody>\n",
       "    <tr>\n",
       "      <th>0</th>\n",
       "      <td>putnam_1985_b6</td>\n",
       "      <td>theorem putnam_1985_b6\\n(n : ℕ)\\n(npos : n &gt; 0...</td>\n",
       "      <td>Let $G$ be a finite set of real $n\\times n$ ma...</td>\n",
       "      <td>['abstract_algebra', 'linear_algebra']</td>\n",
       "      <td></td>\n",
       "      <td>valid</td>\n",
       "    </tr>\n",
       "    <tr>\n",
       "      <th>1</th>\n",
       "      <td>putnam_2009_a5</td>\n",
       "      <td>theorem putnam_2009_a5\\n: (∃ (G : Type*) (_ : ...</td>\n",
       "      <td>Is there a finite abelian group $G$ such that ...</td>\n",
       "      <td>['abstract_algebra']</td>\n",
       "      <td>abbrev putnam_2009_a5_solution : Prop := sorry...</td>\n",
       "      <td>valid</td>\n",
       "    </tr>\n",
       "    <tr>\n",
       "      <th>2</th>\n",
       "      <td>putnam_1969_b2</td>\n",
       "      <td>theorem putnam_1969_b2\\n(G : Type*)\\n[Group G]...</td>\n",
       "      <td>Show that a finite group can not be the union ...</td>\n",
       "      <td>['abstract_algebra']</td>\n",
       "      <td>abbrev putnam_1969_b2_solution : Prop := sorry...</td>\n",
       "      <td>valid</td>\n",
       "    </tr>\n",
       "    <tr>\n",
       "      <th>3</th>\n",
       "      <td>putnam_1977_b6</td>\n",
       "      <td>theorem putnam_1977_b6\\n[Group G]\\n(H : Subgro...</td>\n",
       "      <td>Let $G$ be a group and $H$ be a subgroup of $G...</td>\n",
       "      <td>['abstract_algebra']</td>\n",
       "      <td></td>\n",
       "      <td>valid</td>\n",
       "    </tr>\n",
       "    <tr>\n",
       "      <th>4</th>\n",
       "      <td>putnam_2012_a2</td>\n",
       "      <td>theorem putnam_2012_a2\\n(S : Type*) [CommSemig...</td>\n",
       "      <td>Let $*$ be a commutative and associative binar...</td>\n",
       "      <td>['abstract_algebra']</td>\n",
       "      <td></td>\n",
       "      <td>valid</td>\n",
       "    </tr>\n",
       "  </tbody>\n",
       "</table>\n",
       "</div>"
      ],
      "text/plain": [
       "             name                                   formal_statement  \\\n",
       "0  putnam_1985_b6  theorem putnam_1985_b6\\n(n : ℕ)\\n(npos : n > 0...   \n",
       "1  putnam_2009_a5  theorem putnam_2009_a5\\n: (∃ (G : Type*) (_ : ...   \n",
       "2  putnam_1969_b2  theorem putnam_1969_b2\\n(G : Type*)\\n[Group G]...   \n",
       "3  putnam_1977_b6  theorem putnam_1977_b6\\n[Group G]\\n(H : Subgro...   \n",
       "4  putnam_2012_a2  theorem putnam_2012_a2\\n(S : Type*) [CommSemig...   \n",
       "\n",
       "                                  informal_statement  \\\n",
       "0  Let $G$ be a finite set of real $n\\times n$ ma...   \n",
       "1  Is there a finite abelian group $G$ such that ...   \n",
       "2  Show that a finite group can not be the union ...   \n",
       "3  Let $G$ be a group and $H$ be a subgroup of $G...   \n",
       "4  Let $*$ be a commutative and associative binar...   \n",
       "\n",
       "                                     tags  \\\n",
       "0  ['abstract_algebra', 'linear_algebra']   \n",
       "1                    ['abstract_algebra']   \n",
       "2                    ['abstract_algebra']   \n",
       "3                    ['abstract_algebra']   \n",
       "4                    ['abstract_algebra']   \n",
       "\n",
       "                                              header  split  \n",
       "0                                                     valid  \n",
       "1  abbrev putnam_2009_a5_solution : Prop := sorry...  valid  \n",
       "2  abbrev putnam_1969_b2_solution : Prop := sorry...  valid  \n",
       "3                                                     valid  \n",
       "4                                                     valid  "
      ]
     },
     "execution_count": 9,
     "metadata": {},
     "output_type": "execute_result"
    }
   ],
   "source": [
    "putnam_NT_df.head()"
   ]
  },
  {
   "cell_type": "markdown",
   "metadata": {},
   "source": [
    "#### Look at the data:"
   ]
  },
  {
   "cell_type": "code",
   "execution_count": 10,
   "metadata": {},
   "outputs": [
    {
     "name": "stdout",
     "output_type": "stream",
     "text": [
      "Let $G$ be a finite set of real $n\\times n$ matrices $\\{M_i\\}$, $1 \\leq i \\leq r$, which form a group under matrix\n",
      "multiplication. Suppose that $\\sum_{i=1}^r \\mathrm{tr}(M_i)=0$, where $\\mathrm{tr}(A)$ denotes the trace of the matrix $A$. Prove that $\\sum_{i=1}^r M_i$ is the $n \\times n$ zero matrix.\n"
     ]
    }
   ],
   "source": [
    "print(putnam_NT_df.iloc[0].informal_statement)"
   ]
  },
  {
   "cell_type": "code",
   "execution_count": 11,
   "metadata": {},
   "outputs": [
    {
     "name": "stdout",
     "output_type": "stream",
     "text": [
      "theorem putnam_1985_b6\n",
      "(n : ℕ)\n",
      "(npos : n > 0)\n",
      "(G : Finset (Matrix (Fin n) (Fin n) ℝ))\n",
      "(groupG : (∀ g ∈ G, ∀ h ∈ G, g * h ∈ G) ∧ 1 ∈ G ∧ (∀ g ∈ G, ∃ h ∈ G, g * h = 1))\n",
      "(hG : ∑ M in G, Matrix.trace M = 0)\n",
      ": (∑ M in G, M = 0) :=\n",
      "sorry\n"
     ]
    }
   ],
   "source": [
    "print(putnam_NT_df.iloc[0].formal_statement)"
   ]
  },
  {
   "cell_type": "code",
   "execution_count": 12,
   "metadata": {},
   "outputs": [
    {
     "name": "stdout",
     "output_type": "stream",
     "text": [
      "['abstract_algebra']\n"
     ]
    }
   ],
   "source": [
    "NT_tag = putnam_NT_df.iloc[3].tags\n",
    "print(NT_tag)"
   ]
  },
  {
   "cell_type": "code",
   "execution_count": 56,
   "metadata": {},
   "outputs": [
    {
     "ename": "Exception",
     "evalue": "stop",
     "output_type": "error",
     "traceback": [
      "\u001b[0;31m---------------------------------------------------------------------------\u001b[0m",
      "\u001b[0;31mException\u001b[0m                                 Traceback (most recent call last)",
      "Cell \u001b[0;32mIn[56], line 1\u001b[0m\n\u001b[0;32m----> 1\u001b[0m \u001b[38;5;28;01mraise\u001b[39;00m \u001b[38;5;167;01mException\u001b[39;00m(\u001b[38;5;124m'\u001b[39m\u001b[38;5;124mstop\u001b[39m\u001b[38;5;124m'\u001b[39m)\n",
      "\u001b[0;31mException\u001b[0m: stop"
     ]
    }
   ],
   "source": [
    "raise Exception('stop')"
   ]
  },
  {
   "cell_type": "markdown",
   "metadata": {},
   "source": [
    "## Export"
   ]
  },
  {
   "cell_type": "code",
   "execution_count": 13,
   "metadata": {},
   "outputs": [],
   "source": [
    "final_df = putnam_NT_df"
   ]
  },
  {
   "cell_type": "code",
   "execution_count": 14,
   "metadata": {},
   "outputs": [],
   "source": [
    "final_df[final_df['split'] == 'test'].to_json('ADV_test.jsonl', orient='records', lines=True)\n",
    "final_df[final_df['split'] == 'valid'].to_json('ADV_validation.jsonl', orient='records', lines=True)"
   ]
  }
 ],
 "metadata": {
  "kernelspec": {
   "display_name": "modern_nlp",
   "language": "python",
   "name": "python3"
  },
  "language_info": {
   "codemirror_mode": {
    "name": "ipython",
    "version": 3
   },
   "file_extension": ".py",
   "mimetype": "text/x-python",
   "name": "python",
   "nbconvert_exporter": "python",
   "pygments_lexer": "ipython3",
   "version": "3.10.13"
  }
 },
 "nbformat": 4,
 "nbformat_minor": 2
}
