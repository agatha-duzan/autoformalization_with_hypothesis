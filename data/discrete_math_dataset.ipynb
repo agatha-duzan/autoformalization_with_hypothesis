{
 "cells": [
  {
   "cell_type": "code",
   "execution_count": 1,
   "metadata": {},
   "outputs": [],
   "source": [
    "import sys\n",
    "import os\n",
    "import pandas as pd\n",
    "import json\n",
    "\n",
    "from datasets import load_dataset, DatasetDict\n",
    "from sklearn.model_selection import train_test_split\n",
    "\n",
    "sys.path.append(os.path.abspath('../'))"
   ]
  },
  {
   "cell_type": "markdown",
   "metadata": {},
   "source": [
    "## Proof Net"
   ]
  },
  {
   "cell_type": "markdown",
   "metadata": {},
   "source": [
    "`hoskinson-center/proofnet` is in LEAN 3, we use the LEAN 4 translation used in the paper *DeepSeek Prover*\n",
    "\n",
    "Not much discrete math, maybe subset `Ireland-rosen` or `Rudin`?"
   ]
  },
  {
   "cell_type": "code",
   "execution_count": 2,
   "metadata": {},
   "outputs": [],
   "source": [
    "df = pd.read_json('proofnet.jsonl', lines=True)"
   ]
  },
  {
   "cell_type": "code",
   "execution_count": 3,
   "metadata": {},
   "outputs": [],
   "source": [
    "df['name'] = 'f2f_' + df['name']\n",
    "df = df.drop(columns=['goal'])"
   ]
  },
  {
   "cell_type": "code",
   "execution_count": 13,
   "metadata": {},
   "outputs": [
    {
     "name": "stdout",
     "output_type": "stream",
     "text": [
      "Empty DataFrame\n",
      "Columns: [name, split, informal_prefix, formal_statement, header]\n",
      "Index: []\n"
     ]
    }
   ],
   "source": [
    "rosen_df = df[df['name'].str.contains('rosen')]\n",
    "print(rosen_df)"
   ]
  },
  {
   "cell_type": "code",
   "execution_count": 9,
   "metadata": {},
   "outputs": [
    {
     "data": {
      "text/html": [
       "<div>\n",
       "<style scoped>\n",
       "    .dataframe tbody tr th:only-of-type {\n",
       "        vertical-align: middle;\n",
       "    }\n",
       "\n",
       "    .dataframe tbody tr th {\n",
       "        vertical-align: top;\n",
       "    }\n",
       "\n",
       "    .dataframe thead th {\n",
       "        text-align: right;\n",
       "    }\n",
       "</style>\n",
       "<table border=\"1\" class=\"dataframe\">\n",
       "  <thead>\n",
       "    <tr style=\"text-align: right;\">\n",
       "      <th></th>\n",
       "      <th>name</th>\n",
       "      <th>split</th>\n",
       "      <th>informal_prefix</th>\n",
       "      <th>formal_statement</th>\n",
       "      <th>header</th>\n",
       "    </tr>\n",
       "  </thead>\n",
       "  <tbody>\n",
       "    <tr>\n",
       "      <th>0</th>\n",
       "      <td>f2f_exercise_1_13a</td>\n",
       "      <td>valid</td>\n",
       "      <td>/-- Suppose that $f$ is holomorphic in an open...</td>\n",
       "      <td>theorem exercise_1_13a {f : ℂ → ℂ} (Ω : Set ℂ)...</td>\n",
       "      <td>import Mathlib\\n\\nopen Complex Filter Function...</td>\n",
       "    </tr>\n",
       "    <tr>\n",
       "      <th>1</th>\n",
       "      <td>f2f_exercise_1_13b</td>\n",
       "      <td>test</td>\n",
       "      <td>/-- Suppose that $f$ is holomorphic in an open...</td>\n",
       "      <td>theorem exercise_1_13b {f : ℂ → ℂ} (Ω : Set ℂ)...</td>\n",
       "      <td>import Mathlib\\n\\nopen Complex Filter Function...</td>\n",
       "    </tr>\n",
       "    <tr>\n",
       "      <th>2</th>\n",
       "      <td>f2f_exercise_1_13c</td>\n",
       "      <td>valid</td>\n",
       "      <td>/-- Suppose that $f$ is holomorphic in an open...</td>\n",
       "      <td>theorem exercise_1_13c {f : ℂ → ℂ} (Ω : Set ℂ)...</td>\n",
       "      <td>import Mathlib\\n\\nopen Complex Filter Function...</td>\n",
       "    </tr>\n",
       "    <tr>\n",
       "      <th>3</th>\n",
       "      <td>f2f_exercise_1_19a</td>\n",
       "      <td>test</td>\n",
       "      <td>/-- Prove that the power series $\\sum nz^n$ do...</td>\n",
       "      <td>theorem exercise_1_19a (z : ℂ) (hz : abs z = 1...</td>\n",
       "      <td>import Mathlib\\n\\nopen Complex Filter Function...</td>\n",
       "    </tr>\n",
       "    <tr>\n",
       "      <th>4</th>\n",
       "      <td>f2f_exercise_1_19b</td>\n",
       "      <td>valid</td>\n",
       "      <td>/-- Prove that the power series $\\sum zn/n^2$ ...</td>\n",
       "      <td>theorem exercise_1_19b (z : ℂ) (hz : abs z = 1...</td>\n",
       "      <td>import Mathlib\\n\\nopen Complex Filter Function...</td>\n",
       "    </tr>\n",
       "  </tbody>\n",
       "</table>\n",
       "</div>"
      ],
      "text/plain": [
       "                 name  split  \\\n",
       "0  f2f_exercise_1_13a  valid   \n",
       "1  f2f_exercise_1_13b   test   \n",
       "2  f2f_exercise_1_13c  valid   \n",
       "3  f2f_exercise_1_19a   test   \n",
       "4  f2f_exercise_1_19b  valid   \n",
       "\n",
       "                                     informal_prefix  \\\n",
       "0  /-- Suppose that $f$ is holomorphic in an open...   \n",
       "1  /-- Suppose that $f$ is holomorphic in an open...   \n",
       "2  /-- Suppose that $f$ is holomorphic in an open...   \n",
       "3  /-- Prove that the power series $\\sum nz^n$ do...   \n",
       "4  /-- Prove that the power series $\\sum zn/n^2$ ...   \n",
       "\n",
       "                                    formal_statement  \\\n",
       "0  theorem exercise_1_13a {f : ℂ → ℂ} (Ω : Set ℂ)...   \n",
       "1  theorem exercise_1_13b {f : ℂ → ℂ} (Ω : Set ℂ)...   \n",
       "2  theorem exercise_1_13c {f : ℂ → ℂ} (Ω : Set ℂ)...   \n",
       "3  theorem exercise_1_19a (z : ℂ) (hz : abs z = 1...   \n",
       "4  theorem exercise_1_19b (z : ℂ) (hz : abs z = 1...   \n",
       "\n",
       "                                              header  \n",
       "0  import Mathlib\\n\\nopen Complex Filter Function...  \n",
       "1  import Mathlib\\n\\nopen Complex Filter Function...  \n",
       "2  import Mathlib\\n\\nopen Complex Filter Function...  \n",
       "3  import Mathlib\\n\\nopen Complex Filter Function...  \n",
       "4  import Mathlib\\n\\nopen Complex Filter Function...  "
      ]
     },
     "execution_count": 9,
     "metadata": {},
     "output_type": "execute_result"
    }
   ],
   "source": [
    "df.head()"
   ]
  },
  {
   "cell_type": "code",
   "execution_count": 5,
   "metadata": {},
   "outputs": [
    {
     "name": "stdout",
     "output_type": "stream",
     "text": [
      "/-- Suppose that $f$ is holomorphic in an open set $\\Omega$. Prove that if $\\text{Re}(f)$ is constant, then $f$ is constant.-/\n",
      "\n"
     ]
    }
   ],
   "source": [
    "print(df.iloc[0].informal_prefix)"
   ]
  },
  {
   "cell_type": "code",
   "execution_count": 6,
   "metadata": {},
   "outputs": [
    {
     "name": "stdout",
     "output_type": "stream",
     "text": [
      "theorem exercise_1_13a {f : ℂ → ℂ} (Ω : Set ℂ) (a b : Ω) (h : IsOpen Ω)\n",
      "  (hf : DifferentiableOn ℂ f Ω) (hc : ∃ (c : ℝ), ∀ z ∈ Ω, (f z).re = c) :\n",
      "  f a = f b :=\n"
     ]
    }
   ],
   "source": [
    "print(df.iloc[0].formal_statement)"
   ]
  },
  {
   "cell_type": "code",
   "execution_count": 14,
   "metadata": {},
   "outputs": [
    {
     "name": "stdout",
     "output_type": "stream",
     "text": [
      "\n",
      "open scoped BigOperators\n",
      "| 0 => sqrt 2\n",
      "  generateFrom {S : Set X | ∃ a b, a < b ∧ S = Ico a b}\n",
      "def countably_compact (X : Type*) [TopologicalSpace X] :=\n",
      "def rational (x : ℝ) := x ∈ range ((↑) : ℚ → ℝ)\n",
      "  ∀ U : Set X, Infinite U → ∃ x ∈ U, ClusterPt x (𝓟 U)\n",
      "noncomputable section\n",
      "def lower_limit_topology (X : Type) [Preorder X] :=\n",
      "  (∀ i, IsOpen (U i)) ∧ ((univ : Set X) ⊆ ⋃ i, U i) →\n",
      "  (∃ t : Finset ℕ, (univ : Set X) ⊆ ⋃ i ∈ t, U i)\n",
      "open Topology Filter Real Complex TopologicalSpace Finset\n",
      "| (n + 1) => sqrt (2 + sqrt (f n))\n",
      "open scoped BigOperators Topology\n",
      "open Fintype Set Real Ideal Polynomial\n",
      "  ∀ U : ℕ → Set X,\n",
      "  univ ∈ T ∧\n",
      "import Mathlib\n",
      "  ({S : Set ℝ | ∃ a b, a < b ∧ S = Ioo a b} ∪ {S : Set ℝ | ∃ a b, a < b ∧ S = Ioo a b \\ K})\n",
      "open Complex Filter Function Metric Finset\n",
      "def K : Set ℝ := {r | ∃ n : ℕ, r = 1 / n}\n",
      "noncomputable def f : ℕ → ℝ\n",
      "def g (n : ℕ) : ℝ := sqrt (n + 1) - sqrt n\n",
      "set_option checkBinderAnnotations false\n",
      "open Filter Real Function\n",
      "open RingHom\n",
      "--center of (G × H) equivalent, preserves multiplication with (center G) × (center H)\n",
      "  (∀ s t, s ∈ T → t ∈ T → s ∩ t ∈ T) ∧\n",
      "def limit_point_compact (X : Type*) [TopologicalSpace X] :=\n",
      "open Filter Set TopologicalSpace\n",
      "open Function Fintype Subgroup Ideal Polynomial Submodule Zsqrtd\n",
      "def Rl := lower_limit_topology ℝ\n",
      "open Fintype Subgroup Set Polynomial Ideal\n",
      "open scoped Topology\n",
      "  (∀s, (∀t ∈ s, t ∈ T) → sUnion s ∈ T)\n",
      "abbrev I : Set ℝ := Icc 0 1\n",
      "open Fintype Complex Polynomial LinearMap FiniteDimensional Module Module.End\n",
      "def is_topology (X : Type*) (T : Set (Set X)) :=\n",
      "def K_topology := generateFrom\n",
      "open Real\n"
     ]
    }
   ],
   "source": [
    "topics = set()\n",
    "for i in range(len(df)):\n",
    "    topics.update(df.iloc[i]['header'].split('\\n'))\n",
    "\n",
    "for topic in topics:\n",
    "    print(topic)"
   ]
  },
  {
   "cell_type": "code",
   "execution_count": 8,
   "metadata": {},
   "outputs": [
    {
     "ename": "NameError",
     "evalue": "name 'stop' is not defined",
     "output_type": "error",
     "traceback": [
      "\u001b[0;31m---------------------------------------------------------------------------\u001b[0m",
      "\u001b[0;31mNameError\u001b[0m                                 Traceback (most recent call last)",
      "Cell \u001b[0;32mIn[8], line 1\u001b[0m\n\u001b[0;32m----> 1\u001b[0m \u001b[43mstop\u001b[49m\n",
      "\u001b[0;31mNameError\u001b[0m: name 'stop' is not defined"
     ]
    }
   ],
   "source": [
    "stop"
   ]
  },
  {
   "cell_type": "markdown",
   "metadata": {},
   "source": [
    "## Putnam Bench (110)"
   ]
  },
  {
   "cell_type": "code",
   "execution_count": 5,
   "metadata": {},
   "outputs": [
    {
     "name": "stderr",
     "output_type": "stream",
     "text": [
      "Repo card metadata block was not found. Setting CardData to empty.\n"
     ]
    }
   ],
   "source": [
    "ds = load_dataset(\"amitayusht/PutnamBench\")"
   ]
  },
  {
   "cell_type": "code",
   "execution_count": 6,
   "metadata": {},
   "outputs": [],
   "source": [
    "df = pd.DataFrame(ds['train'])"
   ]
  },
  {
   "cell_type": "code",
   "execution_count": 7,
   "metadata": {},
   "outputs": [],
   "source": [
    "df = df.drop(columns=['coq_statement', 'isabelle_statement', 'informal_solution'])\n",
    "df = df.dropna()"
   ]
  },
  {
   "cell_type": "code",
   "execution_count": 8,
   "metadata": {},
   "outputs": [
    {
     "name": "stdout",
     "output_type": "stream",
     "text": [
      "{'algebra', 'abstract_algebra', 'geometry', 'probability', 'analysis', 'combinatorics', 'set_theory', 'linear_algebra', 'number_theory'}\n"
     ]
    }
   ],
   "source": [
    "# get unique values from the column 'tags'\n",
    "all_tags = set()\n",
    "\n",
    "for tags in df.tags.unique():\n",
    "    tags = tags.replace('[', '').replace(']', '').replace('\\'', '')\n",
    "    tags = tags\n",
    "    tag_list = tags.split(',')\n",
    "    for tag in tag_list:\n",
    "        all_tags.add(tag.strip())\n",
    "\n",
    "print(all_tags)"
   ]
  },
  {
   "cell_type": "markdown",
   "metadata": {},
   "source": [
    "We will keep `{'set_theory', 'probability', 'number_theory', 'combinatorics'}`"
   ]
  },
  {
   "cell_type": "code",
   "execution_count": 19,
   "metadata": {},
   "outputs": [],
   "source": [
    "wanted_tags = ['set_theory', 'probability', 'number_theory', 'combinatorics']\n",
    "putnam_df = df[df.tags.str.contains('|'.join(wanted_tags))]\n"
   ]
  },
  {
   "cell_type": "code",
   "execution_count": 20,
   "metadata": {},
   "outputs": [
    {
     "data": {
      "text/html": [
       "<div>\n",
       "<style scoped>\n",
       "    .dataframe tbody tr th:only-of-type {\n",
       "        vertical-align: middle;\n",
       "    }\n",
       "\n",
       "    .dataframe tbody tr th {\n",
       "        vertical-align: top;\n",
       "    }\n",
       "\n",
       "    .dataframe thead th {\n",
       "        text-align: right;\n",
       "    }\n",
       "</style>\n",
       "<table border=\"1\" class=\"dataframe\">\n",
       "  <thead>\n",
       "    <tr style=\"text-align: right;\">\n",
       "      <th></th>\n",
       "      <th>name</th>\n",
       "      <th>lean4_statement</th>\n",
       "      <th>informal_statement</th>\n",
       "      <th>tags</th>\n",
       "    </tr>\n",
       "  </thead>\n",
       "  <tbody>\n",
       "    <tr>\n",
       "      <th>0</th>\n",
       "      <td>putnam_1981_a1</td>\n",
       "      <td>abbrev putnam_1981_a1_solution : ℝ := sorry\\n-...</td>\n",
       "      <td>Let $E(n)$ be the greatest integer $k$ such th...</td>\n",
       "      <td>['analysis', 'number_theory']</td>\n",
       "    </tr>\n",
       "    <tr>\n",
       "      <th>5</th>\n",
       "      <td>putnam_1981_b3</td>\n",
       "      <td>theorem putnam_1981_b3\\n(P : ℕ → Prop := fun n...</td>\n",
       "      <td>Prove that, for infinitely many positive integ...</td>\n",
       "      <td>['number_theory']</td>\n",
       "    </tr>\n",
       "    <tr>\n",
       "      <th>10</th>\n",
       "      <td>putnam_2007_a4</td>\n",
       "      <td>abbrev putnam_2007_a4_solution : Set (Polynomi...</td>\n",
       "      <td>A \\emph{repunit} is a positive integer whose d...</td>\n",
       "      <td>['analysis', 'algebra', 'number_theory']</td>\n",
       "    </tr>\n",
       "    <tr>\n",
       "      <th>17</th>\n",
       "      <td>putnam_1980_a2</td>\n",
       "      <td>abbrev putnam_1980_a2_solution : ℕ → ℕ → ℕ := ...</td>\n",
       "      <td>Let $r$ and $s$ be positive integers. Derive a...</td>\n",
       "      <td>['number_theory']</td>\n",
       "    </tr>\n",
       "    <tr>\n",
       "      <th>24</th>\n",
       "      <td>putnam_1980_b4</td>\n",
       "      <td>theorem putnam_1980_b4\\n{T : Type}\\n(X : Finse...</td>\n",
       "      <td>Let $X$ be a finite set with at least $10$ ele...</td>\n",
       "      <td>['set_theory', 'combinatorics']</td>\n",
       "    </tr>\n",
       "    <tr>\n",
       "      <th>...</th>\n",
       "      <td>...</td>\n",
       "      <td>...</td>\n",
       "      <td>...</td>\n",
       "      <td>...</td>\n",
       "    </tr>\n",
       "    <tr>\n",
       "      <th>502</th>\n",
       "      <td>putnam_1993_b5</td>\n",
       "      <td>theorem putnam_1993_b5\\n(pdists : (Fin 4 → (Fi...</td>\n",
       "      <td>Show there do not exist four points in the Euc...</td>\n",
       "      <td>['geometry', 'number_theory', 'linear_algebra']</td>\n",
       "    </tr>\n",
       "    <tr>\n",
       "      <th>504</th>\n",
       "      <td>putnam_2015_a2</td>\n",
       "      <td>abbrev putnam_2015_a2_solution : ℕ := sorry\\n-...</td>\n",
       "      <td>Let $a_0=1$, $a_1=2$, and $a_n=4a_{n-1}-a_{n-2...</td>\n",
       "      <td>['number_theory']</td>\n",
       "    </tr>\n",
       "    <tr>\n",
       "      <th>505</th>\n",
       "      <td>putnam_2015_a3</td>\n",
       "      <td>abbrev putnam_2015_a3_solution : ℂ := sorry\\n-...</td>\n",
       "      <td>Compute $\\log_2 \\left( \\prod_{a=1}^{2015}\\prod...</td>\n",
       "      <td>['number_theory', 'algebra']</td>\n",
       "    </tr>\n",
       "    <tr>\n",
       "      <th>507</th>\n",
       "      <td>putnam_2015_a5</td>\n",
       "      <td>theorem putnam_2015_a5\\n(q : ℕ)\\n(Nq : ℕ)\\n(qo...</td>\n",
       "      <td>Let $q$ be an odd positive integer, and let $N...</td>\n",
       "      <td>['number_theory']</td>\n",
       "    </tr>\n",
       "    <tr>\n",
       "      <th>513</th>\n",
       "      <td>putnam_2015_b6</td>\n",
       "      <td>abbrev putnam_2015_b6_solution : ℝ := sorry\\n-...</td>\n",
       "      <td>For each positive integer $k$, let $A(k)$ be t...</td>\n",
       "      <td>['analysis', 'number_theory']</td>\n",
       "    </tr>\n",
       "  </tbody>\n",
       "</table>\n",
       "<p>110 rows × 4 columns</p>\n",
       "</div>"
      ],
      "text/plain": [
       "               name                                    lean4_statement  \\\n",
       "0    putnam_1981_a1  abbrev putnam_1981_a1_solution : ℝ := sorry\\n-...   \n",
       "5    putnam_1981_b3  theorem putnam_1981_b3\\n(P : ℕ → Prop := fun n...   \n",
       "10   putnam_2007_a4  abbrev putnam_2007_a4_solution : Set (Polynomi...   \n",
       "17   putnam_1980_a2  abbrev putnam_1980_a2_solution : ℕ → ℕ → ℕ := ...   \n",
       "24   putnam_1980_b4  theorem putnam_1980_b4\\n{T : Type}\\n(X : Finse...   \n",
       "..              ...                                                ...   \n",
       "502  putnam_1993_b5  theorem putnam_1993_b5\\n(pdists : (Fin 4 → (Fi...   \n",
       "504  putnam_2015_a2  abbrev putnam_2015_a2_solution : ℕ := sorry\\n-...   \n",
       "505  putnam_2015_a3  abbrev putnam_2015_a3_solution : ℂ := sorry\\n-...   \n",
       "507  putnam_2015_a5  theorem putnam_2015_a5\\n(q : ℕ)\\n(Nq : ℕ)\\n(qo...   \n",
       "513  putnam_2015_b6  abbrev putnam_2015_b6_solution : ℝ := sorry\\n-...   \n",
       "\n",
       "                                    informal_statement  \\\n",
       "0    Let $E(n)$ be the greatest integer $k$ such th...   \n",
       "5    Prove that, for infinitely many positive integ...   \n",
       "10   A \\emph{repunit} is a positive integer whose d...   \n",
       "17   Let $r$ and $s$ be positive integers. Derive a...   \n",
       "24   Let $X$ be a finite set with at least $10$ ele...   \n",
       "..                                                 ...   \n",
       "502  Show there do not exist four points in the Euc...   \n",
       "504  Let $a_0=1$, $a_1=2$, and $a_n=4a_{n-1}-a_{n-2...   \n",
       "505  Compute $\\log_2 \\left( \\prod_{a=1}^{2015}\\prod...   \n",
       "507  Let $q$ be an odd positive integer, and let $N...   \n",
       "513  For each positive integer $k$, let $A(k)$ be t...   \n",
       "\n",
       "                                                tags  \n",
       "0                      ['analysis', 'number_theory']  \n",
       "5                                  ['number_theory']  \n",
       "10          ['analysis', 'algebra', 'number_theory']  \n",
       "17                                 ['number_theory']  \n",
       "24                   ['set_theory', 'combinatorics']  \n",
       "..                                               ...  \n",
       "502  ['geometry', 'number_theory', 'linear_algebra']  \n",
       "504                                ['number_theory']  \n",
       "505                     ['number_theory', 'algebra']  \n",
       "507                                ['number_theory']  \n",
       "513                    ['analysis', 'number_theory']  \n",
       "\n",
       "[110 rows x 4 columns]"
      ]
     },
     "execution_count": 20,
     "metadata": {},
     "output_type": "execute_result"
    }
   ],
   "source": [
    "putnam_df"
   ]
  },
  {
   "cell_type": "markdown",
   "metadata": {},
   "source": [
    "## Mini F2F"
   ]
  },
  {
   "cell_type": "code",
   "execution_count": null,
   "metadata": {},
   "outputs": [],
   "source": []
  }
 ],
 "metadata": {
  "kernelspec": {
   "display_name": "modern_nlp",
   "language": "python",
   "name": "python3"
  },
  "language_info": {
   "codemirror_mode": {
    "name": "ipython",
    "version": 3
   },
   "file_extension": ".py",
   "mimetype": "text/x-python",
   "name": "python",
   "nbconvert_exporter": "python",
   "pygments_lexer": "ipython3",
   "version": "3.10.13"
  }
 },
 "nbformat": 4,
 "nbformat_minor": 2
}
