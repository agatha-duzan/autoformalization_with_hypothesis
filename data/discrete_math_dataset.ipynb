{
 "cells": [
  {
   "cell_type": "markdown",
   "metadata": {},
   "source": [
    "# Discrete Math Dataset"
   ]
  },
  {
   "cell_type": "code",
   "execution_count": 2,
   "metadata": {},
   "outputs": [],
   "source": [
    "import sys\n",
    "import os\n",
    "import pandas as pd\n",
    "import json\n",
    "\n",
    "from datasets import load_dataset, DatasetDict\n",
    "from sklearn.model_selection import train_test_split\n",
    "\n",
    "sys.path.append(os.path.abspath('../'))"
   ]
  },
  {
   "cell_type": "markdown",
   "metadata": {},
   "source": [
    "## Loading and preprocessing the data"
   ]
  },
  {
   "cell_type": "markdown",
   "metadata": {},
   "source": [
    "### Proof Net (?)"
   ]
  },
  {
   "cell_type": "markdown",
   "metadata": {},
   "source": [
    "`hoskinson-center/proofnet` is in LEAN 3, we use the LEAN 4 translation used in the paper *DeepSeek Prover*\n",
    "\n",
    "Not much discrete math, maybe subsets `Ireland-rosen` or `Rudin`?"
   ]
  },
  {
   "cell_type": "code",
   "execution_count": 15,
   "metadata": {},
   "outputs": [],
   "source": [
    "df = pd.read_json('proofnet.jsonl', lines=True)"
   ]
  },
  {
   "cell_type": "code",
   "execution_count": 16,
   "metadata": {},
   "outputs": [],
   "source": [
    "df['name'] = 'proofnet_' + df['name']\n",
    "df = df.drop(columns=['goal'])"
   ]
  },
  {
   "cell_type": "code",
   "execution_count": 17,
   "metadata": {},
   "outputs": [
    {
     "name": "stdout",
     "output_type": "stream",
     "text": [
      "Empty DataFrame\n",
      "Columns: [name, split, informal_prefix, formal_statement, header]\n",
      "Index: []\n"
     ]
    }
   ],
   "source": [
    "rosen_df = df[df['name'].str.contains('rosen')]\n",
    "print(rosen_df)"
   ]
  },
  {
   "cell_type": "code",
   "execution_count": 18,
   "metadata": {},
   "outputs": [
    {
     "data": {
      "text/html": [
       "<div>\n",
       "<style scoped>\n",
       "    .dataframe tbody tr th:only-of-type {\n",
       "        vertical-align: middle;\n",
       "    }\n",
       "\n",
       "    .dataframe tbody tr th {\n",
       "        vertical-align: top;\n",
       "    }\n",
       "\n",
       "    .dataframe thead th {\n",
       "        text-align: right;\n",
       "    }\n",
       "</style>\n",
       "<table border=\"1\" class=\"dataframe\">\n",
       "  <thead>\n",
       "    <tr style=\"text-align: right;\">\n",
       "      <th></th>\n",
       "      <th>name</th>\n",
       "      <th>split</th>\n",
       "      <th>informal_prefix</th>\n",
       "      <th>formal_statement</th>\n",
       "      <th>header</th>\n",
       "    </tr>\n",
       "  </thead>\n",
       "  <tbody>\n",
       "    <tr>\n",
       "      <th>0</th>\n",
       "      <td>proofnet_exercise_1_13a</td>\n",
       "      <td>valid</td>\n",
       "      <td>/-- Suppose that $f$ is holomorphic in an open...</td>\n",
       "      <td>theorem exercise_1_13a {f : ℂ → ℂ} (Ω : Set ℂ)...</td>\n",
       "      <td>import Mathlib\\n\\nopen Complex Filter Function...</td>\n",
       "    </tr>\n",
       "    <tr>\n",
       "      <th>1</th>\n",
       "      <td>proofnet_exercise_1_13b</td>\n",
       "      <td>test</td>\n",
       "      <td>/-- Suppose that $f$ is holomorphic in an open...</td>\n",
       "      <td>theorem exercise_1_13b {f : ℂ → ℂ} (Ω : Set ℂ)...</td>\n",
       "      <td>import Mathlib\\n\\nopen Complex Filter Function...</td>\n",
       "    </tr>\n",
       "    <tr>\n",
       "      <th>2</th>\n",
       "      <td>proofnet_exercise_1_13c</td>\n",
       "      <td>valid</td>\n",
       "      <td>/-- Suppose that $f$ is holomorphic in an open...</td>\n",
       "      <td>theorem exercise_1_13c {f : ℂ → ℂ} (Ω : Set ℂ)...</td>\n",
       "      <td>import Mathlib\\n\\nopen Complex Filter Function...</td>\n",
       "    </tr>\n",
       "    <tr>\n",
       "      <th>3</th>\n",
       "      <td>proofnet_exercise_1_19a</td>\n",
       "      <td>test</td>\n",
       "      <td>/-- Prove that the power series $\\sum nz^n$ do...</td>\n",
       "      <td>theorem exercise_1_19a (z : ℂ) (hz : abs z = 1...</td>\n",
       "      <td>import Mathlib\\n\\nopen Complex Filter Function...</td>\n",
       "    </tr>\n",
       "    <tr>\n",
       "      <th>4</th>\n",
       "      <td>proofnet_exercise_1_19b</td>\n",
       "      <td>valid</td>\n",
       "      <td>/-- Prove that the power series $\\sum zn/n^2$ ...</td>\n",
       "      <td>theorem exercise_1_19b (z : ℂ) (hz : abs z = 1...</td>\n",
       "      <td>import Mathlib\\n\\nopen Complex Filter Function...</td>\n",
       "    </tr>\n",
       "  </tbody>\n",
       "</table>\n",
       "</div>"
      ],
      "text/plain": [
       "                      name  split  \\\n",
       "0  proofnet_exercise_1_13a  valid   \n",
       "1  proofnet_exercise_1_13b   test   \n",
       "2  proofnet_exercise_1_13c  valid   \n",
       "3  proofnet_exercise_1_19a   test   \n",
       "4  proofnet_exercise_1_19b  valid   \n",
       "\n",
       "                                     informal_prefix  \\\n",
       "0  /-- Suppose that $f$ is holomorphic in an open...   \n",
       "1  /-- Suppose that $f$ is holomorphic in an open...   \n",
       "2  /-- Suppose that $f$ is holomorphic in an open...   \n",
       "3  /-- Prove that the power series $\\sum nz^n$ do...   \n",
       "4  /-- Prove that the power series $\\sum zn/n^2$ ...   \n",
       "\n",
       "                                    formal_statement  \\\n",
       "0  theorem exercise_1_13a {f : ℂ → ℂ} (Ω : Set ℂ)...   \n",
       "1  theorem exercise_1_13b {f : ℂ → ℂ} (Ω : Set ℂ)...   \n",
       "2  theorem exercise_1_13c {f : ℂ → ℂ} (Ω : Set ℂ)...   \n",
       "3  theorem exercise_1_19a (z : ℂ) (hz : abs z = 1...   \n",
       "4  theorem exercise_1_19b (z : ℂ) (hz : abs z = 1...   \n",
       "\n",
       "                                              header  \n",
       "0  import Mathlib\\n\\nopen Complex Filter Function...  \n",
       "1  import Mathlib\\n\\nopen Complex Filter Function...  \n",
       "2  import Mathlib\\n\\nopen Complex Filter Function...  \n",
       "3  import Mathlib\\n\\nopen Complex Filter Function...  \n",
       "4  import Mathlib\\n\\nopen Complex Filter Function...  "
      ]
     },
     "execution_count": 18,
     "metadata": {},
     "output_type": "execute_result"
    }
   ],
   "source": [
    "df.head()"
   ]
  },
  {
   "cell_type": "code",
   "execution_count": 19,
   "metadata": {},
   "outputs": [
    {
     "name": "stdout",
     "output_type": "stream",
     "text": [
      "/-- Suppose that $f$ is holomorphic in an open set $\\Omega$. Prove that if $\\text{Re}(f)$ is constant, then $f$ is constant.-/\n",
      "\n"
     ]
    }
   ],
   "source": [
    "print(putnam_NT_putnam_NT_df.iloc[0].informal_prefix)"
   ]
  },
  {
   "cell_type": "code",
   "execution_count": 20,
   "metadata": {},
   "outputs": [
    {
     "name": "stdout",
     "output_type": "stream",
     "text": [
      "theorem exercise_1_13a {f : ℂ → ℂ} (Ω : Set ℂ) (a b : Ω) (h : IsOpen Ω)\n",
      "  (hf : DifferentiableOn ℂ f Ω) (hc : ∃ (c : ℝ), ∀ z ∈ Ω, (f z).re = c) :\n",
      "  f a = f b :=\n"
     ]
    }
   ],
   "source": [
    "print(df.iloc[0].formal_statement)"
   ]
  },
  {
   "cell_type": "code",
   "execution_count": 21,
   "metadata": {},
   "outputs": [
    {
     "name": "stdout",
     "output_type": "stream",
     "text": [
      "\n",
      "open scoped BigOperators\n",
      "| 0 => sqrt 2\n",
      "  generateFrom {S : Set X | ∃ a b, a < b ∧ S = Ico a b}\n",
      "def countably_compact (X : Type*) [TopologicalSpace X] :=\n",
      "def rational (x : ℝ) := x ∈ range ((↑) : ℚ → ℝ)\n",
      "  ∀ U : Set X, Infinite U → ∃ x ∈ U, ClusterPt x (𝓟 U)\n",
      "noncomputable section\n",
      "def lower_limit_topology (X : Type) [Preorder X] :=\n",
      "  (∀ i, IsOpen (U i)) ∧ ((univ : Set X) ⊆ ⋃ i, U i) →\n",
      "  (∃ t : Finset ℕ, (univ : Set X) ⊆ ⋃ i ∈ t, U i)\n",
      "open Topology Filter Real Complex TopologicalSpace Finset\n",
      "| (n + 1) => sqrt (2 + sqrt (f n))\n",
      "open scoped BigOperators Topology\n",
      "open Fintype Set Real Ideal Polynomial\n",
      "  ∀ U : ℕ → Set X,\n",
      "  univ ∈ T ∧\n",
      "import Mathlib\n",
      "  ({S : Set ℝ | ∃ a b, a < b ∧ S = Ioo a b} ∪ {S : Set ℝ | ∃ a b, a < b ∧ S = Ioo a b \\ K})\n",
      "open Complex Filter Function Metric Finset\n",
      "def K : Set ℝ := {r | ∃ n : ℕ, r = 1 / n}\n",
      "noncomputable def f : ℕ → ℝ\n",
      "def g (n : ℕ) : ℝ := sqrt (n + 1) - sqrt n\n",
      "set_option checkBinderAnnotations false\n",
      "open Filter Real Function\n",
      "open RingHom\n",
      "--center of (G × H) equivalent, preserves multiplication with (center G) × (center H)\n",
      "  (∀ s t, s ∈ T → t ∈ T → s ∩ t ∈ T) ∧\n",
      "def limit_point_compact (X : Type*) [TopologicalSpace X] :=\n",
      "open Filter Set TopologicalSpace\n",
      "open Function Fintype Subgroup Ideal Polynomial Submodule Zsqrtd\n",
      "def Rl := lower_limit_topology ℝ\n",
      "open Fintype Subgroup Set Polynomial Ideal\n",
      "open scoped Topology\n",
      "  (∀s, (∀t ∈ s, t ∈ T) → sUnion s ∈ T)\n",
      "abbrev I : Set ℝ := Icc 0 1\n",
      "open Fintype Complex Polynomial LinearMap FiniteDimensional Module Module.End\n",
      "def is_topology (X : Type*) (T : Set (Set X)) :=\n",
      "def K_topology := generateFrom\n",
      "open Real\n"
     ]
    }
   ],
   "source": [
    "topics = set()\n",
    "for i in range(len(df)):\n",
    "    topics.update(df.iloc[i]['header'].split('\\n'))\n",
    "\n",
    "for topic in topics:\n",
    "    print(topic)"
   ]
  },
  {
   "cell_type": "code",
   "execution_count": 23,
   "metadata": {},
   "outputs": [
    {
     "ename": "Exception",
     "evalue": "stop",
     "output_type": "error",
     "traceback": [
      "\u001b[0;31m---------------------------------------------------------------------------\u001b[0m",
      "\u001b[0;31mException\u001b[0m                                 Traceback (most recent call last)",
      "Cell \u001b[0;32mIn[23], line 1\u001b[0m\n\u001b[0;32m----> 1\u001b[0m \u001b[38;5;28;01mraise\u001b[39;00m \u001b[38;5;167;01mException\u001b[39;00m(\u001b[38;5;124m'\u001b[39m\u001b[38;5;124mstop\u001b[39m\u001b[38;5;124m'\u001b[39m)\n",
      "\u001b[0;31mException\u001b[0m: stop"
     ]
    }
   ],
   "source": [
    "raise Exception('stop')"
   ]
  },
  {
   "cell_type": "markdown",
   "metadata": {},
   "source": [
    "### Putnam Bench (110 - 98)"
   ]
  },
  {
   "cell_type": "markdown",
   "metadata": {},
   "source": [
    "- 110 rows for `{'set_theory', 'probability', 'number_theory', 'combinatorics'}`\n",
    "- 98 rows for `number_theory`"
   ]
  },
  {
   "cell_type": "code",
   "execution_count": 24,
   "metadata": {},
   "outputs": [
    {
     "name": "stderr",
     "output_type": "stream",
     "text": [
      "Repo card metadata block was not found. Setting CardData to empty.\n"
     ]
    }
   ],
   "source": [
    "ds = load_dataset(\"amitayusht/PutnamBench\")"
   ]
  },
  {
   "cell_type": "code",
   "execution_count": 25,
   "metadata": {},
   "outputs": [],
   "source": [
    "df = pd.DataFrame(ds['train'])"
   ]
  },
  {
   "cell_type": "code",
   "execution_count": 26,
   "metadata": {},
   "outputs": [],
   "source": [
    "df = df.drop(columns=['coq_statement', 'isabelle_statement', 'informal_solution'])\n",
    "df = df.dropna()\n",
    "df = df.rename(columns={'lean4_statement': 'formal_statement'})\n",
    "\n",
    "df['header'] = df['formal_statement'].apply(lambda x: x.split('theorem', 1)[0])\n",
    "df['formal_statement'] = df['formal_statement'].apply(lambda x: 'theorem' + x.split('theorem', 1)[1] if 'theorem' in x else x)"
   ]
  },
  {
   "cell_type": "code",
   "execution_count": 12,
   "metadata": {},
   "outputs": [
    {
     "name": "stdout",
     "output_type": "stream",
     "text": [
      "{'set_theory', 'number_theory', 'combinatorics', 'abstract_algebra', 'probability', 'analysis', 'algebra', 'linear_algebra', 'geometry'}\n"
     ]
    }
   ],
   "source": [
    "all_tags = set()\n",
    "\n",
    "for tags in df.tags.unique():\n",
    "    tags = tags.replace('[', '').replace(']', '').replace('\\'', '')\n",
    "    tags = tags\n",
    "    tag_list = tags.split(',')\n",
    "    for tag in tag_list:\n",
    "        all_tags.add(tag.strip())\n",
    "\n",
    "print(all_tags)"
   ]
  },
  {
   "cell_type": "code",
   "execution_count": 13,
   "metadata": {},
   "outputs": [],
   "source": [
    "wanted_tags = ['set_theory', 'probability', 'number_theory', 'combinatorics']\n",
    "putnam_df = df[df.tags.str.contains('|'.join(wanted_tags))]\n",
    "\n",
    "putnam_NT_df = df[df.tags.str.contains('number_theory')]\n"
   ]
  },
  {
   "cell_type": "code",
   "execution_count": null,
   "metadata": {},
   "outputs": [],
   "source": []
  },
  {
   "cell_type": "code",
   "execution_count": 14,
   "metadata": {},
   "outputs": [
    {
     "data": {
      "text/html": [
       "<div>\n",
       "<style scoped>\n",
       "    .dataframe tbody tr th:only-of-type {\n",
       "        vertical-align: middle;\n",
       "    }\n",
       "\n",
       "    .dataframe tbody tr th {\n",
       "        vertical-align: top;\n",
       "    }\n",
       "\n",
       "    .dataframe thead th {\n",
       "        text-align: right;\n",
       "    }\n",
       "</style>\n",
       "<table border=\"1\" class=\"dataframe\">\n",
       "  <thead>\n",
       "    <tr style=\"text-align: right;\">\n",
       "      <th></th>\n",
       "      <th>name</th>\n",
       "      <th>formal_statement</th>\n",
       "      <th>informal_statement</th>\n",
       "      <th>tags</th>\n",
       "    </tr>\n",
       "  </thead>\n",
       "  <tbody>\n",
       "    <tr>\n",
       "      <th>0</th>\n",
       "      <td>putnam_1981_a1</td>\n",
       "      <td>abbrev putnam_1981_a1_solution : ℝ := sorry\\n-...</td>\n",
       "      <td>Let $E(n)$ be the greatest integer $k$ such th...</td>\n",
       "      <td>['analysis', 'number_theory']</td>\n",
       "    </tr>\n",
       "    <tr>\n",
       "      <th>5</th>\n",
       "      <td>putnam_1981_b3</td>\n",
       "      <td>theorem putnam_1981_b3\\n(P : ℕ → Prop := fun n...</td>\n",
       "      <td>Prove that, for infinitely many positive integ...</td>\n",
       "      <td>['number_theory']</td>\n",
       "    </tr>\n",
       "    <tr>\n",
       "      <th>10</th>\n",
       "      <td>putnam_2007_a4</td>\n",
       "      <td>abbrev putnam_2007_a4_solution : Set (Polynomi...</td>\n",
       "      <td>A \\emph{repunit} is a positive integer whose d...</td>\n",
       "      <td>['analysis', 'algebra', 'number_theory']</td>\n",
       "    </tr>\n",
       "    <tr>\n",
       "      <th>17</th>\n",
       "      <td>putnam_1980_a2</td>\n",
       "      <td>abbrev putnam_1980_a2_solution : ℕ → ℕ → ℕ := ...</td>\n",
       "      <td>Let $r$ and $s$ be positive integers. Derive a...</td>\n",
       "      <td>['number_theory']</td>\n",
       "    </tr>\n",
       "    <tr>\n",
       "      <th>26</th>\n",
       "      <td>putnam_1980_b6</td>\n",
       "      <td>theorem putnam_1980_b6\\n(G : ℤ × ℤ → ℚ)\\n(hG :...</td>\n",
       "      <td>For integers $d, n$ with $1 \\le d \\le n$, let ...</td>\n",
       "      <td>['number_theory', 'algebra']</td>\n",
       "    </tr>\n",
       "  </tbody>\n",
       "</table>\n",
       "</div>"
      ],
      "text/plain": [
       "              name                                   formal_statement  \\\n",
       "0   putnam_1981_a1  abbrev putnam_1981_a1_solution : ℝ := sorry\\n-...   \n",
       "5   putnam_1981_b3  theorem putnam_1981_b3\\n(P : ℕ → Prop := fun n...   \n",
       "10  putnam_2007_a4  abbrev putnam_2007_a4_solution : Set (Polynomi...   \n",
       "17  putnam_1980_a2  abbrev putnam_1980_a2_solution : ℕ → ℕ → ℕ := ...   \n",
       "26  putnam_1980_b6  theorem putnam_1980_b6\\n(G : ℤ × ℤ → ℚ)\\n(hG :...   \n",
       "\n",
       "                                   informal_statement  \\\n",
       "0   Let $E(n)$ be the greatest integer $k$ such th...   \n",
       "5   Prove that, for infinitely many positive integ...   \n",
       "10  A \\emph{repunit} is a positive integer whose d...   \n",
       "17  Let $r$ and $s$ be positive integers. Derive a...   \n",
       "26  For integers $d, n$ with $1 \\le d \\le n$, let ...   \n",
       "\n",
       "                                        tags  \n",
       "0              ['analysis', 'number_theory']  \n",
       "5                          ['number_theory']  \n",
       "10  ['analysis', 'algebra', 'number_theory']  \n",
       "17                         ['number_theory']  \n",
       "26              ['number_theory', 'algebra']  "
      ]
     },
     "execution_count": 14,
     "metadata": {},
     "output_type": "execute_result"
    }
   ],
   "source": [
    "putnam_NT_df.head()"
   ]
  },
  {
   "cell_type": "markdown",
   "metadata": {},
   "source": [
    "#### Look at the data:"
   ]
  },
  {
   "cell_type": "code",
   "execution_count": 15,
   "metadata": {},
   "outputs": [
    {
     "name": "stdout",
     "output_type": "stream",
     "text": [
      "Let $E(n)$ be the greatest integer $k$ such that $5^k$ divides $1^1 2^2 3^3 \\cdots n^n$. Find $\\lim_{n \\rightarrow \\infty} \\frac{E(n)}{n^2}$.\n"
     ]
    }
   ],
   "source": [
    "print(putnam_NT_df.iloc[0].informal_statement)"
   ]
  },
  {
   "cell_type": "code",
   "execution_count": 16,
   "metadata": {},
   "outputs": [
    {
     "name": "stdout",
     "output_type": "stream",
     "text": [
      "abbrev putnam_1981_a1_solution : ℝ := sorry\n",
      "-- 1/8\n",
      "theorem putnam_1981_a1\n",
      "(P : ℕ → ℕ → Prop := fun n k : ℕ => 5^k ∣ ∏ m in Finset.Icc 1 n, (m^m : ℤ))\n",
      "(E : ℕ → ℕ)\n",
      "(hE : ∀ n ∈ Ici 1, P n (E n) ∧ ∀ k : ℕ, P n k → k ≤ E n)\n",
      ": Tendsto (fun n : ℕ => ((E n) : ℝ)/n^2) atTop (𝓝 putnam_1981_a1_solution) :=\n",
      "sorry\n"
     ]
    }
   ],
   "source": [
    "print(putnam_NT_df.iloc[0].formal_statement)"
   ]
  },
  {
   "cell_type": "code",
   "execution_count": 17,
   "metadata": {},
   "outputs": [
    {
     "ename": "Exception",
     "evalue": "stop",
     "output_type": "error",
     "traceback": [
      "\u001b[0;31m---------------------------------------------------------------------------\u001b[0m",
      "\u001b[0;31mException\u001b[0m                                 Traceback (most recent call last)",
      "Cell \u001b[0;32mIn[17], line 1\u001b[0m\n\u001b[0;32m----> 1\u001b[0m \u001b[38;5;28;01mraise\u001b[39;00m \u001b[38;5;167;01mException\u001b[39;00m(\u001b[38;5;124m'\u001b[39m\u001b[38;5;124mstop\u001b[39m\u001b[38;5;124m'\u001b[39m)\n",
      "\u001b[0;31mException\u001b[0m: stop"
     ]
    }
   ],
   "source": [
    "raise Exception('stop')"
   ]
  },
  {
   "cell_type": "markdown",
   "metadata": {},
   "source": [
    "### Mini F2F (136)"
   ]
  },
  {
   "cell_type": "markdown",
   "metadata": {},
   "source": [
    "Keep only rows about `number_theory`"
   ]
  },
  {
   "cell_type": "code",
   "execution_count": 18,
   "metadata": {},
   "outputs": [],
   "source": [
    "df = pd.read_json('minif2f.jsonl', lines=True)"
   ]
  },
  {
   "cell_type": "code",
   "execution_count": 19,
   "metadata": {},
   "outputs": [],
   "source": [
    "df['name'] = 'f2f_' + df['name']\n",
    "df = df.drop(columns=['goal'])\n",
    "df = df.rename(columns={'informal_prefix': 'informal_statement'})\n",
    "df = df[df['name'].str.contains('numbertheory')]"
   ]
  },
  {
   "cell_type": "code",
   "execution_count": 20,
   "metadata": {},
   "outputs": [
    {
     "data": {
      "text/html": [
       "<div>\n",
       "<style scoped>\n",
       "    .dataframe tbody tr th:only-of-type {\n",
       "        vertical-align: middle;\n",
       "    }\n",
       "\n",
       "    .dataframe tbody tr th {\n",
       "        vertical-align: top;\n",
       "    }\n",
       "\n",
       "    .dataframe thead th {\n",
       "        text-align: right;\n",
       "    }\n",
       "</style>\n",
       "<table border=\"1\" class=\"dataframe\">\n",
       "  <thead>\n",
       "    <tr style=\"text-align: right;\">\n",
       "      <th></th>\n",
       "      <th>name</th>\n",
       "      <th>split</th>\n",
       "      <th>informal_statement</th>\n",
       "      <th>formal_statement</th>\n",
       "      <th>header</th>\n",
       "    </tr>\n",
       "  </thead>\n",
       "  <tbody>\n",
       "    <tr>\n",
       "      <th>5</th>\n",
       "      <td>f2f_mathd_numbertheory_780</td>\n",
       "      <td>valid</td>\n",
       "      <td>/-- Suppose $m$ is a two-digit positive intege...</td>\n",
       "      <td>theorem mathd_numbertheory_780 (m x : ℤ) (h₀ :...</td>\n",
       "      <td>import Mathlib\\nimport Aesop\\n\\nset_option max...</td>\n",
       "    </tr>\n",
       "    <tr>\n",
       "      <th>7</th>\n",
       "      <td>f2f_mathd_numbertheory_13</td>\n",
       "      <td>valid</td>\n",
       "      <td>/-- What is the average of the two smallest po...</td>\n",
       "      <td>theorem mathd_numbertheory_13 (u v : ℕ) (S : S...</td>\n",
       "      <td>import Mathlib\\nimport Aesop\\n\\nset_option max...</td>\n",
       "    </tr>\n",
       "    <tr>\n",
       "      <th>8</th>\n",
       "      <td>f2f_mathd_numbertheory_169</td>\n",
       "      <td>valid</td>\n",
       "      <td>/-- What is the greatest common factor of $20 ...</td>\n",
       "      <td>theorem mathd_numbertheory_169 : Nat.gcd 20! 2...</td>\n",
       "      <td>import Mathlib\\nimport Aesop\\n\\nset_option max...</td>\n",
       "    </tr>\n",
       "    <tr>\n",
       "      <th>14</th>\n",
       "      <td>f2f_mathd_numbertheory_149</td>\n",
       "      <td>valid</td>\n",
       "      <td>/-- A group of $N$ students, where $N &lt; 50$, i...</td>\n",
       "      <td>theorem mathd_numbertheory_149 :\\n  (∑ k in Fi...</td>\n",
       "      <td>import Mathlib\\nimport Aesop\\n\\nset_option max...</td>\n",
       "    </tr>\n",
       "    <tr>\n",
       "      <th>20</th>\n",
       "      <td>f2f_mathd_numbertheory_221</td>\n",
       "      <td>valid</td>\n",
       "      <td>/-- How many natural numbers less than 1000 ha...</td>\n",
       "      <td>theorem mathd_numbertheory_221 (S : Finset ℕ)\\...</td>\n",
       "      <td>import Mathlib\\nimport Aesop\\n\\nset_option max...</td>\n",
       "    </tr>\n",
       "  </tbody>\n",
       "</table>\n",
       "</div>"
      ],
      "text/plain": [
       "                          name  split  \\\n",
       "5   f2f_mathd_numbertheory_780  valid   \n",
       "7    f2f_mathd_numbertheory_13  valid   \n",
       "8   f2f_mathd_numbertheory_169  valid   \n",
       "14  f2f_mathd_numbertheory_149  valid   \n",
       "20  f2f_mathd_numbertheory_221  valid   \n",
       "\n",
       "                                   informal_statement  \\\n",
       "5   /-- Suppose $m$ is a two-digit positive intege...   \n",
       "7   /-- What is the average of the two smallest po...   \n",
       "8   /-- What is the greatest common factor of $20 ...   \n",
       "14  /-- A group of $N$ students, where $N < 50$, i...   \n",
       "20  /-- How many natural numbers less than 1000 ha...   \n",
       "\n",
       "                                     formal_statement  \\\n",
       "5   theorem mathd_numbertheory_780 (m x : ℤ) (h₀ :...   \n",
       "7   theorem mathd_numbertheory_13 (u v : ℕ) (S : S...   \n",
       "8   theorem mathd_numbertheory_169 : Nat.gcd 20! 2...   \n",
       "14  theorem mathd_numbertheory_149 :\\n  (∑ k in Fi...   \n",
       "20  theorem mathd_numbertheory_221 (S : Finset ℕ)\\...   \n",
       "\n",
       "                                               header  \n",
       "5   import Mathlib\\nimport Aesop\\n\\nset_option max...  \n",
       "7   import Mathlib\\nimport Aesop\\n\\nset_option max...  \n",
       "8   import Mathlib\\nimport Aesop\\n\\nset_option max...  \n",
       "14  import Mathlib\\nimport Aesop\\n\\nset_option max...  \n",
       "20  import Mathlib\\nimport Aesop\\n\\nset_option max...  "
      ]
     },
     "execution_count": 20,
     "metadata": {},
     "output_type": "execute_result"
    }
   ],
   "source": [
    "df.head()"
   ]
  },
  {
   "cell_type": "markdown",
   "metadata": {},
   "source": [
    "#### Look at the data:"
   ]
  },
  {
   "cell_type": "code",
   "execution_count": 21,
   "metadata": {},
   "outputs": [
    {
     "name": "stdout",
     "output_type": "stream",
     "text": [
      "/-- Suppose $m$ is a two-digit positive integer such that $6^{-1}\\pmod m$ exists and $6^{-1}\\equiv 6^2\\pmod m$. What is $m$? Show that it is 43.-/\n",
      "\n"
     ]
    }
   ],
   "source": [
    "print(df.iloc[0].informal_statement)"
   ]
  },
  {
   "cell_type": "code",
   "execution_count": 22,
   "metadata": {},
   "outputs": [
    {
     "name": "stdout",
     "output_type": "stream",
     "text": [
      "import Mathlib\n",
      "import Aesop\n",
      "\n",
      "set_option maxHeartbeats 0\n",
      "\n",
      "open BigOperators Real Nat Topology Rat\n",
      "\n",
      "\n"
     ]
    }
   ],
   "source": [
    "print(df.iloc[0].header)"
   ]
  },
  {
   "cell_type": "code",
   "execution_count": 23,
   "metadata": {},
   "outputs": [
    {
     "name": "stdout",
     "output_type": "stream",
     "text": [
      "theorem mathd_numbertheory_780 (m x : ℤ) (h₀ : 0 ≤ x) (h₁ : 10 ≤ m ∧ m ≤ 99) (h₂ : 6 * x % m = 1)\n",
      "  (h₃ : (x - 6 ^ 2) % m = 0) : m = 43 := by\n",
      "\n"
     ]
    }
   ],
   "source": [
    "print(df.iloc[0].formal_statement)"
   ]
  },
  {
   "cell_type": "markdown",
   "metadata": {},
   "source": [
    "## Aggregating the data"
   ]
  },
  {
   "cell_type": "code",
   "execution_count": null,
   "metadata": {},
   "outputs": [],
   "source": []
  }
 ],
 "metadata": {
  "kernelspec": {
   "display_name": "modern_nlp",
   "language": "python",
   "name": "python3"
  },
  "language_info": {
   "codemirror_mode": {
    "name": "ipython",
    "version": 3
   },
   "file_extension": ".py",
   "mimetype": "text/x-python",
   "name": "python",
   "nbconvert_exporter": "python",
   "pygments_lexer": "ipython3",
   "version": "3.10.13"
  }
 },
 "nbformat": 4,
 "nbformat_minor": 2
}
