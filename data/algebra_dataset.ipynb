{
 "cells": [
  {
   "cell_type": "markdown",
   "metadata": {},
   "source": [
    "# Algebra Dataset"
   ]
  },
  {
   "cell_type": "code",
   "execution_count": 21,
   "metadata": {},
   "outputs": [],
   "source": [
    "import sys\n",
    "import os\n",
    "import pandas as pd\n",
    "import json\n",
    "\n",
    "from datasets import load_dataset, DatasetDict\n",
    "from sklearn.model_selection import train_test_split\n",
    "\n",
    "sys.path.append(os.path.abspath('../'))"
   ]
  },
  {
   "cell_type": "markdown",
   "metadata": {},
   "source": [
    "## Loading and preprocessing the data"
   ]
  },
  {
   "cell_type": "markdown",
   "metadata": {},
   "source": [
    "### Proof Net (?)"
   ]
  },
  {
   "cell_type": "markdown",
   "metadata": {},
   "source": [
    "`hoskinson-center/proofnet` is in LEAN 3, we use the LEAN 4 translation used in the paper *DeepSeek Prover*\n",
    "\n",
    "Not much discrete math, maybe subsets `Ireland-rosen` or `Rudin`?"
   ]
  },
  {
   "cell_type": "code",
   "execution_count": 15,
   "metadata": {},
   "outputs": [],
   "source": [
    "df = pd.read_json('proofnet.jsonl', lines=True)"
   ]
  },
  {
   "cell_type": "code",
   "execution_count": 16,
   "metadata": {},
   "outputs": [],
   "source": [
    "df['name'] = 'proofnet_' + df['name']\n",
    "df = df.drop(columns=['goal'])"
   ]
  },
  {
   "cell_type": "code",
   "execution_count": 17,
   "metadata": {},
   "outputs": [
    {
     "name": "stdout",
     "output_type": "stream",
     "text": [
      "Empty DataFrame\n",
      "Columns: [name, split, informal_prefix, formal_statement, header]\n",
      "Index: []\n"
     ]
    }
   ],
   "source": [
    "rosen_df = df[df['name'].str.contains('rosen')]\n",
    "print(rosen_df)"
   ]
  },
  {
   "cell_type": "code",
   "execution_count": 18,
   "metadata": {},
   "outputs": [
    {
     "data": {
      "text/html": [
       "<div>\n",
       "<style scoped>\n",
       "    .dataframe tbody tr th:only-of-type {\n",
       "        vertical-align: middle;\n",
       "    }\n",
       "\n",
       "    .dataframe tbody tr th {\n",
       "        vertical-align: top;\n",
       "    }\n",
       "\n",
       "    .dataframe thead th {\n",
       "        text-align: right;\n",
       "    }\n",
       "</style>\n",
       "<table border=\"1\" class=\"dataframe\">\n",
       "  <thead>\n",
       "    <tr style=\"text-align: right;\">\n",
       "      <th></th>\n",
       "      <th>name</th>\n",
       "      <th>split</th>\n",
       "      <th>informal_prefix</th>\n",
       "      <th>formal_statement</th>\n",
       "      <th>header</th>\n",
       "    </tr>\n",
       "  </thead>\n",
       "  <tbody>\n",
       "    <tr>\n",
       "      <th>0</th>\n",
       "      <td>proofnet_exercise_1_13a</td>\n",
       "      <td>valid</td>\n",
       "      <td>/-- Suppose that $f$ is holomorphic in an open...</td>\n",
       "      <td>theorem exercise_1_13a {f : ℂ → ℂ} (Ω : Set ℂ)...</td>\n",
       "      <td>import Mathlib\\n\\nopen Complex Filter Function...</td>\n",
       "    </tr>\n",
       "    <tr>\n",
       "      <th>1</th>\n",
       "      <td>proofnet_exercise_1_13b</td>\n",
       "      <td>test</td>\n",
       "      <td>/-- Suppose that $f$ is holomorphic in an open...</td>\n",
       "      <td>theorem exercise_1_13b {f : ℂ → ℂ} (Ω : Set ℂ)...</td>\n",
       "      <td>import Mathlib\\n\\nopen Complex Filter Function...</td>\n",
       "    </tr>\n",
       "    <tr>\n",
       "      <th>2</th>\n",
       "      <td>proofnet_exercise_1_13c</td>\n",
       "      <td>valid</td>\n",
       "      <td>/-- Suppose that $f$ is holomorphic in an open...</td>\n",
       "      <td>theorem exercise_1_13c {f : ℂ → ℂ} (Ω : Set ℂ)...</td>\n",
       "      <td>import Mathlib\\n\\nopen Complex Filter Function...</td>\n",
       "    </tr>\n",
       "    <tr>\n",
       "      <th>3</th>\n",
       "      <td>proofnet_exercise_1_19a</td>\n",
       "      <td>test</td>\n",
       "      <td>/-- Prove that the power series $\\sum nz^n$ do...</td>\n",
       "      <td>theorem exercise_1_19a (z : ℂ) (hz : abs z = 1...</td>\n",
       "      <td>import Mathlib\\n\\nopen Complex Filter Function...</td>\n",
       "    </tr>\n",
       "    <tr>\n",
       "      <th>4</th>\n",
       "      <td>proofnet_exercise_1_19b</td>\n",
       "      <td>valid</td>\n",
       "      <td>/-- Prove that the power series $\\sum zn/n^2$ ...</td>\n",
       "      <td>theorem exercise_1_19b (z : ℂ) (hz : abs z = 1...</td>\n",
       "      <td>import Mathlib\\n\\nopen Complex Filter Function...</td>\n",
       "    </tr>\n",
       "  </tbody>\n",
       "</table>\n",
       "</div>"
      ],
      "text/plain": [
       "                      name  split  \\\n",
       "0  proofnet_exercise_1_13a  valid   \n",
       "1  proofnet_exercise_1_13b   test   \n",
       "2  proofnet_exercise_1_13c  valid   \n",
       "3  proofnet_exercise_1_19a   test   \n",
       "4  proofnet_exercise_1_19b  valid   \n",
       "\n",
       "                                     informal_prefix  \\\n",
       "0  /-- Suppose that $f$ is holomorphic in an open...   \n",
       "1  /-- Suppose that $f$ is holomorphic in an open...   \n",
       "2  /-- Suppose that $f$ is holomorphic in an open...   \n",
       "3  /-- Prove that the power series $\\sum nz^n$ do...   \n",
       "4  /-- Prove that the power series $\\sum zn/n^2$ ...   \n",
       "\n",
       "                                    formal_statement  \\\n",
       "0  theorem exercise_1_13a {f : ℂ → ℂ} (Ω : Set ℂ)...   \n",
       "1  theorem exercise_1_13b {f : ℂ → ℂ} (Ω : Set ℂ)...   \n",
       "2  theorem exercise_1_13c {f : ℂ → ℂ} (Ω : Set ℂ)...   \n",
       "3  theorem exercise_1_19a (z : ℂ) (hz : abs z = 1...   \n",
       "4  theorem exercise_1_19b (z : ℂ) (hz : abs z = 1...   \n",
       "\n",
       "                                              header  \n",
       "0  import Mathlib\\n\\nopen Complex Filter Function...  \n",
       "1  import Mathlib\\n\\nopen Complex Filter Function...  \n",
       "2  import Mathlib\\n\\nopen Complex Filter Function...  \n",
       "3  import Mathlib\\n\\nopen Complex Filter Function...  \n",
       "4  import Mathlib\\n\\nopen Complex Filter Function...  "
      ]
     },
     "execution_count": 18,
     "metadata": {},
     "output_type": "execute_result"
    }
   ],
   "source": [
    "df.head()"
   ]
  },
  {
   "cell_type": "code",
   "execution_count": 19,
   "metadata": {},
   "outputs": [
    {
     "name": "stdout",
     "output_type": "stream",
     "text": [
      "/-- Suppose that $f$ is holomorphic in an open set $\\Omega$. Prove that if $\\text{Re}(f)$ is constant, then $f$ is constant.-/\n",
      "\n"
     ]
    }
   ],
   "source": [
    "print(putnam_NT_putnam_NT_df.iloc[0].informal_prefix)"
   ]
  },
  {
   "cell_type": "code",
   "execution_count": 20,
   "metadata": {},
   "outputs": [
    {
     "name": "stdout",
     "output_type": "stream",
     "text": [
      "theorem exercise_1_13a {f : ℂ → ℂ} (Ω : Set ℂ) (a b : Ω) (h : IsOpen Ω)\n",
      "  (hf : DifferentiableOn ℂ f Ω) (hc : ∃ (c : ℝ), ∀ z ∈ Ω, (f z).re = c) :\n",
      "  f a = f b :=\n"
     ]
    }
   ],
   "source": [
    "print(df.iloc[0].formal_statement)"
   ]
  },
  {
   "cell_type": "code",
   "execution_count": 21,
   "metadata": {},
   "outputs": [
    {
     "name": "stdout",
     "output_type": "stream",
     "text": [
      "\n",
      "open scoped BigOperators\n",
      "| 0 => sqrt 2\n",
      "  generateFrom {S : Set X | ∃ a b, a < b ∧ S = Ico a b}\n",
      "def countably_compact (X : Type*) [TopologicalSpace X] :=\n",
      "def rational (x : ℝ) := x ∈ range ((↑) : ℚ → ℝ)\n",
      "  ∀ U : Set X, Infinite U → ∃ x ∈ U, ClusterPt x (𝓟 U)\n",
      "noncomputable section\n",
      "def lower_limit_topology (X : Type) [Preorder X] :=\n",
      "  (∀ i, IsOpen (U i)) ∧ ((univ : Set X) ⊆ ⋃ i, U i) →\n",
      "  (∃ t : Finset ℕ, (univ : Set X) ⊆ ⋃ i ∈ t, U i)\n",
      "open Topology Filter Real Complex TopologicalSpace Finset\n",
      "| (n + 1) => sqrt (2 + sqrt (f n))\n",
      "open scoped BigOperators Topology\n",
      "open Fintype Set Real Ideal Polynomial\n",
      "  ∀ U : ℕ → Set X,\n",
      "  univ ∈ T ∧\n",
      "import Mathlib\n",
      "  ({S : Set ℝ | ∃ a b, a < b ∧ S = Ioo a b} ∪ {S : Set ℝ | ∃ a b, a < b ∧ S = Ioo a b \\ K})\n",
      "open Complex Filter Function Metric Finset\n",
      "def K : Set ℝ := {r | ∃ n : ℕ, r = 1 / n}\n",
      "noncomputable def f : ℕ → ℝ\n",
      "def g (n : ℕ) : ℝ := sqrt (n + 1) - sqrt n\n",
      "set_option checkBinderAnnotations false\n",
      "open Filter Real Function\n",
      "open RingHom\n",
      "--center of (G × H) equivalent, preserves multiplication with (center G) × (center H)\n",
      "  (∀ s t, s ∈ T → t ∈ T → s ∩ t ∈ T) ∧\n",
      "def limit_point_compact (X : Type*) [TopologicalSpace X] :=\n",
      "open Filter Set TopologicalSpace\n",
      "open Function Fintype Subgroup Ideal Polynomial Submodule Zsqrtd\n",
      "def Rl := lower_limit_topology ℝ\n",
      "open Fintype Subgroup Set Polynomial Ideal\n",
      "open scoped Topology\n",
      "  (∀s, (∀t ∈ s, t ∈ T) → sUnion s ∈ T)\n",
      "abbrev I : Set ℝ := Icc 0 1\n",
      "open Fintype Complex Polynomial LinearMap FiniteDimensional Module Module.End\n",
      "def is_topology (X : Type*) (T : Set (Set X)) :=\n",
      "def K_topology := generateFrom\n",
      "open Real\n"
     ]
    }
   ],
   "source": [
    "topics = set()\n",
    "for i in range(len(df)):\n",
    "    topics.update(df.iloc[i]['header'].split('\\n'))\n",
    "\n",
    "for topic in topics:\n",
    "    print(topic)"
   ]
  },
  {
   "cell_type": "code",
   "execution_count": 23,
   "metadata": {},
   "outputs": [
    {
     "ename": "Exception",
     "evalue": "stop",
     "output_type": "error",
     "traceback": [
      "\u001b[0;31m---------------------------------------------------------------------------\u001b[0m",
      "\u001b[0;31mException\u001b[0m                                 Traceback (most recent call last)",
      "Cell \u001b[0;32mIn[23], line 1\u001b[0m\n\u001b[0;32m----> 1\u001b[0m \u001b[38;5;28;01mraise\u001b[39;00m \u001b[38;5;167;01mException\u001b[39;00m(\u001b[38;5;124m'\u001b[39m\u001b[38;5;124mstop\u001b[39m\u001b[38;5;124m'\u001b[39m)\n",
      "\u001b[0;31mException\u001b[0m: stop"
     ]
    }
   ],
   "source": [
    "raise Exception('stop')"
   ]
  },
  {
   "cell_type": "markdown",
   "metadata": {},
   "source": [
    "### Putnam Bench (273)"
   ]
  },
  {
   "cell_type": "markdown",
   "metadata": {},
   "source": [
    "- 273 rows for `{'abstract_algebra', 'algebra'}`"
   ]
  },
  {
   "cell_type": "code",
   "execution_count": 22,
   "metadata": {},
   "outputs": [
    {
     "name": "stderr",
     "output_type": "stream",
     "text": [
      "Repo card metadata block was not found. Setting CardData to empty.\n"
     ]
    }
   ],
   "source": [
    "from datasets import load_dataset\n",
    "ds = load_dataset(\"amitayusht/PutnamBench\")"
   ]
  },
  {
   "cell_type": "code",
   "execution_count": 30,
   "metadata": {},
   "outputs": [],
   "source": [
    "df = pd.DataFrame(ds['train'])"
   ]
  },
  {
   "cell_type": "code",
   "execution_count": 31,
   "metadata": {},
   "outputs": [],
   "source": [
    "df = df.drop(columns=['coq_statement', 'isabelle_statement', 'informal_solution'])\n",
    "df = df.dropna()\n",
    "df = df.rename(columns={'lean4_statement': 'formal_statement'})\n",
    "\n",
    "df['header'] = df['formal_statement'].apply(lambda x: x.split('theorem', 1)[0])\n",
    "df['formal_statement'] = df['formal_statement'].apply(lambda x: 'theorem' + x.split('theorem', 1)[1] if 'theorem' in x else x)"
   ]
  },
  {
   "cell_type": "code",
   "execution_count": 32,
   "metadata": {},
   "outputs": [
    {
     "name": "stdout",
     "output_type": "stream",
     "text": [
      "{'algebra', 'analysis', 'number_theory', 'linear_algebra', 'abstract_algebra', 'set_theory', 'probability', 'combinatorics', 'geometry'}\n"
     ]
    }
   ],
   "source": [
    "all_tags = set()\n",
    "\n",
    "for tags in df.tags.unique():\n",
    "    tags = tags.replace('[', '').replace(']', '').replace('\\'', '')\n",
    "    tags = tags\n",
    "    tag_list = tags.split(',')\n",
    "    for tag in tag_list:\n",
    "        all_tags.add(tag.strip())\n",
    "\n",
    "print(all_tags)"
   ]
  },
  {
   "cell_type": "code",
   "execution_count": 33,
   "metadata": {},
   "outputs": [],
   "source": [
    "wanted_tags = ['algebra', 'abstract_algebra']\n",
    "putnam_df = df[df.tags.str.contains('|'.join(wanted_tags))]\n",
    "\n",
    "putnam_NT_df = df[df.tags.str.contains('algebra')]\n"
   ]
  },
  {
   "cell_type": "code",
   "execution_count": 34,
   "metadata": {},
   "outputs": [],
   "source": [
    "# shuffle df\n",
    "putnam_NT_df = putnam_NT_df.sample(frac=1).reset_index(drop=True)\n",
    "putnam_NT_df['split'] = ['valid' if x < len(putnam_NT_df) / 2 else 'test' for x in range(len(putnam_NT_df))]"
   ]
  },
  {
   "cell_type": "code",
   "execution_count": 35,
   "metadata": {},
   "outputs": [
    {
     "data": {
      "text/plain": [
       "273"
      ]
     },
     "execution_count": 35,
     "metadata": {},
     "output_type": "execute_result"
    }
   ],
   "source": [
    "len(putnam_NT_df)"
   ]
  },
  {
   "cell_type": "code",
   "execution_count": 36,
   "metadata": {},
   "outputs": [
    {
     "data": {
      "text/html": [
       "<div>\n",
       "<style scoped>\n",
       "    .dataframe tbody tr th:only-of-type {\n",
       "        vertical-align: middle;\n",
       "    }\n",
       "\n",
       "    .dataframe tbody tr th {\n",
       "        vertical-align: top;\n",
       "    }\n",
       "\n",
       "    .dataframe thead th {\n",
       "        text-align: right;\n",
       "    }\n",
       "</style>\n",
       "<table border=\"1\" class=\"dataframe\">\n",
       "  <thead>\n",
       "    <tr style=\"text-align: right;\">\n",
       "      <th></th>\n",
       "      <th>name</th>\n",
       "      <th>formal_statement</th>\n",
       "      <th>informal_statement</th>\n",
       "      <th>tags</th>\n",
       "      <th>header</th>\n",
       "      <th>split</th>\n",
       "    </tr>\n",
       "  </thead>\n",
       "  <tbody>\n",
       "    <tr>\n",
       "      <th>0</th>\n",
       "      <td>putnam_2010_b4</td>\n",
       "      <td>theorem putnam_2010_b4\\n(p q : Polynomial ℝ)\\n...</td>\n",
       "      <td>Find all pairs of polynomials $p(x)$ and $q(x)...</td>\n",
       "      <td>['algebra']</td>\n",
       "      <td>abbrev putnam_2010_b4_solution : Set (Polynomi...</td>\n",
       "      <td>valid</td>\n",
       "    </tr>\n",
       "    <tr>\n",
       "      <th>1</th>\n",
       "      <td>putnam_1998_a4</td>\n",
       "      <td>theorem putnam_1998_a4\\n(A : ℕ → ℕ)\\n(hA1 : A ...</td>\n",
       "      <td>Let $A_1=0$ and $A_2=1$. For $n&gt;2$, the number...</td>\n",
       "      <td>['algebra']</td>\n",
       "      <td>abbrev putnam_1998_a4_solution : Set ℕ := sorr...</td>\n",
       "      <td>valid</td>\n",
       "    </tr>\n",
       "    <tr>\n",
       "      <th>2</th>\n",
       "      <td>putnam_2008_a4</td>\n",
       "      <td>theorem putnam_2008_a4\\n(f : ℝ → ℝ)\\n(hf : f =...</td>\n",
       "      <td>Define $f : \\mathbb{R} \\to \\mathbb{R} by $f(x)...</td>\n",
       "      <td>['algebra']</td>\n",
       "      <td>abbrev putnam_2008_a4_solution : Prop := sorry...</td>\n",
       "      <td>valid</td>\n",
       "    </tr>\n",
       "    <tr>\n",
       "      <th>3</th>\n",
       "      <td>putnam_1992_b6</td>\n",
       "      <td>theorem putnam_1992_b6\\n(n : ℕ)\\n(npos : n &gt; 0...</td>\n",
       "      <td>Let $M$ be a set of real $n \\times n$ matrices...</td>\n",
       "      <td>['linear_algebra']</td>\n",
       "      <td></td>\n",
       "      <td>valid</td>\n",
       "    </tr>\n",
       "    <tr>\n",
       "      <th>4</th>\n",
       "      <td>putnam_1980_b5</td>\n",
       "      <td>theorem putnam_1980_b5\\n(T : Set ℝ := Icc 0 1)...</td>\n",
       "      <td>A function $f$ is convex on $[0, 1]$ if and on...</td>\n",
       "      <td>['analysis', 'algebra']</td>\n",
       "      <td>abbrev putnam_1980_b5_solution : ℝ → Prop := s...</td>\n",
       "      <td>valid</td>\n",
       "    </tr>\n",
       "  </tbody>\n",
       "</table>\n",
       "</div>"
      ],
      "text/plain": [
       "             name                                   formal_statement  \\\n",
       "0  putnam_2010_b4  theorem putnam_2010_b4\\n(p q : Polynomial ℝ)\\n...   \n",
       "1  putnam_1998_a4  theorem putnam_1998_a4\\n(A : ℕ → ℕ)\\n(hA1 : A ...   \n",
       "2  putnam_2008_a4  theorem putnam_2008_a4\\n(f : ℝ → ℝ)\\n(hf : f =...   \n",
       "3  putnam_1992_b6  theorem putnam_1992_b6\\n(n : ℕ)\\n(npos : n > 0...   \n",
       "4  putnam_1980_b5  theorem putnam_1980_b5\\n(T : Set ℝ := Icc 0 1)...   \n",
       "\n",
       "                                  informal_statement                     tags  \\\n",
       "0  Find all pairs of polynomials $p(x)$ and $q(x)...              ['algebra']   \n",
       "1  Let $A_1=0$ and $A_2=1$. For $n>2$, the number...              ['algebra']   \n",
       "2  Define $f : \\mathbb{R} \\to \\mathbb{R} by $f(x)...              ['algebra']   \n",
       "3  Let $M$ be a set of real $n \\times n$ matrices...       ['linear_algebra']   \n",
       "4  A function $f$ is convex on $[0, 1]$ if and on...  ['analysis', 'algebra']   \n",
       "\n",
       "                                              header  split  \n",
       "0  abbrev putnam_2010_b4_solution : Set (Polynomi...  valid  \n",
       "1  abbrev putnam_1998_a4_solution : Set ℕ := sorr...  valid  \n",
       "2  abbrev putnam_2008_a4_solution : Prop := sorry...  valid  \n",
       "3                                                     valid  \n",
       "4  abbrev putnam_1980_b5_solution : ℝ → Prop := s...  valid  "
      ]
     },
     "execution_count": 36,
     "metadata": {},
     "output_type": "execute_result"
    }
   ],
   "source": [
    "putnam_NT_df.head()"
   ]
  },
  {
   "cell_type": "markdown",
   "metadata": {},
   "source": [
    "#### Look at the data:"
   ]
  },
  {
   "cell_type": "code",
   "execution_count": 37,
   "metadata": {},
   "outputs": [
    {
     "name": "stdout",
     "output_type": "stream",
     "text": [
      "Find all pairs of polynomials $p(x)$ and $q(x)$ with real coefficients for which $p(x)q(x+1)-p(x+1)q(x)=1$.\n"
     ]
    }
   ],
   "source": [
    "print(putnam_NT_df.iloc[0].informal_statement)"
   ]
  },
  {
   "cell_type": "code",
   "execution_count": 38,
   "metadata": {},
   "outputs": [
    {
     "name": "stdout",
     "output_type": "stream",
     "text": [
      "theorem putnam_2010_b4\n",
      "(p q : Polynomial ℝ)\n",
      ": (∀ x : ℝ, p.eval x * q.eval (x + 1) - p.eval (x + 1) * q.eval x = 1) ↔ (p, q) ∈ putnam_2010_b4_solution :=\n",
      "sorry\n"
     ]
    }
   ],
   "source": [
    "print(putnam_NT_df.iloc[0].formal_statement)"
   ]
  },
  {
   "cell_type": "code",
   "execution_count": 39,
   "metadata": {},
   "outputs": [
    {
     "name": "stdout",
     "output_type": "stream",
     "text": [
      "['linear_algebra']\n"
     ]
    }
   ],
   "source": [
    "NT_tag = putnam_NT_df.iloc[3].tags\n",
    "print(NT_tag)"
   ]
  },
  {
   "cell_type": "code",
   "execution_count": 56,
   "metadata": {},
   "outputs": [
    {
     "ename": "Exception",
     "evalue": "stop",
     "output_type": "error",
     "traceback": [
      "\u001b[0;31m---------------------------------------------------------------------------\u001b[0m",
      "\u001b[0;31mException\u001b[0m                                 Traceback (most recent call last)",
      "Cell \u001b[0;32mIn[56], line 1\u001b[0m\n\u001b[0;32m----> 1\u001b[0m \u001b[38;5;28;01mraise\u001b[39;00m \u001b[38;5;167;01mException\u001b[39;00m(\u001b[38;5;124m'\u001b[39m\u001b[38;5;124mstop\u001b[39m\u001b[38;5;124m'\u001b[39m)\n",
      "\u001b[0;31mException\u001b[0m: stop"
     ]
    }
   ],
   "source": [
    "raise Exception('stop')"
   ]
  },
  {
   "cell_type": "markdown",
   "metadata": {},
   "source": [
    "### Mini F2F (177)"
   ]
  },
  {
   "cell_type": "markdown",
   "metadata": {},
   "source": [
    "Keep only rows about `number_theory`"
   ]
  },
  {
   "cell_type": "code",
   "execution_count": 45,
   "metadata": {},
   "outputs": [],
   "source": [
    "df = pd.read_json('minif2f.jsonl', lines=True)"
   ]
  },
  {
   "cell_type": "code",
   "execution_count": 46,
   "metadata": {},
   "outputs": [],
   "source": [
    "df['name'] = 'f2f_' + df['name']\n",
    "df['tags'] = \"['algebra']\"\n",
    "\n",
    "df = df.drop(columns=['goal'])\n",
    "df = df.rename(columns={'informal_prefix': 'informal_statement'})\n",
    "df = df[df['name'].str.contains('algebra')]\n",
    "\n",
    "df = df[['name', 'formal_statement', 'informal_statement', 'tags', 'header',\n",
    "       'split']]"
   ]
  },
  {
   "cell_type": "code",
   "execution_count": 47,
   "metadata": {},
   "outputs": [],
   "source": [
    "df['informal_statement'] = df['informal_statement'].str.replace(r'^/-- ', '', regex=True).str.replace(r'-/\\n$', '', regex=True)"
   ]
  },
  {
   "cell_type": "code",
   "execution_count": 48,
   "metadata": {},
   "outputs": [
    {
     "data": {
      "text/html": [
       "<div>\n",
       "<style scoped>\n",
       "    .dataframe tbody tr th:only-of-type {\n",
       "        vertical-align: middle;\n",
       "    }\n",
       "\n",
       "    .dataframe tbody tr th {\n",
       "        vertical-align: top;\n",
       "    }\n",
       "\n",
       "    .dataframe thead th {\n",
       "        text-align: right;\n",
       "    }\n",
       "</style>\n",
       "<table border=\"1\" class=\"dataframe\">\n",
       "  <thead>\n",
       "    <tr style=\"text-align: right;\">\n",
       "      <th></th>\n",
       "      <th>name</th>\n",
       "      <th>formal_statement</th>\n",
       "      <th>informal_statement</th>\n",
       "      <th>tags</th>\n",
       "      <th>header</th>\n",
       "      <th>split</th>\n",
       "    </tr>\n",
       "  </thead>\n",
       "  <tbody>\n",
       "    <tr>\n",
       "      <th>3</th>\n",
       "      <td>f2f_mathd_algebra_182</td>\n",
       "      <td>theorem mathd_algebra_182 (y : ℂ) : 7 * (3 * y...</td>\n",
       "      <td>Expand the following expression: $7(3y+2)$ Sho...</td>\n",
       "      <td>['algebra']</td>\n",
       "      <td>import Mathlib\\nimport Aesop\\n\\nset_option max...</td>\n",
       "      <td>valid</td>\n",
       "    </tr>\n",
       "    <tr>\n",
       "      <th>6</th>\n",
       "      <td>f2f_mathd_algebra_116</td>\n",
       "      <td>theorem mathd_algebra_116 (k x : ℝ) (h₀ : x = ...</td>\n",
       "      <td>For what real value of $k$ is $\\frac{13-\\sqrt{...</td>\n",
       "      <td>['algebra']</td>\n",
       "      <td>import Mathlib\\nimport Aesop\\n\\nset_option max...</td>\n",
       "      <td>valid</td>\n",
       "    </tr>\n",
       "    <tr>\n",
       "      <th>11</th>\n",
       "      <td>f2f_mathd_algebra_13</td>\n",
       "      <td>theorem mathd_algebra_13 (a b : ℝ)\\n  (h₀ : ∀ ...</td>\n",
       "      <td>Find $A$ and $B$ such that\\n\\[\\frac{4x}{x^2-8x...</td>\n",
       "      <td>['algebra']</td>\n",
       "      <td>import Mathlib\\nimport Aesop\\n\\nset_option max...</td>\n",
       "      <td>valid</td>\n",
       "    </tr>\n",
       "    <tr>\n",
       "      <th>18</th>\n",
       "      <td>f2f_mathd_algebra_462</td>\n",
       "      <td>theorem mathd_algebra_462 : ((1 : ℚ) / 2 + 1 /...</td>\n",
       "      <td>Evaluate: $\\left( \\frac{1}{2} + \\frac{1}{3} \\r...</td>\n",
       "      <td>['algebra']</td>\n",
       "      <td>import Mathlib\\nimport Aesop\\n\\nset_option max...</td>\n",
       "      <td>valid</td>\n",
       "    </tr>\n",
       "    <tr>\n",
       "      <th>29</th>\n",
       "      <td>f2f_mathd_algebra_48</td>\n",
       "      <td>theorem mathd_algebra_48 (q e : ℂ) (h₀ : q = 9...</td>\n",
       "      <td>Simplify $(9-4i)-(-3-4i)$. Show that it is 12.</td>\n",
       "      <td>['algebra']</td>\n",
       "      <td>import Mathlib\\nimport Aesop\\n\\nset_option max...</td>\n",
       "      <td>valid</td>\n",
       "    </tr>\n",
       "  </tbody>\n",
       "</table>\n",
       "</div>"
      ],
      "text/plain": [
       "                     name                                   formal_statement  \\\n",
       "3   f2f_mathd_algebra_182  theorem mathd_algebra_182 (y : ℂ) : 7 * (3 * y...   \n",
       "6   f2f_mathd_algebra_116  theorem mathd_algebra_116 (k x : ℝ) (h₀ : x = ...   \n",
       "11   f2f_mathd_algebra_13  theorem mathd_algebra_13 (a b : ℝ)\\n  (h₀ : ∀ ...   \n",
       "18  f2f_mathd_algebra_462  theorem mathd_algebra_462 : ((1 : ℚ) / 2 + 1 /...   \n",
       "29   f2f_mathd_algebra_48  theorem mathd_algebra_48 (q e : ℂ) (h₀ : q = 9...   \n",
       "\n",
       "                                   informal_statement         tags  \\\n",
       "3   Expand the following expression: $7(3y+2)$ Sho...  ['algebra']   \n",
       "6   For what real value of $k$ is $\\frac{13-\\sqrt{...  ['algebra']   \n",
       "11  Find $A$ and $B$ such that\\n\\[\\frac{4x}{x^2-8x...  ['algebra']   \n",
       "18  Evaluate: $\\left( \\frac{1}{2} + \\frac{1}{3} \\r...  ['algebra']   \n",
       "29     Simplify $(9-4i)-(-3-4i)$. Show that it is 12.  ['algebra']   \n",
       "\n",
       "                                               header  split  \n",
       "3   import Mathlib\\nimport Aesop\\n\\nset_option max...  valid  \n",
       "6   import Mathlib\\nimport Aesop\\n\\nset_option max...  valid  \n",
       "11  import Mathlib\\nimport Aesop\\n\\nset_option max...  valid  \n",
       "18  import Mathlib\\nimport Aesop\\n\\nset_option max...  valid  \n",
       "29  import Mathlib\\nimport Aesop\\n\\nset_option max...  valid  "
      ]
     },
     "execution_count": 48,
     "metadata": {},
     "output_type": "execute_result"
    }
   ],
   "source": [
    "df.head()"
   ]
  },
  {
   "cell_type": "code",
   "execution_count": 49,
   "metadata": {},
   "outputs": [
    {
     "data": {
      "text/plain": [
       "177"
      ]
     },
     "execution_count": 49,
     "metadata": {},
     "output_type": "execute_result"
    }
   ],
   "source": [
    "len(df)"
   ]
  },
  {
   "cell_type": "markdown",
   "metadata": {},
   "source": [
    "#### Look at the data:"
   ]
  },
  {
   "cell_type": "code",
   "execution_count": 50,
   "metadata": {},
   "outputs": [
    {
     "name": "stdout",
     "output_type": "stream",
     "text": [
      "Expand the following expression: $7(3y+2)$ Show that it is 21y+14.\n"
     ]
    }
   ],
   "source": [
    "print(df.iloc[0].informal_statement)"
   ]
  },
  {
   "cell_type": "code",
   "execution_count": 51,
   "metadata": {},
   "outputs": [
    {
     "name": "stdout",
     "output_type": "stream",
     "text": [
      "import Mathlib\n",
      "import Aesop\n",
      "\n",
      "set_option maxHeartbeats 0\n",
      "\n",
      "open BigOperators Real Nat Topology Rat\n",
      "\n",
      "\n"
     ]
    }
   ],
   "source": [
    "print(df.iloc[0].header)"
   ]
  },
  {
   "cell_type": "code",
   "execution_count": 52,
   "metadata": {},
   "outputs": [
    {
     "name": "stdout",
     "output_type": "stream",
     "text": [
      "theorem mathd_algebra_182 (y : ℂ) : 7 * (3 * y + 2) = 21 * y + 14 := by\n",
      "\n"
     ]
    }
   ],
   "source": [
    "print(df.iloc[0].formal_statement)"
   ]
  },
  {
   "cell_type": "markdown",
   "metadata": {},
   "source": [
    "## Aggregating the data (450)"
   ]
  },
  {
   "cell_type": "code",
   "execution_count": 53,
   "metadata": {},
   "outputs": [
    {
     "name": "stdout",
     "output_type": "stream",
     "text": [
      "Index(['name', 'formal_statement', 'informal_statement', 'tags', 'header',\n",
      "       'split'],\n",
      "      dtype='object')\n",
      "Index(['name', 'formal_statement', 'informal_statement', 'tags', 'header',\n",
      "       'split'],\n",
      "      dtype='object')\n"
     ]
    }
   ],
   "source": [
    "print(df.columns)\n",
    "print(putnam_NT_df.columns)"
   ]
  },
  {
   "cell_type": "code",
   "execution_count": 54,
   "metadata": {},
   "outputs": [],
   "source": [
    "final_df = pd.concat([df, putnam_NT_df], ignore_index=True)"
   ]
  },
  {
   "cell_type": "code",
   "execution_count": 55,
   "metadata": {},
   "outputs": [
    {
     "data": {
      "text/html": [
       "<div>\n",
       "<style scoped>\n",
       "    .dataframe tbody tr th:only-of-type {\n",
       "        vertical-align: middle;\n",
       "    }\n",
       "\n",
       "    .dataframe tbody tr th {\n",
       "        vertical-align: top;\n",
       "    }\n",
       "\n",
       "    .dataframe thead th {\n",
       "        text-align: right;\n",
       "    }\n",
       "</style>\n",
       "<table border=\"1\" class=\"dataframe\">\n",
       "  <thead>\n",
       "    <tr style=\"text-align: right;\">\n",
       "      <th></th>\n",
       "      <th>name</th>\n",
       "      <th>formal_statement</th>\n",
       "      <th>informal_statement</th>\n",
       "      <th>tags</th>\n",
       "      <th>header</th>\n",
       "      <th>split</th>\n",
       "    </tr>\n",
       "  </thead>\n",
       "  <tbody>\n",
       "    <tr>\n",
       "      <th>0</th>\n",
       "      <td>f2f_mathd_algebra_182</td>\n",
       "      <td>theorem mathd_algebra_182 (y : ℂ) : 7 * (3 * y...</td>\n",
       "      <td>Expand the following expression: $7(3y+2)$ Sho...</td>\n",
       "      <td>['algebra']</td>\n",
       "      <td>import Mathlib\\nimport Aesop\\n\\nset_option max...</td>\n",
       "      <td>valid</td>\n",
       "    </tr>\n",
       "    <tr>\n",
       "      <th>1</th>\n",
       "      <td>f2f_mathd_algebra_116</td>\n",
       "      <td>theorem mathd_algebra_116 (k x : ℝ) (h₀ : x = ...</td>\n",
       "      <td>For what real value of $k$ is $\\frac{13-\\sqrt{...</td>\n",
       "      <td>['algebra']</td>\n",
       "      <td>import Mathlib\\nimport Aesop\\n\\nset_option max...</td>\n",
       "      <td>valid</td>\n",
       "    </tr>\n",
       "    <tr>\n",
       "      <th>2</th>\n",
       "      <td>f2f_mathd_algebra_13</td>\n",
       "      <td>theorem mathd_algebra_13 (a b : ℝ)\\n  (h₀ : ∀ ...</td>\n",
       "      <td>Find $A$ and $B$ such that\\n\\[\\frac{4x}{x^2-8x...</td>\n",
       "      <td>['algebra']</td>\n",
       "      <td>import Mathlib\\nimport Aesop\\n\\nset_option max...</td>\n",
       "      <td>valid</td>\n",
       "    </tr>\n",
       "    <tr>\n",
       "      <th>3</th>\n",
       "      <td>f2f_mathd_algebra_462</td>\n",
       "      <td>theorem mathd_algebra_462 : ((1 : ℚ) / 2 + 1 /...</td>\n",
       "      <td>Evaluate: $\\left( \\frac{1}{2} + \\frac{1}{3} \\r...</td>\n",
       "      <td>['algebra']</td>\n",
       "      <td>import Mathlib\\nimport Aesop\\n\\nset_option max...</td>\n",
       "      <td>valid</td>\n",
       "    </tr>\n",
       "    <tr>\n",
       "      <th>4</th>\n",
       "      <td>f2f_mathd_algebra_48</td>\n",
       "      <td>theorem mathd_algebra_48 (q e : ℂ) (h₀ : q = 9...</td>\n",
       "      <td>Simplify $(9-4i)-(-3-4i)$. Show that it is 12.</td>\n",
       "      <td>['algebra']</td>\n",
       "      <td>import Mathlib\\nimport Aesop\\n\\nset_option max...</td>\n",
       "      <td>valid</td>\n",
       "    </tr>\n",
       "  </tbody>\n",
       "</table>\n",
       "</div>"
      ],
      "text/plain": [
       "                    name                                   formal_statement  \\\n",
       "0  f2f_mathd_algebra_182  theorem mathd_algebra_182 (y : ℂ) : 7 * (3 * y...   \n",
       "1  f2f_mathd_algebra_116  theorem mathd_algebra_116 (k x : ℝ) (h₀ : x = ...   \n",
       "2   f2f_mathd_algebra_13  theorem mathd_algebra_13 (a b : ℝ)\\n  (h₀ : ∀ ...   \n",
       "3  f2f_mathd_algebra_462  theorem mathd_algebra_462 : ((1 : ℚ) / 2 + 1 /...   \n",
       "4   f2f_mathd_algebra_48  theorem mathd_algebra_48 (q e : ℂ) (h₀ : q = 9...   \n",
       "\n",
       "                                  informal_statement         tags  \\\n",
       "0  Expand the following expression: $7(3y+2)$ Sho...  ['algebra']   \n",
       "1  For what real value of $k$ is $\\frac{13-\\sqrt{...  ['algebra']   \n",
       "2  Find $A$ and $B$ such that\\n\\[\\frac{4x}{x^2-8x...  ['algebra']   \n",
       "3  Evaluate: $\\left( \\frac{1}{2} + \\frac{1}{3} \\r...  ['algebra']   \n",
       "4     Simplify $(9-4i)-(-3-4i)$. Show that it is 12.  ['algebra']   \n",
       "\n",
       "                                              header  split  \n",
       "0  import Mathlib\\nimport Aesop\\n\\nset_option max...  valid  \n",
       "1  import Mathlib\\nimport Aesop\\n\\nset_option max...  valid  \n",
       "2  import Mathlib\\nimport Aesop\\n\\nset_option max...  valid  \n",
       "3  import Mathlib\\nimport Aesop\\n\\nset_option max...  valid  \n",
       "4  import Mathlib\\nimport Aesop\\n\\nset_option max...  valid  "
      ]
     },
     "execution_count": 55,
     "metadata": {},
     "output_type": "execute_result"
    }
   ],
   "source": [
    "final_df.head()"
   ]
  },
  {
   "cell_type": "code",
   "execution_count": 56,
   "metadata": {},
   "outputs": [
    {
     "data": {
      "text/plain": [
       "450"
      ]
     },
     "execution_count": 56,
     "metadata": {},
     "output_type": "execute_result"
    }
   ],
   "source": [
    "len(final_df)"
   ]
  },
  {
   "cell_type": "markdown",
   "metadata": {},
   "source": [
    "## Export"
   ]
  },
  {
   "cell_type": "code",
   "execution_count": 57,
   "metadata": {},
   "outputs": [],
   "source": [
    "final_df[final_df['split'] == 'test'].to_json('ALG_test.jsonl', orient='records', lines=True)\n",
    "final_df[final_df['split'] == 'valid'].to_json('ALG_validation.jsonl', orient='records', lines=True)"
   ]
  }
 ],
 "metadata": {
  "kernelspec": {
   "display_name": "modern_nlp",
   "language": "python",
   "name": "python3"
  },
  "language_info": {
   "codemirror_mode": {
    "name": "ipython",
    "version": 3
   },
   "file_extension": ".py",
   "mimetype": "text/x-python",
   "name": "python",
   "nbconvert_exporter": "python",
   "pygments_lexer": "ipython3",
   "version": "3.10.13"
  }
 },
 "nbformat": 4,
 "nbformat_minor": 2
}
