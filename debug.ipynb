{
 "cells": [
  {
   "cell_type": "markdown",
   "metadata": {},
   "source": [
    "## Setup"
   ]
  },
  {
   "cell_type": "code",
   "execution_count": 66,
   "metadata": {},
   "outputs": [
    {
     "name": "stdout",
     "output_type": "stream",
     "text": [
      "The autoreload extension is already loaded. To reload it, use:\n",
      "  %reload_ext autoreload\n"
     ]
    }
   ],
   "source": [
    "%load_ext autoreload\n",
    "%autoreload 2"
   ]
  },
  {
   "cell_type": "code",
   "execution_count": 67,
   "metadata": {},
   "outputs": [],
   "source": [
    "import os\n",
    "import time\n",
    "import json\n",
    "from tqdm import tqdm\n",
    "from datasets import load_dataset, concatenate_datasets\n",
    "\n",
    "import config\n",
    "from utils import *\n",
    "\n",
    "os.environ['OPENAI_API_KEY'] = config.OPENAI_API_KEY"
   ]
  },
  {
   "cell_type": "code",
   "execution_count": 68,
   "metadata": {},
   "outputs": [],
   "source": [
    "import pandas as pd\n",
    "import matplotlib.pyplot as plt\n",
    "%matplotlib inline\n"
   ]
  },
  {
   "cell_type": "code",
   "execution_count": 69,
   "metadata": {},
   "outputs": [],
   "source": [
    "import openai\n",
    "import numpy as np\n",
    "from sklearn.metrics.pairwise import cosine_similarity\n",
    "\n",
    "from nltk.translate.bleu_score import SmoothingFunction, sentence_bleu"
   ]
  },
  {
   "cell_type": "code",
   "execution_count": 70,
   "metadata": {},
   "outputs": [],
   "source": [
    "from repl.server import LeanServer, RobustLeanServer"
   ]
  },
  {
   "cell_type": "code",
   "execution_count": 71,
   "metadata": {},
   "outputs": [],
   "source": [
    "import json\n",
    "import re\n",
    "import os\n",
    "import config\n",
    "\n",
    "os.environ['OPENAI_API_KEY'] = config.OPENAI_API_KEY\n",
    "\n",
    "import openai\n",
    "openai.api_key = os.environ['OPENAI_API_KEY']\n",
    "\n",
    "from litellm import completion\n",
    "from openai import OpenAI\n",
    "from nltk.translate.bleu_score import SmoothingFunction, sentence_bleu\n",
    "from sklearn.metrics.pairwise import cosine_similarity\n",
    "from repl.server import LeanServer, RobustLeanServer\n",
    "\n",
    "from config import *\n",
    "from encoding_retrieval import retrieve"
   ]
  },
  {
   "cell_type": "code",
   "execution_count": 72,
   "metadata": {},
   "outputs": [
    {
     "ename": "Exception",
     "evalue": "Don't run this cell",
     "output_type": "error",
     "traceback": [
      "\u001b[0;31m---------------------------------------------------------------------------\u001b[0m",
      "\u001b[0;31mException\u001b[0m                                 Traceback (most recent call last)",
      "Cell \u001b[0;32mIn[72], line 1\u001b[0m\n\u001b[0;32m----> 1\u001b[0m \u001b[38;5;28;01mraise\u001b[39;00m \u001b[38;5;167;01mException\u001b[39;00m(\u001b[38;5;124m\"\u001b[39m\u001b[38;5;124mDon\u001b[39m\u001b[38;5;124m'\u001b[39m\u001b[38;5;124mt run this cell\u001b[39m\u001b[38;5;124m\"\u001b[39m)\n",
      "\u001b[0;31mException\u001b[0m: Don't run this cell"
     ]
    }
   ],
   "source": [
    "raise Exception(\"Don't run this cell\")"
   ]
  },
  {
   "cell_type": "markdown",
   "metadata": {},
   "source": [
    "## debug main"
   ]
  },
  {
   "cell_type": "code",
   "execution_count": 26,
   "metadata": {},
   "outputs": [
    {
     "name": "stderr",
     "output_type": "stream",
     "text": [
      "Using the latest cached version of the dataset since agatha-duzan/number_theory_af couldn't be found on the Hugging Face Hub\n",
      "Found the latest cached dataset configuration 'default' at /home/agatha/.cache/huggingface/datasets/agatha-duzan___number_theory_af/default/0.0.0/fd850084cc9308091015b3e2dbe4e0c6c2cb7ebf (last modified on Fri Nov 29 10:00:03 2024).\n"
     ]
    }
   ],
   "source": [
    "dataset = load_dataset(config.DATASET_NAME)\n",
    "all_data = concatenate_datasets([dataset['test'], dataset['validation']])"
   ]
  },
  {
   "cell_type": "code",
   "execution_count": 11,
   "metadata": {},
   "outputs": [
    {
     "name": "stdout",
     "output_type": "stream",
     "text": [
      "Dataset({\n",
      "    features: ['name', 'formal_statement', 'informal_statement', 'tags', 'header', 'split'],\n",
      "    num_rows: 234\n",
      "})\n"
     ]
    }
   ],
   "source": [
    "print(all_data)"
   ]
  },
  {
   "cell_type": "code",
   "execution_count": 29,
   "metadata": {},
   "outputs": [
    {
     "name": "stdout",
     "output_type": "stream",
     "text": [
      "How many integers between 15 and 85 are divisible by 20? Show that it is 4.\n",
      "theorem mathd_numbertheory_12 :\n",
      "    Finset.card (Finset.filter (fun x => 20 ∣ x) (Finset.Icc 15 85)) = 4 := by\n",
      "\n"
     ]
    }
   ],
   "source": [
    "item = all_data[12]\n",
    "informal_statement = item['informal_statement']\n",
    "print(informal_statement)\n",
    "print(item['formal_statement'])"
   ]
  },
  {
   "cell_type": "code",
   "execution_count": 27,
   "metadata": {},
   "outputs": [],
   "source": [
    "formal_try = formal_statement = translate_statement(\n",
    "    informal_statement,\n",
    "    model=config.DEFAULT_MODEL,\n",
    "    temperature=0.0,\n",
    "    max_tokens=1000,\n",
    "    )"
   ]
  },
  {
   "cell_type": "code",
   "execution_count": 28,
   "metadata": {},
   "outputs": [
    {
     "name": "stdout",
     "output_type": "stream",
     "text": [
      "theorem count_integers_divisible_by_20_between_15_and_85 : \n",
      "  {n : ℤ | 15 ≤ n ∧ n ≤ 85 ∧ 20 ∣ n}.card = 4 :=\n",
      "sorry\n"
     ]
    }
   ],
   "source": [
    "print(formal_try)"
   ]
  },
  {
   "cell_type": "code",
   "execution_count": 52,
   "metadata": {},
   "outputs": [],
   "source": [
    "results.append({\n",
    "    'name': item['name'],\n",
    "    'informal_statement': informal_statement,\n",
    "    'generated_formal_statement': formal_statement,\n",
    "    'formal_statement': item['formal_statement'],\n",
    "    'tags': item['tags'],\n",
    "    'header': item['header'],\n",
    "    'split': item['split'],\n",
    "    'model': config.DEFAULT_MODEL,\n",
    "    'provider': config.DEFAULT_PROVIDER,\n",
    "})"
   ]
  },
  {
   "cell_type": "code",
   "execution_count": 53,
   "metadata": {},
   "outputs": [
    {
     "data": {
      "text/plain": [
       "[{'name': 'f2f_numbertheory_4x3m7y3neq2003',\n",
       "  'informal_statement': '/-- Show that there are no integers $x$ and $y$ such that $4x^3 - 7y^3 = 2003$.-/\\n',\n",
       "  'generated_formal_statement': 'theorem no_integers_solution : ¬ ∃ (x y : ℤ), 4 * x^3 - 7 * y^3 = 2003 := \\nsorry',\n",
       "  'formal_statement': 'theorem numbertheory_4x3m7y3neq2003 (x y : ℤ) : 4 * x ^ 3 - 7 * y ^ 3 ≠ 2003 := by\\n',\n",
       "  'tags': \"['number_theory']\",\n",
       "  'header': 'import Mathlib\\nimport Aesop\\n\\nset_option maxHeartbeats 0\\n\\nopen BigOperators Real Nat Topology Rat\\n\\n',\n",
       "  'split': 'test',\n",
       "  'model': 'gpt-4o',\n",
       "  'provider': 'openai'}]"
      ]
     },
     "execution_count": 53,
     "metadata": {},
     "output_type": "execute_result"
    }
   ],
   "source": [
    "results"
   ]
  },
  {
   "cell_type": "code",
   "execution_count": 59,
   "metadata": {},
   "outputs": [
    {
     "name": "stdout",
     "output_type": "stream",
     "text": [
      "Results have been saved to results/evaluation/baseline_direct_translation_gpt-4o.json\n"
     ]
    }
   ],
   "source": [
    "output_file = os.path.join(config.RESULTS_DIR, f\"{config.OUTPUT_NAME}_{config.DEFAULT_MODEL}.json\")\n",
    "\n",
    "with open(output_file, 'w') as f:\n",
    "    json.dump(results, f, indent=2)\n",
    "\n",
    "print(f\"Results have been saved to {output_file}\")"
   ]
  },
  {
   "cell_type": "markdown",
   "metadata": {},
   "source": [
    "## debug beq eval"
   ]
  },
  {
   "cell_type": "code",
   "execution_count": 2,
   "metadata": {},
   "outputs": [
    {
     "name": "stdout",
     "output_type": "stream",
     "text": [
      "/home/agatha/.elan/bin/lake\n",
      "Using device: cpu\n"
     ]
    }
   ],
   "source": [
    "import json\n",
    "import os\n",
    "import multiprocessing as mp\n",
    "import re\n",
    "import jsonlines\n",
    "from multiprocessing.pool import Pool\n",
    "from rich.console import Console\n",
    "from rich.syntax import Syntax\n",
    "from tqdm import tqdm\n",
    "from beq_eval_cpu import BEqMetricCPU\n",
    "\n",
    "import config\n",
    "from eval import load_checkpoint, save_checkpoint\n",
    "from pyleanrepl import RobustLeanServer, clean_cache"
   ]
  },
  {
   "cell_type": "code",
   "execution_count": 36,
   "metadata": {},
   "outputs": [],
   "source": [
    "beq_metric = BEqMetricCPU()"
   ]
  },
  {
   "cell_type": "code",
   "execution_count": 37,
   "metadata": {},
   "outputs": [],
   "source": [
    "NB_PROCESS = 6\n",
    "\n",
    "input_file = os.path.join(config.RESULTS_DIR, f\"{config.OUTPUT_NAME}_{config.DEFAULT_MODEL}.json\")\n",
    "output_file = os.path.join(config.EVAL_RESULTS_DIR, f\"{config.OUTPUT_NAME}_{config.DEFAULT_MODEL}_evaluated.json\")\n",
    "checkpoint_file = os.path.join(config.EVAL_RESULTS_DIR, f\"{config.OUTPUT_NAME}_{config.DEFAULT_MODEL}_checkpoint.json\")\n",
    "os.makedirs(config.EVAL_RESULTS_DIR, exist_ok=True)\n",
    "\n",
    "with open(input_file, 'r') as f:\n",
    "    data = json.load(f)"
   ]
  },
  {
   "cell_type": "code",
   "execution_count": 38,
   "metadata": {},
   "outputs": [
    {
     "name": "stdout",
     "output_type": "stream",
     "text": [
      "Number of rows with empty 'header': 52\n",
      "Number of rows with empty 'header': 0\n"
     ]
    }
   ],
   "source": [
    "empty_header_count = sum(1 for item in data if not item['header'].strip())\n",
    "print(f\"Number of rows with empty 'header': {empty_header_count}\")\n",
    "\n",
    "for item in data:\n",
    "    if not item['header'].strip():\n",
    "        item['header'] = 'import Mathlib'\n",
    "\n",
    "empty_header_count = sum(1 for item in data if not item['header'].strip())\n",
    "print(f\"Number of rows with empty 'header': {empty_header_count}\")"
   ]
  },
  {
   "cell_type": "code",
   "execution_count": 39,
   "metadata": {},
   "outputs": [],
   "source": [
    "# Load checkpoint if it exists and get already processed entries\n",
    "results = load_checkpoint(checkpoint_file)\n",
    "processed_entries = {entry[\"name\"] for entry in results}"
   ]
  },
  {
   "cell_type": "code",
   "execution_count": 41,
   "metadata": {},
   "outputs": [
    {
     "name": "stderr",
     "output_type": "stream",
     "text": [
      "BEq CPU - metric computation: 100%|██████████| 6/6 [00:41<00:00,  6.84s/it]\n"
     ]
    }
   ],
   "source": [
    "for i in range(0, len(data), NB_PROCESS):\n",
    "    batch = data[i:i + NB_PROCESS]\n",
    "    formalization_pairs = [\n",
    "            (entry[\"formal_statement\"], entry[\"generated_formal_statement\"], entry[\"header\"])\n",
    "            for entry in batch if entry[\"name\"] not in processed_entries\n",
    "        ]\n",
    "    if not formalization_pairs:\n",
    "            continue\n",
    "    res = beq_metric(formalization_pairs, verbose=True, nb_process=NB_PROCESS)\n",
    "    res = [int(eval_result) for eval_result in res]\n",
    "    \n",
    "\n",
    "    break"
   ]
  },
  {
   "cell_type": "code",
   "execution_count": 43,
   "metadata": {},
   "outputs": [
    {
     "name": "stdout",
     "output_type": "stream",
     "text": [
      "[1, 0, 0, 0, 0, 0]\n"
     ]
    }
   ],
   "source": [
    "print(res)"
   ]
  },
  {
   "cell_type": "code",
   "execution_count": 45,
   "metadata": {},
   "outputs": [],
   "source": [
    "eval_paths = [\n",
    "    \"/home/agatha/Desktop/MA3/sem proj/autoformalization_with_hypothesis/results/evaluations/base_hypothesis_decomp_gpt-4o_eval1.json\",\n",
    "    \"/home/agatha/Desktop/MA3/sem proj/autoformalization_with_hypothesis/results/evaluations/baseline_direct_translation_gpt-4o_eval1.json\",\n",
    "    \"/home/agatha/Desktop/MA3/sem proj/autoformalization_with_hypothesis/results/evaluations/direct_translation_with_general_fewshot_gpt-4o_eval1.json\"\n",
    "]\n",
    "\n",
    "for eval_path in eval_paths:\n",
    "    with open(eval_path, 'r') as f:\n",
    "        data = json.load(f)\n",
    "\n",
    "    for entry in data:\n",
    "        repl_errors = entry[\"repl_errors\"]\n",
    "        if isinstance(repl_errors, str):\n",
    "            repl = 0  # an exception occurred\n",
    "        else:\n",
    "            repl = 0 if any(error[\"severity\"] == \"error\" for error in repl_errors) else 1\n",
    "\n",
    "        entry[\"repl\"] = repl\n",
    "        if entry['repl'] == 0:\n",
    "            entry['beq'] = 0\n",
    "\n",
    "    with open(eval_path, 'w') as f:\n",
    "        json.dump(data, f, indent=2)"
   ]
  },
  {
   "cell_type": "code",
   "execution_count": 12,
   "metadata": {},
   "outputs": [],
   "source": [
    "path1 = \"results/evaluations/direct_translation_with_general_fewshot_gpt-4o_eval1.json\"\n",
    "path2 = \"results/evaluations/direct_translation_with_general_fewshot_gpt-4o_eval2.json\"\n",
    "\n",
    "with open(path1, 'r') as f:\n",
    "    data = json.load(f)\n",
    "with open(path2, 'r') as f:\n",
    "    results = json.load(f)\n",
    "\n",
    "data_done = [item for item in data if item['repl'] == 0]\n",
    "\n",
    "all_data = data_done + results"
   ]
  },
  {
   "cell_type": "code",
   "execution_count": 13,
   "metadata": {},
   "outputs": [
    {
     "name": "stdout",
     "output_type": "stream",
     "text": [
      "234\n",
      "124\n",
      "110\n",
      "234\n"
     ]
    }
   ],
   "source": [
    "print(len(data))\n",
    "print(len(data_done))\n",
    "print(len(results))\n",
    "print(len(all_data))"
   ]
  },
  {
   "cell_type": "code",
   "execution_count": 14,
   "metadata": {},
   "outputs": [],
   "source": [
    "with open(path2, 'w') as f:\n",
    "    json.dump(all_data, f, indent=2)"
   ]
  },
  {
   "cell_type": "markdown",
   "metadata": {},
   "source": [
    "## checking results"
   ]
  },
  {
   "cell_type": "code",
   "execution_count": 8,
   "metadata": {},
   "outputs": [
    {
     "data": {
      "text/html": [
       "<div>\n",
       "<style scoped>\n",
       "    .dataframe tbody tr th:only-of-type {\n",
       "        vertical-align: middle;\n",
       "    }\n",
       "\n",
       "    .dataframe tbody tr th {\n",
       "        vertical-align: top;\n",
       "    }\n",
       "\n",
       "    .dataframe thead th {\n",
       "        text-align: right;\n",
       "    }\n",
       "</style>\n",
       "<table border=\"1\" class=\"dataframe\">\n",
       "  <thead>\n",
       "    <tr style=\"text-align: right;\">\n",
       "      <th></th>\n",
       "      <th>name</th>\n",
       "      <th>informal_statement</th>\n",
       "      <th>generated_formal_statement</th>\n",
       "      <th>formal_statement</th>\n",
       "      <th>tags</th>\n",
       "      <th>header</th>\n",
       "      <th>split</th>\n",
       "      <th>model</th>\n",
       "      <th>provider</th>\n",
       "    </tr>\n",
       "  </thead>\n",
       "  <tbody>\n",
       "    <tr>\n",
       "      <th>0</th>\n",
       "      <td>f2f_numbertheory_4x3m7y3neq2003</td>\n",
       "      <td>/-- Show that there are no integers $x$ and $y...</td>\n",
       "      <td>theorem no_integers_satisfy_equation : ¬∃ (x y...</td>\n",
       "      <td>theorem numbertheory_4x3m7y3neq2003 (x y : ℤ) ...</td>\n",
       "      <td>['number_theory']</td>\n",
       "      <td>import Mathlib\\nimport Aesop\\n\\nset_option max...</td>\n",
       "      <td>test</td>\n",
       "      <td>gpt-4o</td>\n",
       "      <td>openai</td>\n",
       "    </tr>\n",
       "    <tr>\n",
       "      <th>1</th>\n",
       "      <td>f2f_mathd_numbertheory_3</td>\n",
       "      <td>/-- What is the units digit of the sum of the ...</td>\n",
       "      <td>theorem units_digit_sum_squares_first_nine : \\...</td>\n",
       "      <td>theorem mathd_numbertheory_3 : (∑ x in Finset....</td>\n",
       "      <td>['number_theory']</td>\n",
       "      <td>import Mathlib\\nimport Aesop\\n\\nset_option max...</td>\n",
       "      <td>test</td>\n",
       "      <td>gpt-4o</td>\n",
       "      <td>openai</td>\n",
       "    </tr>\n",
       "    <tr>\n",
       "      <th>2</th>\n",
       "      <td>f2f_mathd_numbertheory_1124</td>\n",
       "      <td>/-- The four-digit number $\\underline{374n}$ i...</td>\n",
       "      <td>theorem units_digit_of_divisible_by_18 : ∃ n :...</td>\n",
       "      <td>theorem mathd_numbertheory_1124 (n : ℕ) (h₀ : ...</td>\n",
       "      <td>['number_theory']</td>\n",
       "      <td>import Mathlib\\nimport Aesop\\n\\nset_option max...</td>\n",
       "      <td>test</td>\n",
       "      <td>gpt-4o</td>\n",
       "      <td>openai</td>\n",
       "    </tr>\n",
       "    <tr>\n",
       "      <th>3</th>\n",
       "      <td>f2f_mathd_numbertheory_237</td>\n",
       "      <td>/-- What is the modulo $6$ remainder of the su...</td>\n",
       "      <td>theorem sum_mod_six_remainder : (∑ i in Finset...</td>\n",
       "      <td>theorem mathd_numbertheory_237 : (∑ k in Finse...</td>\n",
       "      <td>['number_theory']</td>\n",
       "      <td>import Mathlib\\nimport Aesop\\n\\nset_option max...</td>\n",
       "      <td>test</td>\n",
       "      <td>gpt-4o</td>\n",
       "      <td>openai</td>\n",
       "    </tr>\n",
       "    <tr>\n",
       "      <th>4</th>\n",
       "      <td>f2f_mathd_numbertheory_299</td>\n",
       "      <td>/-- What is the ones digit of $1 \\cdot 3 \\cdot...</td>\n",
       "      <td>theorem ones_digit_of_product_is_five : (1 * 3...</td>\n",
       "      <td>theorem mathd_numbertheory_299 : 1 * 3 * 5 * 7...</td>\n",
       "      <td>['number_theory']</td>\n",
       "      <td>import Mathlib\\nimport Aesop\\n\\nset_option max...</td>\n",
       "      <td>test</td>\n",
       "      <td>gpt-4o</td>\n",
       "      <td>openai</td>\n",
       "    </tr>\n",
       "  </tbody>\n",
       "</table>\n",
       "</div>"
      ],
      "text/plain": [
       "                              name  \\\n",
       "0  f2f_numbertheory_4x3m7y3neq2003   \n",
       "1         f2f_mathd_numbertheory_3   \n",
       "2      f2f_mathd_numbertheory_1124   \n",
       "3       f2f_mathd_numbertheory_237   \n",
       "4       f2f_mathd_numbertheory_299   \n",
       "\n",
       "                                  informal_statement  \\\n",
       "0  /-- Show that there are no integers $x$ and $y...   \n",
       "1  /-- What is the units digit of the sum of the ...   \n",
       "2  /-- The four-digit number $\\underline{374n}$ i...   \n",
       "3  /-- What is the modulo $6$ remainder of the su...   \n",
       "4  /-- What is the ones digit of $1 \\cdot 3 \\cdot...   \n",
       "\n",
       "                          generated_formal_statement  \\\n",
       "0  theorem no_integers_satisfy_equation : ¬∃ (x y...   \n",
       "1  theorem units_digit_sum_squares_first_nine : \\...   \n",
       "2  theorem units_digit_of_divisible_by_18 : ∃ n :...   \n",
       "3  theorem sum_mod_six_remainder : (∑ i in Finset...   \n",
       "4  theorem ones_digit_of_product_is_five : (1 * 3...   \n",
       "\n",
       "                                    formal_statement               tags  \\\n",
       "0  theorem numbertheory_4x3m7y3neq2003 (x y : ℤ) ...  ['number_theory']   \n",
       "1  theorem mathd_numbertheory_3 : (∑ x in Finset....  ['number_theory']   \n",
       "2  theorem mathd_numbertheory_1124 (n : ℕ) (h₀ : ...  ['number_theory']   \n",
       "3  theorem mathd_numbertheory_237 : (∑ k in Finse...  ['number_theory']   \n",
       "4  theorem mathd_numbertheory_299 : 1 * 3 * 5 * 7...  ['number_theory']   \n",
       "\n",
       "                                              header split   model provider  \n",
       "0  import Mathlib\\nimport Aesop\\n\\nset_option max...  test  gpt-4o   openai  \n",
       "1  import Mathlib\\nimport Aesop\\n\\nset_option max...  test  gpt-4o   openai  \n",
       "2  import Mathlib\\nimport Aesop\\n\\nset_option max...  test  gpt-4o   openai  \n",
       "3  import Mathlib\\nimport Aesop\\n\\nset_option max...  test  gpt-4o   openai  \n",
       "4  import Mathlib\\nimport Aesop\\n\\nset_option max...  test  gpt-4o   openai  "
      ]
     },
     "execution_count": 8,
     "metadata": {},
     "output_type": "execute_result"
    }
   ],
   "source": [
    "json_file_path = '/home/agatha/Desktop/MA3/sem proj/autoformalization_with_hypothesis/results/generations/direct_translation_with_general_fewshot_gpt-4o.json'\n",
    "with open(json_file_path, 'r') as f:\n",
    "    data = json.load(f)\n",
    "\n",
    "df = pd.DataFrame(data)\n",
    "df.head()\n"
   ]
  },
  {
   "cell_type": "markdown",
   "metadata": {},
   "source": [
    "## debug eval"
   ]
  },
  {
   "cell_type": "markdown",
   "metadata": {},
   "source": [
    "### REPL:"
   ]
  },
  {
   "cell_type": "code",
   "execution_count": 9,
   "metadata": {},
   "outputs": [],
   "source": [
    "lean_server = RobustLeanServer()"
   ]
  },
  {
   "cell_type": "code",
   "execution_count": 10,
   "metadata": {},
   "outputs": [
    {
     "name": "stdout",
     "output_type": "stream",
     "text": [
      "import Mathlib\n",
      "import Aesop\n",
      "\n",
      "set_option maxHeartbeats 0\n",
      "\n",
      "open BigOperators Real Nat Topology Rat\n",
      "\n",
      "theorem no_integers_satisfy_equation : ¬∃ (x y : ℤ), 4 * x^3 - 7 * y^3 = 2003 := sorry\n",
      "[{'severity': 'warning', 'pos': {'line': 8, 'column': 8}, 'endPos': {'line': 8, 'column': 36}, 'data': \"declaration uses 'sorry'\"}]\n"
     ]
    }
   ],
   "source": [
    "txt = df.iloc[0].header + df.iloc[0].generated_formal_statement\n",
    "print(txt)\n",
    "\n",
    "result = lean_server.run_code(txt)\n",
    "print(result['messages'])"
   ]
  },
  {
   "cell_type": "code",
   "execution_count": 20,
   "metadata": {},
   "outputs": [
    {
     "name": "stdout",
     "output_type": "stream",
     "text": [
      "import Mathlib\n",
      "\n",
      "theorem exists_infinitely_many_n_for_prime_divisors {k : ℕ} :\n",
      "  ∃ᶠ n in at_top, ∀ p : ℕ, p.Prime → p ∣ n^2 + 3 → ∃ k : ℤ, k^2 < n ∧ p ∣ k^2 + 3 := sorry\n",
      "[{'severity': 'error', 'pos': {'line': 4, 'column': 74}, 'endPos': {'line': 4, 'column': 81}, 'data': 'failed to synthesize\\n  HAdd ℤ ℤ ℕ\\nAdditional diagnostic information may be available using the `set_option diagnostics true` command.'}]\n"
     ]
    }
   ],
   "source": [
    "n = 210\n",
    "txt = \"import Mathlib\\n\\n\"+df.iloc[n].header + df.iloc[n].generated_formal_statement\n",
    "print(txt)\n",
    "result = lean_server.run_code(txt, timeout=60)\n",
    "messages = result['messages']\n",
    "print(messages)"
   ]
  },
  {
   "cell_type": "code",
   "execution_count": 34,
   "metadata": {},
   "outputs": [
    {
     "data": {
      "text/plain": [
       "[{'severity': 'error',\n",
       "  'pos': {'line': 3, 'column': 96},\n",
       "  'endPos': {'line': 3, 'column': 103},\n",
       "  'data': 'failed to synthesize\\n  HAdd ℤ ℤ ℕ\\nAdditional diagnostic information may be available using the `set_option diagnostics true` command.'}]"
      ]
     },
     "execution_count": 34,
     "metadata": {},
     "output_type": "execute_result"
    }
   ],
   "source": [
    "get_repl_errors(df.iloc[n].generated_formal_statement, df.iloc[n].header, lean_server)"
   ]
  },
  {
   "cell_type": "markdown",
   "metadata": {},
   "source": [
    "### BLEU:"
   ]
  },
  {
   "cell_type": "code",
   "execution_count": 13,
   "metadata": {},
   "outputs": [
    {
     "name": "stdout",
     "output_type": "stream",
     "text": [
      "Generated: \n",
      "theorem dummy : ¬∃ (x y : ℤ), 4 * x^3 - 7 * y^3 = 2003 :=\n",
      "sorry\n",
      "\n",
      "Reference: \n",
      "theorem dummy (x y : ℤ) : 4 * x ^ 3 - 7 * y ^ 3 ≠ 2003 :=\n",
      "sorry\n"
     ]
    }
   ],
   "source": [
    "generated = clean_theorem_string(df.iloc[0].generated_formal_statement)\n",
    "reference = clean_theorem_string(df.iloc[0].formal_statement)\n",
    "print(f\"Generated: \\n{generated}\\n\\nReference: \\n{reference}\")"
   ]
  },
  {
   "cell_type": "code",
   "execution_count": 14,
   "metadata": {},
   "outputs": [
    {
     "data": {
      "text/plain": [
       "0.15421048160685175"
      ]
     },
     "execution_count": 14,
     "metadata": {},
     "output_type": "execute_result"
    }
   ],
   "source": [
    "bleu_eval(generated, reference)"
   ]
  },
  {
   "cell_type": "markdown",
   "metadata": {},
   "source": [
    "### Cosine sim"
   ]
  },
  {
   "cell_type": "code",
   "execution_count": 15,
   "metadata": {},
   "outputs": [
    {
     "data": {
      "text/plain": [
       "0.9802588087715985"
      ]
     },
     "execution_count": 15,
     "metadata": {},
     "output_type": "execute_result"
    }
   ],
   "source": [
    "cos_similarity(generated, reference)"
   ]
  },
  {
   "cell_type": "markdown",
   "metadata": {},
   "source": [
    "### lil data analysis"
   ]
  },
  {
   "cell_type": "code",
   "execution_count": 16,
   "metadata": {},
   "outputs": [
    {
     "ename": "FileNotFoundError",
     "evalue": "[Errno 2] No such file or directory: 'results/evaluations/direct_translation_with_general_fewshot_gpt-4o_evaluated.json'",
     "output_type": "error",
     "traceback": [
      "\u001b[0;31m---------------------------------------------------------------------------\u001b[0m",
      "\u001b[0;31mFileNotFoundError\u001b[0m                         Traceback (most recent call last)",
      "Cell \u001b[0;32mIn[16], line 2\u001b[0m\n\u001b[1;32m      1\u001b[0m json_file_path \u001b[38;5;241m=\u001b[39m \u001b[38;5;124m'\u001b[39m\u001b[38;5;124mresults/evaluations/direct_translation_with_general_fewshot_gpt-4o_evaluated.json\u001b[39m\u001b[38;5;124m'\u001b[39m\n\u001b[0;32m----> 2\u001b[0m \u001b[38;5;28;01mwith\u001b[39;00m \u001b[38;5;28;43mopen\u001b[39;49m\u001b[43m(\u001b[49m\u001b[43mjson_file_path\u001b[49m\u001b[43m,\u001b[49m\u001b[43m \u001b[49m\u001b[38;5;124;43m'\u001b[39;49m\u001b[38;5;124;43mr\u001b[39;49m\u001b[38;5;124;43m'\u001b[39;49m\u001b[43m)\u001b[49m \u001b[38;5;28;01mas\u001b[39;00m f:\n\u001b[1;32m      3\u001b[0m     data \u001b[38;5;241m=\u001b[39m json\u001b[38;5;241m.\u001b[39mload(f)\n\u001b[1;32m      5\u001b[0m df \u001b[38;5;241m=\u001b[39m pd\u001b[38;5;241m.\u001b[39mDataFrame(data)\n",
      "File \u001b[0;32m~/Anaconda3/envs/modern_nlp/lib/python3.10/site-packages/IPython/core/interactiveshell.py:324\u001b[0m, in \u001b[0;36m_modified_open\u001b[0;34m(file, *args, **kwargs)\u001b[0m\n\u001b[1;32m    317\u001b[0m \u001b[38;5;28;01mif\u001b[39;00m file \u001b[38;5;129;01min\u001b[39;00m {\u001b[38;5;241m0\u001b[39m, \u001b[38;5;241m1\u001b[39m, \u001b[38;5;241m2\u001b[39m}:\n\u001b[1;32m    318\u001b[0m     \u001b[38;5;28;01mraise\u001b[39;00m \u001b[38;5;167;01mValueError\u001b[39;00m(\n\u001b[1;32m    319\u001b[0m         \u001b[38;5;124mf\u001b[39m\u001b[38;5;124m\"\u001b[39m\u001b[38;5;124mIPython won\u001b[39m\u001b[38;5;124m'\u001b[39m\u001b[38;5;124mt let you open fd=\u001b[39m\u001b[38;5;132;01m{\u001b[39;00mfile\u001b[38;5;132;01m}\u001b[39;00m\u001b[38;5;124m by default \u001b[39m\u001b[38;5;124m\"\u001b[39m\n\u001b[1;32m    320\u001b[0m         \u001b[38;5;124m\"\u001b[39m\u001b[38;5;124mas it is likely to crash IPython. If you know what you are doing, \u001b[39m\u001b[38;5;124m\"\u001b[39m\n\u001b[1;32m    321\u001b[0m         \u001b[38;5;124m\"\u001b[39m\u001b[38;5;124myou can use builtins\u001b[39m\u001b[38;5;124m'\u001b[39m\u001b[38;5;124m open.\u001b[39m\u001b[38;5;124m\"\u001b[39m\n\u001b[1;32m    322\u001b[0m     )\n\u001b[0;32m--> 324\u001b[0m \u001b[38;5;28;01mreturn\u001b[39;00m \u001b[43mio_open\u001b[49m\u001b[43m(\u001b[49m\u001b[43mfile\u001b[49m\u001b[43m,\u001b[49m\u001b[43m \u001b[49m\u001b[38;5;241;43m*\u001b[39;49m\u001b[43margs\u001b[49m\u001b[43m,\u001b[49m\u001b[43m \u001b[49m\u001b[38;5;241;43m*\u001b[39;49m\u001b[38;5;241;43m*\u001b[39;49m\u001b[43mkwargs\u001b[49m\u001b[43m)\u001b[49m\n",
      "\u001b[0;31mFileNotFoundError\u001b[0m: [Errno 2] No such file or directory: 'results/evaluations/direct_translation_with_general_fewshot_gpt-4o_evaluated.json'"
     ]
    }
   ],
   "source": [
    "json_file_path = 'results/evaluations/direct_translation_with_general_fewshot_gpt-4o_evaluated.json'\n",
    "with open(json_file_path, 'r') as f:\n",
    "    data = json.load(f)\n",
    "    \n",
    "df = pd.DataFrame(data)"
   ]
  },
  {
   "cell_type": "code",
   "execution_count": 105,
   "metadata": {},
   "outputs": [],
   "source": [
    "df['ref_len'] = df['formal_statement'].apply(len)\n",
    "df['gen_len'] = df['generated_formal_statement'].apply(len)\n",
    "df['ends_with_sorry'] = df['generated_formal_statement'].str.endswith('sorry')"
   ]
  },
  {
   "cell_type": "code",
   "execution_count": 110,
   "metadata": {},
   "outputs": [
    {
     "name": "stdout",
     "output_type": "stream",
     "text": [
      "             bleu  cosine_similarity     ref_len      gen_len\n",
      "count  234.000000         234.000000  234.000000   234.000000\n",
      "mean     0.271398           0.892410  159.230769   174.004274\n",
      "std      0.254483           0.026621  102.329929   207.671528\n",
      "min      0.000198           0.806644   49.000000    42.000000\n",
      "25%      0.081127           0.875569   84.000000    95.000000\n",
      "50%      0.194772           0.894469  128.000000   137.000000\n",
      "75%      0.390686           0.912456  199.750000   191.000000\n",
      "max      1.000000           0.944266  757.000000  2546.000000\n"
     ]
    }
   ],
   "source": [
    "summary_stats = df[['bleu', 'cosine_similarity', 'ref_len', 'gen_len']].describe()\n",
    "print(summary_stats)"
   ]
  },
  {
   "cell_type": "code",
   "execution_count": 120,
   "metadata": {},
   "outputs": [
    {
     "data": {
      "image/png": "[encoded data removed]",
      "text/plain": [
       "<Figure size 2000x500 with 4 Axes>"
      ]
     },
     "metadata": {},
     "output_type": "display_data"
    }
   ],
   "source": [
    "import matplotlib.pyplot as plt\n",
    "\n",
    "columns = ['bleu', 'cosine_similarity', 'ref_len', 'gen_len']\n",
    "fig, axes = plt.subplots(1, 4, figsize=(20, 5))  # figsize controls the overall size of the plot\n",
    "\n",
    "for ax, column in zip(axes, columns):\n",
    "    df[df['ends_with_sorry'] == True][column].hist(bins=20, alpha=0.5, label='ends_with_sorry=True', ax=ax)\n",
    "    df[df['ends_with_sorry'] == False][column].hist(bins=20, alpha=0.5, label='ends_with_sorry=False', ax=ax)\n",
    "    \n",
    "    ax.set_title(f'Distribution of {column}')\n",
    "    ax.set_xlabel(column)\n",
    "    ax.set_ylabel('Frequency')\n",
    "    ax.legend()\n",
    "\n",
    "plt.tight_layout()\n",
    "plt.show()\n"
   ]
  },
  {
   "cell_type": "code",
   "execution_count": 113,
   "metadata": {},
   "outputs": [
    {
     "name": "stdout",
     "output_type": "stream",
     "text": [
      "                       bleu  cosine_similarity   ref_len   gen_len\n",
      "bleu               1.000000           0.204905 -0.436111 -0.257112\n",
      "cosine_similarity  0.204905           1.000000  0.167958 -0.066965\n",
      "ref_len           -0.436111           0.167958  1.000000  0.299346\n",
      "gen_len           -0.257112          -0.066965  0.299346  1.000000\n"
     ]
    }
   ],
   "source": [
    "correlation_matrix = df[['bleu', 'cosine_similarity', 'ref_len', 'gen_len']].corr()\n",
    "print(correlation_matrix)"
   ]
  },
  {
   "cell_type": "code",
   "execution_count": 115,
   "metadata": {},
   "outputs": [
    {
     "name": "stdout",
     "output_type": "stream",
     "text": [
      "                     bleu  cosine_similarity\n",
      "ends_with_sorry                             \n",
      "False            0.074589           0.870529\n",
      "True             0.278365           0.893185\n"
     ]
    }
   ],
   "source": [
    "sorry_analysis = df.groupby('ends_with_sorry')[['bleu', 'cosine_similarity']].mean()\n",
    "print(sorry_analysis)"
   ]
  },
  {
   "cell_type": "code",
   "execution_count": 116,
   "metadata": {},
   "outputs": [
    {
     "data": {
      "image/png": "[encoded data removed]",
      "text/plain": [
       "<Figure size 640x480 with 1 Axes>"
      ]
     },
     "metadata": {},
     "output_type": "display_data"
    }
   ],
   "source": [
    "import seaborn as sns\n",
    "\n",
    "plt.figure()\n",
    "sns.scatterplot(data=df, x='bleu', y='cosine_similarity', hue='ends_with_sorry')\n",
    "plt.title('BLEU vs Cosine Similarity')\n",
    "plt.xlabel('BLEU Score')\n",
    "plt.ylabel('Cosine Similarity')\n",
    "plt.show()"
   ]
  },
  {
   "cell_type": "markdown",
   "metadata": {},
   "source": [
    "## hypothesis decomp"
   ]
  },
  {
   "cell_type": "markdown",
   "metadata": {},
   "source": [
    "### understanding the format"
   ]
  },
  {
   "cell_type": "markdown",
   "metadata": {},
   "source": [
    "from fewshot:"
   ]
  },
  {
   "cell_type": "code",
   "execution_count": 22,
   "metadata": {},
   "outputs": [
    {
     "name": "stdout",
     "output_type": "stream",
     "text": [
      "theorem exists_le_sylow\n",
      " [Group G] {P : Subgroup G} (hP : IsPGroup p P) : ∃ Q : Sylow p G, P ≤ Q \n",
      ":= sorry\n"
     ]
    }
   ],
   "source": [
    "statement = \"theorem exists_le_sylow\\n [Group G] {P : Subgroup G} (hP : IsPGroup p P) : ∃ Q : Sylow p G, P ≤ Q \\n:= sorry\"\n",
    "print(statement)"
   ]
  },
  {
   "cell_type": "markdown",
   "metadata": {},
   "source": [
    "from original dataset:"
   ]
  },
  {
   "cell_type": "code",
   "execution_count": 21,
   "metadata": {},
   "outputs": [
    {
     "name": "stdout",
     "output_type": "stream",
     "text": [
      "theorem numbertheory_4x3m7y3neq2003\n",
      " (x y : ℤ) : 4 * x ^ 3 - 7 * y ^ 3 ≠ 2003 \n",
      ":= sorry\n"
     ]
    }
   ],
   "source": [
    "statement = \"theorem numbertheory_4x3m7y3neq2003\\n (x y : \\u2124) : 4 * x ^ 3 - 7 * y ^ 3 \\u2260 2003 \\n:= sorry\"\n",
    "print(statement)"
   ]
  },
  {
   "cell_type": "markdown",
   "metadata": {},
   "source": [
    "generated:"
   ]
  },
  {
   "cell_type": "code",
   "execution_count": 24,
   "metadata": {},
   "outputs": [
    {
     "name": "stdout",
     "output_type": "stream",
     "text": [
      "theorem sum_of_nice_numbers : \n",
      "  let is_nice (n : ℕ) : Prop := \n",
      "    ∃ m : ℕ, m > 0 ∧ (∃ a b : ℕ, a * b = m ∧ a ≠ b ∧ a > 0 ∧ b > 0 ∧ a + b + 1 + m = n)\n",
      "  in (∑ n in finset.range 2020 \\ finset.range 2010, if is_nice n then n else 0) = 2016 :=\n",
      "sorry\n"
     ]
    }
   ],
   "source": [
    "statement = \"theorem sum_of_nice_numbers : \\n  let is_nice (n : \\u2115) : Prop := \\n    \\u2203 m : \\u2115, m > 0 \\u2227 (\\u2203 a b : \\u2115, a * b = m \\u2227 a \\u2260 b \\u2227 a > 0 \\u2227 b > 0 \\u2227 a + b + 1 + m = n)\\n  in (\\u2211 n in finset.range 2020 \\\\ finset.range 2010, if is_nice n then n else 0) = 2016 :=\\nsorry\"\n",
    "print(statement)\n"
   ]
  },
  {
   "cell_type": "code",
   "execution_count": 25,
   "metadata": {},
   "outputs": [
    {
     "name": "stdout",
     "output_type": "stream",
     "text": [
      "theorem f_divides_f {m n : ℕ} (hm : 0 < m) (hn : 0 < n) (h : m ≤ n) :\n",
      "    let f (x : ℕ) := 4^x + 6^x + 9^x\n",
      "    in f (2^m) ∣ f (2^n) :=\n",
      "  sorry\n"
     ]
    }
   ],
   "source": [
    "statement = \"theorem f_divides_f {m n : \\u2115} (hm : 0 < m) (hn : 0 < n) (h : m \\u2264 n) :\\n    let f (x : \\u2115) := 4^x + 6^x + 9^x\\n    in f (2^m) \\u2223 f (2^n) :=\\n  sorry\"\n",
    "print(statement)\n"
   ]
  },
  {
   "cell_type": "markdown",
   "metadata": {},
   "source": [
    "### trying stuff"
   ]
  },
  {
   "cell_type": "code",
   "execution_count": null,
   "metadata": {},
   "outputs": [],
   "source": []
  },
  {
   "cell_type": "markdown",
   "metadata": {},
   "source": [
    "## retrieval"
   ]
  },
  {
   "cell_type": "code",
   "execution_count": 1,
   "metadata": {},
   "outputs": [
    {
     "name": "stdout",
     "output_type": "stream",
     "text": [
      "Using device: cpu\n"
     ]
    }
   ],
   "source": [
    "from encoding_retrieval import *"
   ]
  },
  {
   "cell_type": "code",
   "execution_count": 2,
   "metadata": {},
   "outputs": [
    {
     "name": "stderr",
     "output_type": "stream",
     "text": [
      "Special tokens have been added in the vocabulary, make sure the associated word embeddings are fine-tuned or trained.\n"
     ]
    }
   ],
   "source": [
    "tokenizer = AutoTokenizer.from_pretrained(\"kaiyuy/leandojo-lean4-retriever-byt5-small\")\n",
    "model = AutoModelForTextEncoding.from_pretrained(\"kaiyuy/leandojo-lean4-retriever-byt5-small\")\n",
    "model.eval()\n",
    "model.to(device)\n",
    "\n",
    "premises, encodings = get_premises_and_encodings(premises_file = \"/home/agatha/Desktop/MA3/sem proj/autoformalization_with_hypothesis/data/premises_defs.pkl\")"
   ]
  },
  {
   "cell_type": "markdown",
   "metadata": {},
   "source": [
    "### filter out thm and lemma"
   ]
  },
  {
   "cell_type": "code",
   "execution_count": 7,
   "metadata": {},
   "outputs": [
    {
     "name": "stdout",
     "output_type": "stream",
     "text": [
      "Number of theorems and lemmas: 0\n"
     ]
    }
   ],
   "source": [
    "def is_theorem(premise):\n",
    "    return 'theorem' in premise\n",
    "\n",
    "def is_lemma(premise):\n",
    "    return 'lemma' in premise\n",
    "\n",
    "count = sum(1 for premise in premises if is_lemma(premise) or is_theorem(premise))\n",
    "print(f\"Number of theorems and lemmas: {count}\")"
   ]
  },
  {
   "cell_type": "code",
   "execution_count": 115,
   "metadata": {},
   "outputs": [],
   "source": [
    "premises_keep = []\n",
    "encodings_keep = []\n",
    "for premise, encoding in zip(premises, encodings):\n",
    "    if not (is_lemma(premise) or is_theorem(premise)):\n",
    "        premises_keep.append(premise)\n",
    "        encodings_keep.append(encoding)\n",
    "\n",
    "encodings_keep = np.stack(encodings_keep)"
   ]
  },
  {
   "cell_type": "code",
   "execution_count": 117,
   "metadata": {},
   "outputs": [
    {
     "name": "stdout",
     "output_type": "stream",
     "text": [
      "Premises and encodings saved to data/premises_defs.pkl\n"
     ]
    }
   ],
   "source": [
    "data = {'premises': premises_keep, 'encodings': encodings_keep}\n",
    "filename = 'data/premises_defs.pkl'\n",
    "\n",
    "with open(filename, 'wb') as f:\n",
    "    pickle.dump(data, f)\n",
    "print(f\"Premises and encodings saved to {filename}\")"
   ]
  },
  {
   "cell_type": "code",
   "execution_count": 118,
   "metadata": {},
   "outputs": [],
   "source": [
    "premises, encodings = get_premises_and_encodings(premises_file = \"/home/agatha/Desktop/MA3/sem proj/autoformalization_with_hypothesis/data/premises_defs.pkl\")"
   ]
  },
  {
   "cell_type": "markdown",
   "metadata": {},
   "source": [
    "### improving retrieval"
   ]
  },
  {
   "cell_type": "code",
   "execution_count": 17,
   "metadata": {},
   "outputs": [
    {
     "name": "stdout",
     "output_type": "stream",
     "text": [
      "def BddAbove (s : Set α) :=\n",
      "  (upperBounds s).Nonempty\n",
      "class NoMinOrder (α : Type*) [LT α] : Prop where\n",
      "  \n",
      "  exists_lt (a : α) : ∃ b, b < a\n",
      "class NoMaxOrder (α : Type*) [LT α] : Prop where\n",
      "  \n",
      "  exists_gt (a : α) : ∃ b, a < b\n",
      "def BddBelow (s : Set α) :=\n",
      "  (lowerBounds s).Nonempty\n",
      "def lowerBounds (s : Set α) : Set α :=\n",
      "  { x | ∀ ⦃a⦄, a ∈ s → x ≤ a }\n"
     ]
    }
   ],
   "source": [
    "# FULL QUERY:\n",
    "# query = \"\"\"\n",
    "# G : Type u_1\n",
    "# p : ℕ\n",
    "# inst✝ : Group G\n",
    "# P : Subgroup G\n",
    "# hP : IsPGroup p ↥P\n",
    "# ⊢ ∃ Q, P ≤ ↑Q\n",
    "# \"\"\"\n",
    "\n",
    "query = \"\"\"\n",
    "G : Type u_1\n",
    "⊢ ∃ Q, P ≤ ↑Q\n",
    "\"\"\"\n",
    "\n",
    "k=5\n",
    "\n",
    "result = retrieve(query, premises, encodings, k, tokenizer, model)\n",
    "for res in result:\n",
    "    print(res)"
   ]
  },
  {
   "cell_type": "markdown",
   "metadata": {},
   "source": [
    "## Leansearch"
   ]
  },
  {
   "cell_type": "markdown",
   "metadata": {},
   "source": [
    "### querying"
   ]
  },
  {
   "cell_type": "code",
   "execution_count": 1,
   "metadata": {},
   "outputs": [
    {
     "name": "stdout",
     "output_type": "stream",
     "text": [
      "[{'id': 249140, 'formal_name': 'Nat.testBit_to_div_mod', 'formal_type': '∀ {i x : Nat}, testBit x i = decide (x / 2 ^ i % 2 = 1)', 'kind': 'theorem', 'file_name': 'Mathlib.Topology.Algebra.Order.Floor', 'doc_url': 'https://leanprover-community.github.io/mathlib4_docs/find/?pattern=Nat.testBit_to_div_mod#doc', 'docstring': ''}, {'id': 249154, 'formal_name': 'Nat.testBit_two_pow_sub_one', 'formal_type': '∀ (n i : Nat), testBit (2 ^ n - 1) i = decide (i < n)', 'kind': 'theorem', 'file_name': 'Mathlib.Topology.Algebra.Order.Floor', 'doc_url': 'https://leanprover-community.github.io/mathlib4_docs/find/?pattern=Nat.testBit_two_pow_sub_one#doc', 'docstring': ''}, {'id': 249145, 'formal_name': 'Nat.testBit_implies_ge', 'formal_type': '∀ {i x : Nat}, testBit x i = true → x ≥ 2 ^ i', 'kind': 'theorem', 'file_name': 'Mathlib.Topology.Algebra.Order.Floor', 'doc_url': 'https://leanprover-community.github.io/mathlib4_docs/find/?pattern=Nat.testBit_implies_ge#doc', 'docstring': ''}, {'id': 249139, 'formal_name': 'Nat.testBit_succ', 'formal_type': '∀ (x i : Nat), testBit x (succ i) = testBit (x / 2) i', 'kind': 'theorem', 'file_name': 'Mathlib.Topology.Algebra.Order.Floor', 'doc_url': 'https://leanprover-community.github.io/mathlib4_docs/find/?pattern=Nat.testBit_succ#doc', 'docstring': ''}, {'id': 1740, 'formal_name': 'Nat.ble_eq', 'formal_type': '∀ {x y : Nat}, (Nat.ble x y = true) = (x ≤ y)', 'kind': 'theorem', 'file_name': 'Init.Data.ByteArray', 'doc_url': 'https://leanprover-community.github.io/mathlib4_docs/find/?pattern=Nat.ble_eq#doc', 'docstring': ''}, {'id': 124516, 'formal_name': 'PosNum.testBit', 'formal_type': 'PosNum → ℕ → Bool', 'kind': 'def', 'file_name': 'Mathlib.Data.Nat.PSub', 'doc_url': 'https://leanprover-community.github.io/mathlib4_docs/find/?pattern=PosNum.testBit#doc', 'docstring': '`a.testBit n` is `true` iff the `n`-th bit (starting from the LSB) in the binary representation\\n      of `a` is active. If the size of `a` is less than `n`, this evaluates to `false`. '}, {'id': 114952, 'formal_name': 'Int.testBit_lxor', 'formal_type': '∀ (m n : ℤ) (k : ℕ), Int.testBit (Int.xor m n) k = xor (Int.testBit m k) (Int.testBit n k)', 'kind': 'theorem', 'file_name': 'Mathlib.Data.Finsupp.AList', 'doc_url': 'https://leanprover-community.github.io/mathlib4_docs/find/?pattern=Int.testBit_lxor#doc', 'docstring': ''}, {'id': 249138, 'formal_name': 'Nat.testBit_zero', 'formal_type': '∀ (x : Nat), testBit x 0 = decide (x % 2 = 1)', 'kind': 'theorem', 'file_name': 'Mathlib.Topology.Algebra.Order.Floor', 'doc_url': 'https://leanprover-community.github.io/mathlib4_docs/find/?pattern=Nat.testBit_zero#doc', 'docstring': ''}, {'id': 249168, 'formal_name': 'Nat.testBit_mul_pow_two_add', 'formal_type': '∀ (a : Nat) {b i : Nat},   b < 2 ^ i → ∀ (j : Nat), testBit (2 ^ i * a + b) j = if j < i then testBit b j else testBit a (j - i)', 'kind': 'theorem', 'file_name': 'Mathlib.Topology.Algebra.Order.Floor', 'doc_url': 'https://leanprover-community.github.io/mathlib4_docs/find/?pattern=Nat.testBit_mul_pow_two_add#doc', 'docstring': ''}, {'id': 249169, 'formal_name': 'Nat.testBit_mul_pow_two', 'formal_type': '∀ {i a j : Nat}, testBit (2 ^ i * a) j = (decide (j ≥ i) && testBit a (j - i))', 'kind': 'theorem', 'file_name': 'Mathlib.Topology.Algebra.Order.Floor', 'doc_url': 'https://leanprover-community.github.io/mathlib4_docs/find/?pattern=Nat.testBit_mul_pow_two#doc', 'docstring': ''}]\n"
     ]
    }
   ],
   "source": [
    "import requests\n",
    "\n",
    "s = \"test\"\n",
    "num_results = 10\n",
    "x = requests.get(rf\"https://leansearch.net/api/search?query={s}&num_results={num_results}\")\n",
    "print(x.json())"
   ]
  },
  {
   "cell_type": "code",
   "execution_count": 3,
   "metadata": {},
   "outputs": [
    {
     "name": "stdout",
     "output_type": "stream",
     "text": [
      "Using device: cpu\n"
     ]
    }
   ],
   "source": [
    "from encoding_retrieval import *"
   ]
  },
  {
   "cell_type": "code",
   "execution_count": 4,
   "metadata": {},
   "outputs": [
    {
     "name": "stdout",
     "output_type": "stream",
     "text": [
      "[]\n"
     ]
    }
   ],
   "source": [
    "subq = \"Let $H$ be a subgroup of the additive group of ordered pairs of integers under componentwise addition. If $H$ is generated by the elements $(3, 8)$, $(4, -1)$, and $(5, 4)$, then $H$ is also generated by two elements $(1, b)$ and $(0, a)$ for some integer $b$ and positive integer $a$. Find $a$.\"\n",
    "\n",
    "all = leansearch(subq, k=5)\n",
    "print(all)"
   ]
  },
  {
   "cell_type": "code",
   "execution_count": 5,
   "metadata": {},
   "outputs": [],
   "source": [
    "for r in all:\n",
    "    print(r)"
   ]
  },
  {
   "cell_type": "code",
   "execution_count": 5,
   "metadata": {},
   "outputs": [
    {
     "name": "stdout",
     "output_type": "stream",
     "text": [
      "{'G is a group': 'definition of a group', 'P is a subgroup of G': 'definition of a subgroup', 'Q is a Sylow p-subgroup of G': 'definition of a Sylow p-subgroup', 'P is contained in Q': 'definition contained subgroup'}\n",
      "{'E and F are normed spaces': 'definition of a normed space', 'E and F are complex spaces': 'definition of a complex space', 'f is a function from E to F': 'definition of a function', 'f is differentiable': 'definition of a differentiable function', 'f is bounded': 'definition of a bounded function', 'f is constant': 'definition of a constant function'}\n",
      "{'f and g are multiplicative functions': 'definition multiplicative function', 'f and g are equal': 'definition equality of functions', 'f(p^i) = g(p^i) for all primes $p$': 'definition prime number'}\n",
      "{'B is a bilinear form': 'definition of a bilinear form', '$\\\\{v_i\\\\}_{i\\\\in I}$ is an orthogonal set of vectors with respect to B': 'definition othogonal set of vectors', 'the set of vectors is independent': 'definition independent set of vectors'}\n",
      "{'$V$ is an $n$-dimensional vector space': 'definition of a n-dimensional vector space'}\n",
      "{'group is commutative': 'definition commutative group', 'center of the group': 'definition center of a group', 'quotient by the center': 'definition quotient of a group', 'group is cyclic': 'definition cyclic group'}\n",
      "{'G is a group': 'definition of a group', 'H is a p-subgroup of G': 'definition p-subgroup', 'index of H': 'definition index of a subgroup', 'normalizer of H': 'definition normalizer of a subgroup', 'congruence modulo p': 'definition congruence modulo'}\n",
      "{'X, Y, Z are metric spaces': 'definition metric space', 'Y is compact': 'definition compact space', 'g is a continuous mapping of Y into Z': 'definition continuous function', 'g is a one-to-one mapping of Y into Z': 'definition injetive function', '$f$ is uniformly continuous if $h$ is uniformly continuous': 'definition uniformly continuous function'}\n"
     ]
    }
   ],
   "source": [
    "import jsonlines\n",
    "\n",
    "file_path = '/home/agatha/Desktop/MA3/sem proj/autoformalization_with_hypothesis/data/8_shot_proofnet_lean4_decomp.jsonl'\n",
    "items_list = []\n",
    "with jsonlines.open(file_path) as reader:\n",
    "    for obj in reader:\n",
    "        items_list.append(obj)\n",
    "\n",
    "for item in items_list:\n",
    "    dic = item['hyp_decomp']\n",
    "    print(dic)"
   ]
  },
  {
   "cell_type": "markdown",
   "metadata": {},
   "source": [
    "### generation w LS"
   ]
  },
  {
   "cell_type": "code",
   "execution_count": 20,
   "metadata": {},
   "outputs": [],
   "source": [
    "fs_path = '/home/agatha/Desktop/MA3/sem proj/autoformalization_with_hypothesis/data/8_shot_proofnet_lean4_decomp.jsonl'\n",
    "fs = load_few_shot_examples(fs_path)"
   ]
  },
  {
   "cell_type": "code",
   "execution_count": null,
   "metadata": {},
   "outputs": [],
   "source": [
    "informal_statement = \"Show that there are no integers $x$ and $y$ such that $4x^3 - 7y^3 = 2003$.\"\n",
    "instruction = f'''You are a helpful assistant specializing in mathematical reasoning. You will be given a mathematical statement in natural language. Your task is to:\n",
    "\n",
    "1. Break down the statement into separate premises or components.\n",
    "2. For each premise, propose a natural language query that will be used by a documentation search tool (Leansearch) to retrieve relevant Lean documentation or definitions.\n",
    "3. Present the result as a dictionary in the following format,:\n",
    "\n",
    "{{\n",
    "    <premise in plain language>: <Leansearch query>,\n",
    "    <premise in plain language>: <Leansearch query>,\n",
    "    ...\n",
    "}}\n",
    "\n",
    "Make sure to:\n",
    "- Identify all important objects, functions, sets, properties, and relationships within the statement.\n",
    "- Generate a short natural language query for each premise. \n",
    "- Do not attempt to formalize the statement in Lean yet. Only provide the premises and corresponding queries.\n",
    "\n",
    "Below are some examples:\n",
    "'''\n",
    "for item in fs:\n",
    "    instruction += f\"natural language statement: {item['nl_statement']} \\n\"\n",
    "    instruction += f\"hyp_decomp: {item['hyp_decomp']} \\n\\n\"\n",
    "\n",
    "instruction += f\"Now it's your turn: \\nnatural language statement: {informal_statement} \\nhyp_decomp: \"\n",
    "\n",
    "print(instruction)"
   ]
  },
  {
   "cell_type": "code",
   "execution_count": 76,
   "metadata": {},
   "outputs": [],
   "source": [
    "decomp = leansearch_hypothesis_decomp(informal_statement, fs)"
   ]
  },
  {
   "cell_type": "code",
   "execution_count": 77,
   "metadata": {},
   "outputs": [
    {
     "data": {
      "text/plain": [
       "{'x and y are integers': 'definition of integers',\n",
       " '4x^3 - 7y^3 = 2003': 'equation involving integers and powers'}"
      ]
     },
     "execution_count": 77,
     "metadata": {},
     "output_type": "execute_result"
    }
   ],
   "source": [
    "decomp"
   ]
  },
  {
   "cell_type": "code",
   "execution_count": 86,
   "metadata": {},
   "outputs": [
    {
     "data": {
      "text/plain": [
       "[{'formal_name': 'Dioph',\n",
       "  'formal_type': '{α : Type u} → Set (α → ℕ) → Prop',\n",
       "  'file_name': 'Mathlib.MeasureTheory.Measure.Lebesgue.Complex',\n",
       "  'docstring': 'A set `S ⊆ ℕ^α` is Diophantine if there exists a polynomial on\\n  `α ⊕ β` such that `v ∈ S` iff there exists `t : ℕ^β` with `p (v, t) = 0`. '}]"
      ]
     },
     "execution_count": 86,
     "metadata": {},
     "output_type": "execute_result"
    }
   ],
   "source": [
    "leansearch('definition diophantine equation')"
   ]
  },
  {
   "cell_type": "code",
   "execution_count": 84,
   "metadata": {},
   "outputs": [
    {
     "name": "stdout",
     "output_type": "stream",
     "text": [
      "[{'formal_name': 'Int.infinite', 'formal_type': 'Infinite ℤ', 'file_name': 'Mathlib.Data.Finset.Lattice', 'docstring': ''}]\n",
      "[]\n"
     ]
    }
   ],
   "source": [
    "retrieved = [leansearch(query) for query in decomp.values()]\n",
    "for res in retrieved:\n",
    "    print(res)"
   ]
  },
  {
   "cell_type": "code",
   "execution_count": 90,
   "metadata": {},
   "outputs": [],
   "source": [
    "prompt = generate_prompt(informal_statement, fs, retrieved=retrieved)"
   ]
  },
  {
   "cell_type": "code",
   "execution_count": 91,
   "metadata": {},
   "outputs": [],
   "source": [
    "formal_statement = translate_statement(\n",
    "    informal_statement,\n",
    "    few_shot_examples = fs,\n",
    "    retrieved = retrieved,\n",
    "    model=config.DEFAULT_MODEL,\n",
    "    temperature=0.0,\n",
    "    max_tokens=1000,\n",
    "    )"
   ]
  },
  {
   "cell_type": "code",
   "execution_count": 92,
   "metadata": {},
   "outputs": [
    {
     "name": "stdout",
     "output_type": "stream",
     "text": [
      "theorem no_integers_satisfy_equation :\n",
      "  ¬∃ (x y : ℤ), 4 * x ^ 3 - 7 * y ^ 3 = 2003 := sorry\n"
     ]
    }
   ],
   "source": [
    "print(formal_statement)"
   ]
  }
 ],
 "metadata": {
  "kernelspec": {
   "display_name": "modern_nlp",
   "language": "python",
   "name": "python3"
  },
  "language_info": {
   "codemirror_mode": {
    "name": "ipython",
    "version": 3
   },
   "file_extension": ".py",
   "mimetype": "text/x-python",
   "name": "python",
   "nbconvert_exporter": "python",
   "pygments_lexer": "ipython3",
   "version": "3.10.13"
  }
 },
 "nbformat": 4,
 "nbformat_minor": 2
}
