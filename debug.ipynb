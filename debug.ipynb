{
 "cells": [
  {
   "cell_type": "markdown",
   "metadata": {},
   "source": [
    "## Setup"
   ]
  },
  {
   "cell_type": "code",
   "execution_count": 18,
   "metadata": {},
   "outputs": [
    {
     "name": "stdout",
     "output_type": "stream",
     "text": [
      "The autoreload extension is already loaded. To reload it, use:\n",
      "  %reload_ext autoreload\n"
     ]
    }
   ],
   "source": [
    "%load_ext autoreload\n",
    "%autoreload 2"
   ]
  },
  {
   "cell_type": "code",
   "execution_count": 28,
   "metadata": {},
   "outputs": [],
   "source": [
    "import os\n",
    "import time\n",
    "import json\n",
    "from tqdm import tqdm\n",
    "from datasets import load_dataset, concatenate_datasets\n",
    "\n",
    "import config\n",
    "from utils import *\n",
    "\n",
    "os.environ['OPENAI_API_KEY'] = config.OPENAI_API_KEY"
   ]
  },
  {
   "cell_type": "code",
   "execution_count": 60,
   "metadata": {},
   "outputs": [],
   "source": [
    "import pandas as pd\n",
    "import matplotlib.pyplot as plt\n",
    "%matplotlib inline\n"
   ]
  },
  {
   "cell_type": "markdown",
   "metadata": {},
   "source": [
    "## debug main"
   ]
  },
  {
   "cell_type": "code",
   "execution_count": 20,
   "metadata": {},
   "outputs": [],
   "source": [
    "dataset = load_dataset(config.DATASET_NAME)\n",
    "all_data = concatenate_datasets([dataset['test'], dataset['validation']])"
   ]
  },
  {
   "cell_type": "code",
   "execution_count": 21,
   "metadata": {},
   "outputs": [
    {
     "name": "stdout",
     "output_type": "stream",
     "text": [
      "Dataset({\n",
      "    features: ['name', 'formal_statement', 'informal_statement', 'tags', 'header', 'split'],\n",
      "    num_rows: 4\n",
      "})\n"
     ]
    }
   ],
   "source": [
    "print(all_data)"
   ]
  },
  {
   "cell_type": "code",
   "execution_count": 22,
   "metadata": {},
   "outputs": [
    {
     "name": "stdout",
     "output_type": "stream",
     "text": [
      "{'name': 'f2f_numbertheory_4x3m7y3neq2003', 'formal_statement': 'theorem numbertheory_4x3m7y3neq2003 (x y : ℤ) : 4 * x ^ 3 - 7 * y ^ 3 ≠ 2003 := by\\n', 'informal_statement': '/-- Show that there are no integers $x$ and $y$ such that $4x^3 - 7y^3 = 2003$.-/\\n', 'tags': \"['number_theory']\", 'header': 'import Mathlib\\nimport Aesop\\n\\nset_option maxHeartbeats 0\\n\\nopen BigOperators Real Nat Topology Rat\\n\\n', 'split': 'test'}\n"
     ]
    }
   ],
   "source": [
    "item = all_data[0]\n",
    "print(item)\n",
    "\n",
    "results = []"
   ]
  },
  {
   "cell_type": "code",
   "execution_count": 23,
   "metadata": {},
   "outputs": [
    {
     "name": "stdout",
     "output_type": "stream",
     "text": [
      "/-- Show that there are no integers $x$ and $y$ such that $4x^3 - 7y^3 = 2003$.-/\n",
      "\n"
     ]
    }
   ],
   "source": [
    "informal_statement = item['informal_statement']\n",
    "print(informal_statement)"
   ]
  },
  {
   "cell_type": "code",
   "execution_count": 47,
   "metadata": {},
   "outputs": [
    {
     "name": "stdout",
     "output_type": "stream",
     "text": [
      "You are an expert in formalizing mathematical statements in Lean 4. Given the following informal mathematical statement, write the corresponding formal statement in Lean 4 syntax.\n",
      "Output format: The translated LEAN 4 theorem should be provided as a single cohesive code block, displaying the correct syntax and formatting expected for a LEAN 4 theorem statement. Do not enclose the code block in backticks. write sorry as the proof.\n",
      "\n",
      "\n",
      "\n",
      "Informal statement:\n",
      "/-- Show that there are no integers $x$ and $y$ such that $4x^3 - 7y^3 = 2003$.-/\n",
      "\n",
      "\n",
      "Formal statement in Lean 4:\n"
     ]
    }
   ],
   "source": [
    "print(generate_prompt(informal_statement, few_shot_examples=[]))"
   ]
  },
  {
   "cell_type": "code",
   "execution_count": 48,
   "metadata": {},
   "outputs": [
    {
     "name": "stdout",
     "output_type": "stream",
     "text": [
      "[{'role': 'user', 'content': 'You are an expert in formalizing mathematical statements in Lean 4. Given the following informal mathematical statement, write the corresponding formal statement in Lean 4 syntax.\\nOutput format: The translated LEAN 4 theorem should be provided as a single cohesive code block, displaying the correct syntax and formatting expected for a LEAN 4 theorem statement. Do not enclose the code block in backticks. write sorry as the proof.\\n\\n\\n\\nInformal statement:\\n/-- Show that there are no integers $x$ and $y$ such that $4x^3 - 7y^3 = 2003$.-/\\n\\n\\nFormal statement in Lean 4:'}]\n"
     ]
    }
   ],
   "source": [
    "response = translate_statement(\n",
    "    informal_statement,\n",
    "    few_shot_examples = [],\n",
    "    model=config.DEFAULT_MODEL,\n",
    "    temperature=0.0,\n",
    "    max_tokens=500,\n",
    ")"
   ]
  },
  {
   "cell_type": "code",
   "execution_count": 49,
   "metadata": {},
   "outputs": [
    {
     "name": "stdout",
     "output_type": "stream",
     "text": [
      "ModelResponse(id='chatcmpl-AHzGeh7JadO3x5hvQFbfZ3TjD2tA2', choices=[Choices(finish_reason='stop', index=0, message=Message(content='theorem no_integers_solution : ¬ ∃ (x y : ℤ), 4 * x^3 - 7 * y^3 = 2003 := \\nsorry', role='assistant', tool_calls=None, function_call=None))], created=1728850452, model='gpt-4o-2024-08-06', object='chat.completion', system_fingerprint='fp_a20a4ee344', usage=Usage(completion_tokens=39, prompt_tokens=137, total_tokens=176, completion_tokens_details=CompletionTokensDetails(audio_tokens=None, reasoning_tokens=0), prompt_tokens_details=PromptTokensDetails(audio_tokens=None, cached_tokens=0)), service_tier=None)\n"
     ]
    }
   ],
   "source": [
    "print(response)"
   ]
  },
  {
   "cell_type": "code",
   "execution_count": 51,
   "metadata": {},
   "outputs": [
    {
     "name": "stdout",
     "output_type": "stream",
     "text": [
      "theorem no_integers_solution : ¬ ∃ (x y : ℤ), 4 * x^3 - 7 * y^3 = 2003 := \n",
      "sorry\n"
     ]
    }
   ],
   "source": [
    "formal_statement = response.choices[0].message.content\n",
    "print(formal_statement)"
   ]
  },
  {
   "cell_type": "code",
   "execution_count": 52,
   "metadata": {},
   "outputs": [],
   "source": [
    "results.append({\n",
    "    'name': item['name'],\n",
    "    'informal_statement': informal_statement,\n",
    "    'generated_formal_statement': formal_statement,\n",
    "    'formal_statement': item['formal_statement'],\n",
    "    'tags': item['tags'],\n",
    "    'header': item['header'],\n",
    "    'split': item['split'],\n",
    "    'model': config.DEFAULT_MODEL,\n",
    "    'provider': config.DEFAULT_PROVIDER,\n",
    "})"
   ]
  },
  {
   "cell_type": "code",
   "execution_count": 53,
   "metadata": {},
   "outputs": [
    {
     "data": {
      "text/plain": [
       "[{'name': 'f2f_numbertheory_4x3m7y3neq2003',\n",
       "  'informal_statement': '/-- Show that there are no integers $x$ and $y$ such that $4x^3 - 7y^3 = 2003$.-/\\n',\n",
       "  'generated_formal_statement': 'theorem no_integers_solution : ¬ ∃ (x y : ℤ), 4 * x^3 - 7 * y^3 = 2003 := \\nsorry',\n",
       "  'formal_statement': 'theorem numbertheory_4x3m7y3neq2003 (x y : ℤ) : 4 * x ^ 3 - 7 * y ^ 3 ≠ 2003 := by\\n',\n",
       "  'tags': \"['number_theory']\",\n",
       "  'header': 'import Mathlib\\nimport Aesop\\n\\nset_option maxHeartbeats 0\\n\\nopen BigOperators Real Nat Topology Rat\\n\\n',\n",
       "  'split': 'test',\n",
       "  'model': 'gpt-4o',\n",
       "  'provider': 'openai'}]"
      ]
     },
     "execution_count": 53,
     "metadata": {},
     "output_type": "execute_result"
    }
   ],
   "source": [
    "results"
   ]
  },
  {
   "cell_type": "code",
   "execution_count": 59,
   "metadata": {},
   "outputs": [
    {
     "name": "stdout",
     "output_type": "stream",
     "text": [
      "Results have been saved to results/evaluation/baseline_direct_translation_gpt-4o.json\n"
     ]
    }
   ],
   "source": [
    "output_file = os.path.join(config.RESULTS_DIR, f\"{config.OUTPUT_NAME}_{config.DEFAULT_MODEL}.json\")\n",
    "\n",
    "with open(output_file, 'w') as f:\n",
    "    json.dump(results, f, indent=2)\n",
    "\n",
    "print(f\"Results have been saved to {output_file}\")"
   ]
  },
  {
   "cell_type": "markdown",
   "metadata": {},
   "source": [
    "## checking results"
   ]
  },
  {
   "cell_type": "code",
   "execution_count": 72,
   "metadata": {},
   "outputs": [
    {
     "data": {
      "text/html": [
       "<div>\n",
       "<style scoped>\n",
       "    .dataframe tbody tr th:only-of-type {\n",
       "        vertical-align: middle;\n",
       "    }\n",
       "\n",
       "    .dataframe tbody tr th {\n",
       "        vertical-align: top;\n",
       "    }\n",
       "\n",
       "    .dataframe thead th {\n",
       "        text-align: right;\n",
       "    }\n",
       "</style>\n",
       "<table border=\"1\" class=\"dataframe\">\n",
       "  <thead>\n",
       "    <tr style=\"text-align: right;\">\n",
       "      <th></th>\n",
       "      <th>name</th>\n",
       "      <th>informal_statement</th>\n",
       "      <th>generated_formal_statement</th>\n",
       "      <th>formal_statement</th>\n",
       "      <th>tags</th>\n",
       "      <th>header</th>\n",
       "      <th>split</th>\n",
       "      <th>model</th>\n",
       "      <th>provider</th>\n",
       "    </tr>\n",
       "  </thead>\n",
       "  <tbody>\n",
       "    <tr>\n",
       "      <th>0</th>\n",
       "      <td>f2f_numbertheory_4x3m7y3neq2003</td>\n",
       "      <td>/-- Show that there are no integers $x$ and $y...</td>\n",
       "      <td>theorem no_integers_solution : ¬ ∃ (x y : ℤ), ...</td>\n",
       "      <td>theorem numbertheory_4x3m7y3neq2003 (x y : ℤ) ...</td>\n",
       "      <td>['number_theory']</td>\n",
       "      <td>import Mathlib\\nimport Aesop\\n\\nset_option max...</td>\n",
       "      <td>test</td>\n",
       "      <td>gpt-4o</td>\n",
       "      <td>openai</td>\n",
       "    </tr>\n",
       "    <tr>\n",
       "      <th>1</th>\n",
       "      <td>f2f_mathd_numbertheory_3</td>\n",
       "      <td>/-- What is the units digit of the sum of the ...</td>\n",
       "      <td>theorem units_digit_sum_squares_first_nine : \\...</td>\n",
       "      <td>theorem mathd_numbertheory_3 : (∑ x in Finset....</td>\n",
       "      <td>['number_theory']</td>\n",
       "      <td>import Mathlib\\nimport Aesop\\n\\nset_option max...</td>\n",
       "      <td>test</td>\n",
       "      <td>gpt-4o</td>\n",
       "      <td>openai</td>\n",
       "    </tr>\n",
       "    <tr>\n",
       "      <th>2</th>\n",
       "      <td>f2f_mathd_numbertheory_1124</td>\n",
       "      <td>/-- The four-digit number $\\underline{374n}$ i...</td>\n",
       "      <td>theorem find_units_digit (n : ℕ) (h : 0 ≤ n ∧ ...</td>\n",
       "      <td>theorem mathd_numbertheory_1124 (n : ℕ) (h₀ : ...</td>\n",
       "      <td>['number_theory']</td>\n",
       "      <td>import Mathlib\\nimport Aesop\\n\\nset_option max...</td>\n",
       "      <td>test</td>\n",
       "      <td>gpt-4o</td>\n",
       "      <td>openai</td>\n",
       "    </tr>\n",
       "    <tr>\n",
       "      <th>3</th>\n",
       "      <td>f2f_mathd_numbertheory_237</td>\n",
       "      <td>/-- What is the modulo $6$ remainder of the su...</td>\n",
       "      <td>theorem sum_mod_6_remainder : (∑ i in finset.r...</td>\n",
       "      <td>theorem mathd_numbertheory_237 : (∑ k in Finse...</td>\n",
       "      <td>['number_theory']</td>\n",
       "      <td>import Mathlib\\nimport Aesop\\n\\nset_option max...</td>\n",
       "      <td>test</td>\n",
       "      <td>gpt-4o</td>\n",
       "      <td>openai</td>\n",
       "    </tr>\n",
       "    <tr>\n",
       "      <th>4</th>\n",
       "      <td>f2f_mathd_numbertheory_299</td>\n",
       "      <td>/-- What is the ones digit of $1 \\cdot 3 \\cdot...</td>\n",
       "      <td>theorem ones_digit_of_product_is_five : \\n  (1...</td>\n",
       "      <td>theorem mathd_numbertheory_299 : 1 * 3 * 5 * 7...</td>\n",
       "      <td>['number_theory']</td>\n",
       "      <td>import Mathlib\\nimport Aesop\\n\\nset_option max...</td>\n",
       "      <td>test</td>\n",
       "      <td>gpt-4o</td>\n",
       "      <td>openai</td>\n",
       "    </tr>\n",
       "  </tbody>\n",
       "</table>\n",
       "</div>"
      ],
      "text/plain": [
       "                              name  \\\n",
       "0  f2f_numbertheory_4x3m7y3neq2003   \n",
       "1         f2f_mathd_numbertheory_3   \n",
       "2      f2f_mathd_numbertheory_1124   \n",
       "3       f2f_mathd_numbertheory_237   \n",
       "4       f2f_mathd_numbertheory_299   \n",
       "\n",
       "                                  informal_statement  \\\n",
       "0  /-- Show that there are no integers $x$ and $y...   \n",
       "1  /-- What is the units digit of the sum of the ...   \n",
       "2  /-- The four-digit number $\\underline{374n}$ i...   \n",
       "3  /-- What is the modulo $6$ remainder of the su...   \n",
       "4  /-- What is the ones digit of $1 \\cdot 3 \\cdot...   \n",
       "\n",
       "                          generated_formal_statement  \\\n",
       "0  theorem no_integers_solution : ¬ ∃ (x y : ℤ), ...   \n",
       "1  theorem units_digit_sum_squares_first_nine : \\...   \n",
       "2  theorem find_units_digit (n : ℕ) (h : 0 ≤ n ∧ ...   \n",
       "3  theorem sum_mod_6_remainder : (∑ i in finset.r...   \n",
       "4  theorem ones_digit_of_product_is_five : \\n  (1...   \n",
       "\n",
       "                                    formal_statement               tags  \\\n",
       "0  theorem numbertheory_4x3m7y3neq2003 (x y : ℤ) ...  ['number_theory']   \n",
       "1  theorem mathd_numbertheory_3 : (∑ x in Finset....  ['number_theory']   \n",
       "2  theorem mathd_numbertheory_1124 (n : ℕ) (h₀ : ...  ['number_theory']   \n",
       "3  theorem mathd_numbertheory_237 : (∑ k in Finse...  ['number_theory']   \n",
       "4  theorem mathd_numbertheory_299 : 1 * 3 * 5 * 7...  ['number_theory']   \n",
       "\n",
       "                                              header split   model provider  \n",
       "0  import Mathlib\\nimport Aesop\\n\\nset_option max...  test  gpt-4o   openai  \n",
       "1  import Mathlib\\nimport Aesop\\n\\nset_option max...  test  gpt-4o   openai  \n",
       "2  import Mathlib\\nimport Aesop\\n\\nset_option max...  test  gpt-4o   openai  \n",
       "3  import Mathlib\\nimport Aesop\\n\\nset_option max...  test  gpt-4o   openai  \n",
       "4  import Mathlib\\nimport Aesop\\n\\nset_option max...  test  gpt-4o   openai  "
      ]
     },
     "execution_count": 72,
     "metadata": {},
     "output_type": "execute_result"
    }
   ],
   "source": [
    "json_file_path = 'results/generations/baseline_direct_translation_gpt-4o.json'\n",
    "with open(json_file_path, 'r') as f:\n",
    "    data = json.load(f)\n",
    "\n",
    "df = pd.DataFrame(data)\n",
    "df.head()\n"
   ]
  },
  {
   "cell_type": "markdown",
   "metadata": {},
   "source": [
    "### Length"
   ]
  },
  {
   "cell_type": "code",
   "execution_count": 73,
   "metadata": {},
   "outputs": [
    {
     "name": "stdout",
     "output_type": "stream",
     "text": [
      "Average length of generated_formal_statement: 159.52 characters\n"
     ]
    }
   ],
   "source": [
    "# Calculate the length of each 'generated_formal_statement'\n",
    "df['gen_formal_stmt_length'] = df['generated_formal_statement'].apply(len)\n",
    "\n",
    "# Compute the average length\n",
    "average_length = df['gen_formal_stmt_length'].mean()\n",
    "print(f\"Average length of generated_formal_statement: {average_length:.2f} characters\")\n"
   ]
  },
  {
   "cell_type": "code",
   "execution_count": 74,
   "metadata": {},
   "outputs": [
    {
     "data": {
      "image/png": "[encoded data removed]",
      "text/plain": [
       "<Figure size 1000x600 with 1 Axes>"
      ]
     },
     "metadata": {},
     "output_type": "display_data"
    }
   ],
   "source": [
    "# Plot the distribution\n",
    "plt.figure(figsize=(10, 6))\n",
    "plt.hist(df['gen_formal_stmt_length'], bins=30, color='skyblue', edgecolor='black')\n",
    "plt.title('Distribution of Generated Formal Statement Lengths')\n",
    "plt.xlabel('Length (characters)')\n",
    "plt.ylabel('Frequency')\n",
    "plt.show()"
   ]
  },
  {
   "cell_type": "markdown",
   "metadata": {},
   "source": [
    "### Sorry"
   ]
  },
  {
   "cell_type": "code",
   "execution_count": 75,
   "metadata": {},
   "outputs": [
    {
     "name": "stdout",
     "output_type": "stream",
     "text": [
      "Number of statements not ending with 'sorry': 15\n"
     ]
    },
    {
     "data": {
      "text/html": [
       "<div>\n",
       "<style scoped>\n",
       "    .dataframe tbody tr th:only-of-type {\n",
       "        vertical-align: middle;\n",
       "    }\n",
       "\n",
       "    .dataframe tbody tr th {\n",
       "        vertical-align: top;\n",
       "    }\n",
       "\n",
       "    .dataframe thead th {\n",
       "        text-align: right;\n",
       "    }\n",
       "</style>\n",
       "<table border=\"1\" class=\"dataframe\">\n",
       "  <thead>\n",
       "    <tr style=\"text-align: right;\">\n",
       "      <th></th>\n",
       "      <th>name</th>\n",
       "      <th>generated_formal_statement</th>\n",
       "    </tr>\n",
       "  </thead>\n",
       "  <tbody>\n",
       "    <tr>\n",
       "      <th>0</th>\n",
       "      <td>putnam_1971_b6</td>\n",
       "      <td>theorem greatest_odd_divisor_sum_bound (x : ℕ)...</td>\n",
       "    </tr>\n",
       "    <tr>\n",
       "      <th>1</th>\n",
       "      <td>putnam_2002_a5</td>\n",
       "      <td>theorem positive_rationals_in_sequence :\\n  ∀ ...</td>\n",
       "    </tr>\n",
       "    <tr>\n",
       "      <th>2</th>\n",
       "      <td>putnam_1969_b1</td>\n",
       "      <td>```lean\\nimport Mathlib.Algebra.Divisibility\\n...</td>\n",
       "    </tr>\n",
       "    <tr>\n",
       "      <th>3</th>\n",
       "      <td>putnam_2017_a1</td>\n",
       "      <td>theorem not_in_S (n : ℕ) (h : n &gt; 0) : n ∉ S :...</td>\n",
       "    </tr>\n",
       "    <tr>\n",
       "      <th>4</th>\n",
       "      <td>putnam_2009_b1</td>\n",
       "      <td>```lean\\nimport data.rat.basic\\nimport data.na...</td>\n",
       "    </tr>\n",
       "  </tbody>\n",
       "</table>\n",
       "</div>"
      ],
      "text/plain": [
       "             name                         generated_formal_statement\n",
       "0  putnam_1971_b6  theorem greatest_odd_divisor_sum_bound (x : ℕ)...\n",
       "1  putnam_2002_a5  theorem positive_rationals_in_sequence :\\n  ∀ ...\n",
       "2  putnam_1969_b1  ```lean\\nimport Mathlib.Algebra.Divisibility\\n...\n",
       "3  putnam_2017_a1  theorem not_in_S (n : ℕ) (h : n > 0) : n ∉ S :...\n",
       "4  putnam_2009_b1  ```lean\\nimport data.rat.basic\\nimport data.na..."
      ]
     },
     "execution_count": 75,
     "metadata": {},
     "output_type": "execute_result"
    }
   ],
   "source": [
    "# Define a function to check if text ends with 'sorry' (case-insensitive, optional punctuation)\n",
    "def ends_with_sorry(text):\n",
    "    text = text.strip()\n",
    "    pattern = re.compile(r'sorry[\\.\\!\\?]?$', re.IGNORECASE)\n",
    "    return bool(pattern.search(text))\n",
    "\n",
    "# Apply the function to the DataFrame\n",
    "df['ends_with_sorry'] = df['generated_formal_statement'].apply(ends_with_sorry)\n",
    "\n",
    "# Filter the DataFrame for statements that do not end with 'sorry'\n",
    "not_sorry_df = df[~df['ends_with_sorry']]\n",
    "\n",
    "# Reset the index\n",
    "not_sorry_df = not_sorry_df.reset_index(drop=True)\n",
    "\n",
    "# Display the number of examples\n",
    "print(f\"Number of statements not ending with 'sorry': {len(not_sorry_df)}\")\n",
    "\n",
    "# Display the first few examples\n",
    "not_sorry_df[['name', 'generated_formal_statement']].head()"
   ]
  },
  {
   "cell_type": "code",
   "execution_count": 76,
   "metadata": {},
   "outputs": [
    {
     "name": "stdout",
     "output_type": "stream",
     "text": [
      "Average length of 'not sorry' generated_formal_statement: 296.20 characters\n"
     ]
    }
   ],
   "source": [
    "# Calculate the length of each 'generated_formal_statement'\n",
    "not_sorry_df['gen_formal_stmt_length'] = not_sorry_df['generated_formal_statement'].apply(len)\n",
    "\n",
    "# Compute the average length\n",
    "average_length_not_sorry = not_sorry_df['gen_formal_stmt_length'].mean()\n",
    "print(f\"Average length of 'not sorry' generated_formal_statement: {average_length_not_sorry:.2f} characters\")"
   ]
  },
  {
   "cell_type": "code",
   "execution_count": 77,
   "metadata": {},
   "outputs": [
    {
     "name": "stderr",
     "output_type": "stream",
     "text": [
      "/home/agatha/.local/lib/python3.10/site-packages/seaborn/categorical.py:632: FutureWarning: SeriesGroupBy.grouper is deprecated and will be removed in a future version of pandas.\n",
      "  positions = grouped.grouper.result_index.to_numpy(dtype=float)\n"
     ]
    },
    {
     "data": {
      "image/png": "[encoded data removed]",
      "text/plain": [
       "<Figure size 800x600 with 1 Axes>"
      ]
     },
     "metadata": {},
     "output_type": "display_data"
    }
   ],
   "source": [
    "import seaborn as sns\n",
    "\n",
    "# Combine the lengths into a single DataFrame for plotting\n",
    "length_comparison_df = pd.DataFrame({\n",
    "    'Length': not_sorry_df['gen_formal_stmt_length'].tolist() + sorry_df['gen_formal_stmt_length'].tolist(),\n",
    "    'Ends_with_sorry': ['No'] * len(not_sorry_df) + ['Yes'] * len(sorry_df)\n",
    "})\n",
    "\n",
    "# Plot the boxplots\n",
    "plt.figure(figsize=(8, 6))\n",
    "sns.boxplot(x='Ends_with_sorry', y='Length', data=length_comparison_df)\n",
    "plt.title('Comparison of Statement Lengths')\n",
    "plt.xlabel('Ends with \"sorry\"')\n",
    "plt.ylabel('Length (characters)')\n",
    "plt.show()\n"
   ]
  },
  {
   "cell_type": "code",
   "execution_count": 78,
   "metadata": {},
   "outputs": [
    {
     "name": "stdout",
     "output_type": "stream",
     "text": [
      "theorem convergence_of_series (b : ℕ) (hb : b ≥ 2) :\n",
      "  ∃ L : ℝ, ∃ N : ℕ, ∀ n ≥ N, ∑ i in finset.range n, (1 : ℝ) / (f b i) < L :=\n",
      "sorry\n",
      "\n",
      "where\n",
      "  f : ℕ → ℕ\n",
      "  | 1     := 1\n",
      "  | 2     := 2\n",
      "  | n + 3 := (n + 3) * f b (nat_digits b (n + 3))\n",
      "\n",
      "and\n",
      "  nat_digits : ℕ → ℕ → ℕ\n",
      "  | b n := if n < b then 1 else 1 + nat_digits b (n / b)\n"
     ]
    }
   ],
   "source": [
    "text = \"theorem convergence_of_series (b : \\u2115) (hb : b \\u2265 2) :\\n  \\u2203 L : \\u211d, \\u2203 N : \\u2115, \\u2200 n \\u2265 N, \\u2211 i in finset.range n, (1 : \\u211d) / (f b i) < L :=\\nsorry\\n\\nwhere\\n  f : \\u2115 \\u2192 \\u2115\\n  | 1     := 1\\n  | 2     := 2\\n  | n + 3 := (n + 3) * f b (nat_digits b (n + 3))\\n\\nand\\n  nat_digits : \\u2115 \\u2192 \\u2115 \\u2192 \\u2115\\n  | b n := if n < b then 1 else 1 + nat_digits b (n / b)\"\n",
    "print(text)"
   ]
  }
 ],
 "metadata": {
  "kernelspec": {
   "display_name": "modern_nlp",
   "language": "python",
   "name": "python3"
  },
  "language_info": {
   "codemirror_mode": {
    "name": "ipython",
    "version": 3
   },
   "file_extension": ".py",
   "mimetype": "text/x-python",
   "name": "python",
   "nbconvert_exporter": "python",
   "pygments_lexer": "ipython3",
   "version": "3.10.13"
  }
 },
 "nbformat": 4,
 "nbformat_minor": 2
}
