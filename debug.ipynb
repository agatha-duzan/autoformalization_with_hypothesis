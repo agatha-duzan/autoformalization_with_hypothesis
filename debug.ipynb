{
 "cells": [
  {
   "cell_type": "markdown",
   "metadata": {},
   "source": [
    "## Setup"
   ]
  },
  {
   "cell_type": "code",
   "execution_count": 1,
   "metadata": {},
   "outputs": [],
   "source": [
    "%load_ext autoreload\n",
    "%autoreload 2"
   ]
  },
  {
   "cell_type": "code",
   "execution_count": 89,
   "metadata": {},
   "outputs": [],
   "source": [
    "import os\n",
    "import time\n",
    "import json\n",
    "from tqdm import tqdm\n",
    "from datasets import load_dataset, concatenate_datasets\n",
    "\n",
    "import config\n",
    "from utils import *\n",
    "\n",
    "os.environ['OPENAI_API_KEY'] = config.OPENAI_API_KEY"
   ]
  },
  {
   "cell_type": "code",
   "execution_count": 3,
   "metadata": {},
   "outputs": [],
   "source": [
    "import pandas as pd\n",
    "import matplotlib.pyplot as plt\n",
    "%matplotlib inline\n"
   ]
  },
  {
   "cell_type": "code",
   "execution_count": 70,
   "metadata": {},
   "outputs": [],
   "source": [
    "import openai\n",
    "import numpy as np\n",
    "from sklearn.metrics.pairwise import cosine_similarity\n",
    "\n",
    "from nltk.translate.bleu_score import SmoothingFunction, sentence_bleu"
   ]
  },
  {
   "cell_type": "markdown",
   "metadata": {},
   "source": [
    "## debug main"
   ]
  },
  {
   "cell_type": "code",
   "execution_count": 4,
   "metadata": {},
   "outputs": [],
   "source": [
    "dataset = load_dataset(config.DATASET_NAME)\n",
    "all_data = concatenate_datasets([dataset['test'], dataset['validation']])"
   ]
  },
  {
   "cell_type": "code",
   "execution_count": 5,
   "metadata": {},
   "outputs": [
    {
     "name": "stdout",
     "output_type": "stream",
     "text": [
      "Dataset({\n",
      "    features: ['name', 'formal_statement', 'informal_statement', 'tags', 'header', 'split'],\n",
      "    num_rows: 234\n",
      "})\n"
     ]
    }
   ],
   "source": [
    "print(all_data)"
   ]
  },
  {
   "cell_type": "code",
   "execution_count": 6,
   "metadata": {},
   "outputs": [
    {
     "name": "stdout",
     "output_type": "stream",
     "text": [
      "{'name': 'f2f_numbertheory_4x3m7y3neq2003', 'formal_statement': 'theorem numbertheory_4x3m7y3neq2003 (x y : ℤ) : 4 * x ^ 3 - 7 * y ^ 3 ≠ 2003 := by\\n', 'informal_statement': '/-- Show that there are no integers $x$ and $y$ such that $4x^3 - 7y^3 = 2003$.-/\\n', 'tags': \"['number_theory']\", 'header': 'import Mathlib\\nimport Aesop\\n\\nset_option maxHeartbeats 0\\n\\nopen BigOperators Real Nat Topology Rat\\n\\n', 'split': 'test'}\n"
     ]
    }
   ],
   "source": [
    "item = all_data[0]\n",
    "print(item)\n",
    "\n",
    "results = []"
   ]
  },
  {
   "cell_type": "code",
   "execution_count": 37,
   "metadata": {},
   "outputs": [
    {
     "name": "stdout",
     "output_type": "stream",
     "text": [
      "/-- Show that there are no integers $x$ and $y$ such that $4x^3 - 7y^3 = 2003$.-/\n",
      "\n"
     ]
    }
   ],
   "source": [
    "informal_statement = item['informal_statement'] #[4:-3]\n",
    "print(informal_statement)"
   ]
  },
  {
   "cell_type": "code",
   "execution_count": 38,
   "metadata": {},
   "outputs": [
    {
     "name": "stdout",
     "output_type": "stream",
     "text": [
      "[{'formal_statement': 'theorem exists_le_sylow [Group G] {P : Subgroup G} (hP : IsPGroup p P) : ∃ Q : Sylow p G, P ≤ Q :=', 'nl_statement': 'Let $P$ be a $p$-subgroup of $G$. Then $P$ is contained in a Sylow $p$-subgroup of $G$.'}, {'formal_statement': 'theorem exists_eq_const_of_bounded {E : Type u} [NormedAddCommGroup E] [NormedSpace ℂ E] {F : Type v} [NormedAddCommGroup F] [NormedSpace ℂ F] {f : E → F} (hf : Differentiable ℂ f)(hb : IsBounded (range f)) : ∃ c, f = const E c :=', 'nl_statement': 'Let $E$ and $F$ be complex normed spaces and let $f:E\\\\to F$. If $f$ is differentiable and bounded, then $f$ is constant'}, {'formal_statement': 'theorem subset_of_open_subset_is_open (X : Type*) [TopologicalSpace X]\\n(A : Set X) (hA : ∀ x ∈ A, ∃ U : Set X, IsOpen U ∧ x ∈ U ∧ U ⊆ A):\\n  IsOpen A :=', 'nl_statement': 'Let $X$ be a topological space; let $A$ be a subset of $X$. Suppose that for each $x\\\\in A$ there is an open set $U$ containing $x$ such that $U\\\\subset A$. Then $A$ is open in $X$.'}, {'formal_statement': 'theorem eq_iff_eq_on_prime_powers [CommMonoidWithZero R] (f : ArithmeticFunction R)\\n(hf : f.IsMultiplicative) (g : ArithmeticFunction R) (hg : g.IsMultiplicative) :\\nf = g ↔ ∀ p i : ℕ, Nat.Prime p → f (p ^ i) = g (p ^ i) :=', 'nl_statement': 'Two multiplicative functions $f, g:\\\\mathbb{N}\\\\to R$ are equal if and only if $f(p^i)=f(g^i)$ for all primes $p$.'}, {'formal_statement': 'theorem abs_sum_leq_sum_abs (n : ℕ) (f : ℕ → ℂ) :\\nabs (∑ i in Finset.range n, f i) ≤ ∑ i in Finset.range n, abs (f i) :=', 'nl_statement': 'If $z_1, \\\\\\\\dots, z_n$ are complex, then $|z_1 + z_2 + \\\\\\\\dots + z_n|\\\\\\\\leq |z_1| + |z_2| + \\\\\\\\dots + |z_n|$.'}, {'formal_statement': 'theorem sum_add_square_sub_square_eq_sum_square (n : ℕ) (x y : EuclideanSpace ℝ (Fin n)) :\\n‖x + y‖^2 + ‖x - y‖^2 = 2*‖x‖^2 + 2*‖y‖ ^2 :=', 'nl_statement': 'If x and y are in $\\\\\\\\mathbb{R}^n$, then $|x+y|^2 + |x-y|^2 = 2|x|^2 + 2|y|^2$.'}, {'formal_statement': 'theorem distinct_powers_of_infinite_order_element (G : Type*) [Group G] (x : G)\\n  (hx_inf : ∀ n : ℕ, x ^ n ≠ 1) :\\n  ∀ m n : ℤ, m ≠ n → x ^ m ≠ x ^ n :=', 'nl_statement': 'If $x$ is an element of infinite order in $G$, prove that the elements $x^n$, $n\\\\\\\\in\\\\\\\\mathbb{Z}$ are all distinct.'}, {'formal_statement': 'theorem linear_independent_of_is_Ortho {V K : Type*} [Field K]\\n[AddCommGroup V] [Module K V] {n : Type*} {B : BilinForm K V}\\n{v : n → V} (hv₁ : B.iIsOrtho v)\\n(hv₂ : ∀ (i : n), ¬B.IsOrtho (v i) (v i)) :\\nLinearIndependent K v :=', 'nl_statement': 'A set of vectors $\\\\{v_i\\\\}_{i\\\\in I}$ orthogonal with respect to some bilinear form $B: V\\\\times V\\\\to K$ is linearly independent if for all $i \\\\in I, B(v_i, v_i)\\\\neq 0$.'}, {'formal_statement': 'theorem exists_nontrivial_relation_sum_zero_of_dim_succ_lt_card {K V : Type*}\\n[DivisionRing K] [AddCommGroup V] [Module K V] [FiniteDimensional K V]\\n{t : Finset V} (h : FiniteDimensional.finrank K V + 1 < t.card) :\\n∃ (f : V → K), t.sum (λ (e : V) => f e • e) = 0 ∧ t.sum (λ (e : V) => f e) = 0\\n∧ ∃ (x : V) (H : x ∈ t), f x ≠ 0 :=', 'nl_statement': 'Suppose that $V$ is an $n$-dimensional vector space. Then for some set of vectors $\\\\{v_i\\\\}_{i=1}^k$, if $k>n$ then there exist scalars $f_1, \\\\dots, f_k$ such that $\\\\sum_{i=1}^k f_kv_k = 0$.'}, {'formal_statement': 'theorem comm_group_of_cycle_center_quotient {G H : Type*} [Group G] [Group H]\\n[IsCyclic H] (f : G →* H) (hf : f.ker ≤ (center G : Subgroup G)):\\nCommGroup G :=', 'nl_statement': 'A group is commutative if the quotient by the center is cyclic.'}, {'formal_statement': 'theorem card_quotient_normalizer_modEq_card_quotient {G : Type*} [Group G] [Fintype G] {p : ℕ} {n : ℕ} [hp : Fact p.Prime]\\n{H : Subgroup G} (hH : Fintype.card H = p ^ n) :\\nFintype.card (normalizer H ⧸ Subgroup.comap ((normalizer H).subtype : normalizer H →* G) H) ≡\\n  Fintype.card (G ⧸ H) [MOD p] :=', 'nl_statement': 'If $H$ is a $p$-subgroup of $G$, then the index of $H$ inside its normalizer is congruent modulo $p$ to the index of $H$.'}, {'formal_statement': 'theorem uniform_continuous_of_continuous_injective_uniform_continuous_comp\\n{X Y Z : Type*} [MetricSpace X] [MetricSpace Y] [MetricSpace Z]\\n(hY : CompactSpace Y) (f : X → Y) (g : Y → Z) (hgc : Continuous g)\\n(hgi : Function.Injective g)\\n(h : UniformContinuous (g ∘ f)) : UniformContinuous f :=', 'nl_statement': 'Suppose $X, Y, Z$ are metric spaces, and $Y$ is compact. Let $f$ map $X$ into $Y$, let $g$ be a continuous one-to-one mapping of $Y$ into $Z$, and put $h(x)=g(f(x))$ for $x \\\\in X$. Prove that $f$ is uniformly continuous if $h$ is uniformly continuous.'}]\n"
     ]
    }
   ],
   "source": [
    "few_shot_examples = load_few_shot_examples(config.FEW_SHOT_EXAMPLES_PATH)\n",
    "print(few_shot_examples)"
   ]
  },
  {
   "cell_type": "code",
   "execution_count": 39,
   "metadata": {},
   "outputs": [
    {
     "name": "stdout",
     "output_type": "stream",
     "text": [
      "You are an expert in formalizing mathematical statements in Lean 4. Given the following informal mathematical statement, write the corresponding formal statement in Lean 4 syntax.\n",
      "Output format: The translated LEAN 4 theorem should be provided as a single cohesive code block, displaying the correct syntax and formatting expected for a LEAN 4 theorem statement. Do not enclose the code block in backticks. write sorry as the proof.\n",
      "\n",
      "Informal statement:\n",
      "Let $P$ be a $p$-subgroup of $G$. Then $P$ is contained in a Sylow $p$-subgroup of $G$.\n",
      "\n",
      "Formal statement in Lean 4:\n",
      "theorem exists_le_sylow [Group G] {P : Subgroup G} (hP : IsPGroup p P) : ∃ Q : Sylow p G, P ≤ Q := sorry\n",
      "\n",
      "Informal statement:\n",
      "Let $E$ and $F$ be complex normed spaces and let $f:E\\to F$. If $f$ is differentiable and bounded, then $f$ is constant\n",
      "\n",
      "Formal statement in Lean 4:\n",
      "theorem exists_eq_const_of_bounded {E : Type u} [NormedAddCommGroup E] [NormedSpace ℂ E] {F : Type v} [NormedAddCommGroup F] [NormedSpace ℂ F] {f : E → F} (hf : Differentiable ℂ f)(hb : IsBounded (range f)) : ∃ c, f = const E c := sorry\n",
      "\n",
      "Informal statement:\n",
      "Let $X$ be a topological space; let $A$ be a subset of $X$. Suppose that for each $x\\in A$ there is an open set $U$ containing $x$ such that $U\\subset A$. Then $A$ is open in $X$.\n",
      "\n",
      "Formal statement in Lean 4:\n",
      "theorem subset_of_open_subset_is_open (X : Type*) [TopologicalSpace X]\n",
      "(A : Set X) (hA : ∀ x ∈ A, ∃ U : Set X, IsOpen U ∧ x ∈ U ∧ U ⊆ A):\n",
      "  IsOpen A := sorry\n",
      "\n",
      "Informal statement:\n",
      "Two multiplicative functions $f, g:\\mathbb{N}\\to R$ are equal if and only if $f(p^i)=f(g^i)$ for all primes $p$.\n",
      "\n",
      "Formal statement in Lean 4:\n",
      "theorem eq_iff_eq_on_prime_powers [CommMonoidWithZero R] (f : ArithmeticFunction R)\n",
      "(hf : f.IsMultiplicative) (g : ArithmeticFunction R) (hg : g.IsMultiplicative) :\n",
      "f = g ↔ ∀ p i : ℕ, Nat.Prime p → f (p ^ i) = g (p ^ i) := sorry\n",
      "\n",
      "Informal statement:\n",
      "If $z_1, \\\\dots, z_n$ are complex, then $|z_1 + z_2 + \\\\dots + z_n|\\\\leq |z_1| + |z_2| + \\\\dots + |z_n|$.\n",
      "\n",
      "Formal statement in Lean 4:\n",
      "theorem abs_sum_leq_sum_abs (n : ℕ) (f : ℕ → ℂ) :\n",
      "abs (∑ i in Finset.range n, f i) ≤ ∑ i in Finset.range n, abs (f i) := sorry\n",
      "\n",
      "Informal statement:\n",
      "If x and y are in $\\\\mathbb{R}^n$, then $|x+y|^2 + |x-y|^2 = 2|x|^2 + 2|y|^2$.\n",
      "\n",
      "Formal statement in Lean 4:\n",
      "theorem sum_add_square_sub_square_eq_sum_square (n : ℕ) (x y : EuclideanSpace ℝ (Fin n)) :\n",
      "‖x + y‖^2 + ‖x - y‖^2 = 2*‖x‖^2 + 2*‖y‖ ^2 := sorry\n",
      "\n",
      "Informal statement:\n",
      "If $x$ is an element of infinite order in $G$, prove that the elements $x^n$, $n\\\\in\\\\mathbb{Z}$ are all distinct.\n",
      "\n",
      "Formal statement in Lean 4:\n",
      "theorem distinct_powers_of_infinite_order_element (G : Type*) [Group G] (x : G)\n",
      "  (hx_inf : ∀ n : ℕ, x ^ n ≠ 1) :\n",
      "  ∀ m n : ℤ, m ≠ n → x ^ m ≠ x ^ n := sorry\n",
      "\n",
      "Informal statement:\n",
      "A set of vectors $\\{v_i\\}_{i\\in I}$ orthogonal with respect to some bilinear form $B: V\\times V\\to K$ is linearly independent if for all $i \\in I, B(v_i, v_i)\\neq 0$.\n",
      "\n",
      "Formal statement in Lean 4:\n",
      "theorem linear_independent_of_is_Ortho {V K : Type*} [Field K]\n",
      "[AddCommGroup V] [Module K V] {n : Type*} {B : BilinForm K V}\n",
      "{v : n → V} (hv₁ : B.iIsOrtho v)\n",
      "(hv₂ : ∀ (i : n), ¬B.IsOrtho (v i) (v i)) :\n",
      "LinearIndependent K v := sorry\n",
      "\n",
      "Informal statement:\n",
      "Suppose that $V$ is an $n$-dimensional vector space. Then for some set of vectors $\\{v_i\\}_{i=1}^k$, if $k>n$ then there exist scalars $f_1, \\dots, f_k$ such that $\\sum_{i=1}^k f_kv_k = 0$.\n",
      "\n",
      "Formal statement in Lean 4:\n",
      "theorem exists_nontrivial_relation_sum_zero_of_dim_succ_lt_card {K V : Type*}\n",
      "[DivisionRing K] [AddCommGroup V] [Module K V] [FiniteDimensional K V]\n",
      "{t : Finset V} (h : FiniteDimensional.finrank K V + 1 < t.card) :\n",
      "∃ (f : V → K), t.sum (λ (e : V) => f e • e) = 0 ∧ t.sum (λ (e : V) => f e) = 0\n",
      "∧ ∃ (x : V) (H : x ∈ t), f x ≠ 0 := sorry\n",
      "\n",
      "Informal statement:\n",
      "A group is commutative if the quotient by the center is cyclic.\n",
      "\n",
      "Formal statement in Lean 4:\n",
      "theorem comm_group_of_cycle_center_quotient {G H : Type*} [Group G] [Group H]\n",
      "[IsCyclic H] (f : G →* H) (hf : f.ker ≤ (center G : Subgroup G)):\n",
      "CommGroup G := sorry\n",
      "\n",
      "Informal statement:\n",
      "If $H$ is a $p$-subgroup of $G$, then the index of $H$ inside its normalizer is congruent modulo $p$ to the index of $H$.\n",
      "\n",
      "Formal statement in Lean 4:\n",
      "theorem card_quotient_normalizer_modEq_card_quotient {G : Type*} [Group G] [Fintype G] {p : ℕ} {n : ℕ} [hp : Fact p.Prime]\n",
      "{H : Subgroup G} (hH : Fintype.card H = p ^ n) :\n",
      "Fintype.card (normalizer H ⧸ Subgroup.comap ((normalizer H).subtype : normalizer H →* G) H) ≡\n",
      "  Fintype.card (G ⧸ H) [MOD p] := sorry\n",
      "\n",
      "Informal statement:\n",
      "Suppose $X, Y, Z$ are metric spaces, and $Y$ is compact. Let $f$ map $X$ into $Y$, let $g$ be a continuous one-to-one mapping of $Y$ into $Z$, and put $h(x)=g(f(x))$ for $x \\in X$. Prove that $f$ is uniformly continuous if $h$ is uniformly continuous.\n",
      "\n",
      "Formal statement in Lean 4:\n",
      "theorem uniform_continuous_of_continuous_injective_uniform_continuous_comp\n",
      "{X Y Z : Type*} [MetricSpace X] [MetricSpace Y] [MetricSpace Z]\n",
      "(hY : CompactSpace Y) (f : X → Y) (g : Y → Z) (hgc : Continuous g)\n",
      "(hgi : Function.Injective g)\n",
      "(h : UniformContinuous (g ∘ f)) : UniformContinuous f := sorry\n",
      "\n",
      "\n",
      "\n",
      "Informal statement:\n",
      "/-- Show that there are no integers $x$ and $y$ such that $4x^3 - 7y^3 = 2003$.-/\n",
      "\n",
      "\n",
      "Formal statement in Lean 4:\n"
     ]
    }
   ],
   "source": [
    "print(generate_prompt(informal_statement, few_shot_examples=few_shot_examples))"
   ]
  },
  {
   "cell_type": "code",
   "execution_count": 40,
   "metadata": {},
   "outputs": [],
   "source": [
    "formal_statement = translate_statement(\n",
    "    informal_statement,\n",
    "    few_shot_examples = [],\n",
    "    model=config.DEFAULT_MODEL,\n",
    "    temperature=0.0,\n",
    "    max_tokens=500,\n",
    ")"
   ]
  },
  {
   "cell_type": "code",
   "execution_count": 41,
   "metadata": {},
   "outputs": [
    {
     "name": "stdout",
     "output_type": "stream",
     "text": [
      "theorem no_integers_satisfy_equation : ¬ ∃ (x y : ℤ), 4 * x^3 - 7 * y^3 = 2003 := \n",
      "sorry\n"
     ]
    }
   ],
   "source": [
    "print(formal_statement)"
   ]
  },
  {
   "cell_type": "code",
   "execution_count": 52,
   "metadata": {},
   "outputs": [],
   "source": [
    "results.append({\n",
    "    'name': item['name'],\n",
    "    'informal_statement': informal_statement,\n",
    "    'generated_formal_statement': formal_statement,\n",
    "    'formal_statement': item['formal_statement'],\n",
    "    'tags': item['tags'],\n",
    "    'header': item['header'],\n",
    "    'split': item['split'],\n",
    "    'model': config.DEFAULT_MODEL,\n",
    "    'provider': config.DEFAULT_PROVIDER,\n",
    "})"
   ]
  },
  {
   "cell_type": "code",
   "execution_count": 53,
   "metadata": {},
   "outputs": [
    {
     "data": {
      "text/plain": [
       "[{'name': 'f2f_numbertheory_4x3m7y3neq2003',\n",
       "  'informal_statement': '/-- Show that there are no integers $x$ and $y$ such that $4x^3 - 7y^3 = 2003$.-/\\n',\n",
       "  'generated_formal_statement': 'theorem no_integers_solution : ¬ ∃ (x y : ℤ), 4 * x^3 - 7 * y^3 = 2003 := \\nsorry',\n",
       "  'formal_statement': 'theorem numbertheory_4x3m7y3neq2003 (x y : ℤ) : 4 * x ^ 3 - 7 * y ^ 3 ≠ 2003 := by\\n',\n",
       "  'tags': \"['number_theory']\",\n",
       "  'header': 'import Mathlib\\nimport Aesop\\n\\nset_option maxHeartbeats 0\\n\\nopen BigOperators Real Nat Topology Rat\\n\\n',\n",
       "  'split': 'test',\n",
       "  'model': 'gpt-4o',\n",
       "  'provider': 'openai'}]"
      ]
     },
     "execution_count": 53,
     "metadata": {},
     "output_type": "execute_result"
    }
   ],
   "source": [
    "results"
   ]
  },
  {
   "cell_type": "code",
   "execution_count": 59,
   "metadata": {},
   "outputs": [
    {
     "name": "stdout",
     "output_type": "stream",
     "text": [
      "Results have been saved to results/evaluation/baseline_direct_translation_gpt-4o.json\n"
     ]
    }
   ],
   "source": [
    "output_file = os.path.join(config.RESULTS_DIR, f\"{config.OUTPUT_NAME}_{config.DEFAULT_MODEL}.json\")\n",
    "\n",
    "with open(output_file, 'w') as f:\n",
    "    json.dump(results, f, indent=2)\n",
    "\n",
    "print(f\"Results have been saved to {output_file}\")"
   ]
  },
  {
   "cell_type": "markdown",
   "metadata": {},
   "source": [
    "## checking results"
   ]
  },
  {
   "cell_type": "code",
   "execution_count": 42,
   "metadata": {},
   "outputs": [
    {
     "data": {
      "text/html": [
       "<div>\n",
       "<style scoped>\n",
       "    .dataframe tbody tr th:only-of-type {\n",
       "        vertical-align: middle;\n",
       "    }\n",
       "\n",
       "    .dataframe tbody tr th {\n",
       "        vertical-align: top;\n",
       "    }\n",
       "\n",
       "    .dataframe thead th {\n",
       "        text-align: right;\n",
       "    }\n",
       "</style>\n",
       "<table border=\"1\" class=\"dataframe\">\n",
       "  <thead>\n",
       "    <tr style=\"text-align: right;\">\n",
       "      <th></th>\n",
       "      <th>name</th>\n",
       "      <th>informal_statement</th>\n",
       "      <th>generated_formal_statement</th>\n",
       "      <th>formal_statement</th>\n",
       "      <th>tags</th>\n",
       "      <th>header</th>\n",
       "      <th>split</th>\n",
       "      <th>model</th>\n",
       "      <th>provider</th>\n",
       "    </tr>\n",
       "  </thead>\n",
       "  <tbody>\n",
       "    <tr>\n",
       "      <th>0</th>\n",
       "      <td>f2f_numbertheory_4x3m7y3neq2003</td>\n",
       "      <td>/-- Show that there are no integers $x$ and $y...</td>\n",
       "      <td>theorem no_integers_satisfy_equation : ¬∃ (x y...</td>\n",
       "      <td>theorem numbertheory_4x3m7y3neq2003 (x y : ℤ) ...</td>\n",
       "      <td>['number_theory']</td>\n",
       "      <td>import Mathlib\\nimport Aesop\\n\\nset_option max...</td>\n",
       "      <td>test</td>\n",
       "      <td>gpt-4o</td>\n",
       "      <td>openai</td>\n",
       "    </tr>\n",
       "    <tr>\n",
       "      <th>1</th>\n",
       "      <td>f2f_mathd_numbertheory_3</td>\n",
       "      <td>/-- What is the units digit of the sum of the ...</td>\n",
       "      <td>theorem units_digit_sum_squares_first_nine : \\...</td>\n",
       "      <td>theorem mathd_numbertheory_3 : (∑ x in Finset....</td>\n",
       "      <td>['number_theory']</td>\n",
       "      <td>import Mathlib\\nimport Aesop\\n\\nset_option max...</td>\n",
       "      <td>test</td>\n",
       "      <td>gpt-4o</td>\n",
       "      <td>openai</td>\n",
       "    </tr>\n",
       "    <tr>\n",
       "      <th>2</th>\n",
       "      <td>f2f_mathd_numbertheory_1124</td>\n",
       "      <td>/-- The four-digit number $\\underline{374n}$ i...</td>\n",
       "      <td>theorem units_digit_of_divisible_by_18 : ∃ n :...</td>\n",
       "      <td>theorem mathd_numbertheory_1124 (n : ℕ) (h₀ : ...</td>\n",
       "      <td>['number_theory']</td>\n",
       "      <td>import Mathlib\\nimport Aesop\\n\\nset_option max...</td>\n",
       "      <td>test</td>\n",
       "      <td>gpt-4o</td>\n",
       "      <td>openai</td>\n",
       "    </tr>\n",
       "    <tr>\n",
       "      <th>3</th>\n",
       "      <td>f2f_mathd_numbertheory_237</td>\n",
       "      <td>/-- What is the modulo $6$ remainder of the su...</td>\n",
       "      <td>theorem sum_mod_six_remainder : (∑ i in Finset...</td>\n",
       "      <td>theorem mathd_numbertheory_237 : (∑ k in Finse...</td>\n",
       "      <td>['number_theory']</td>\n",
       "      <td>import Mathlib\\nimport Aesop\\n\\nset_option max...</td>\n",
       "      <td>test</td>\n",
       "      <td>gpt-4o</td>\n",
       "      <td>openai</td>\n",
       "    </tr>\n",
       "    <tr>\n",
       "      <th>4</th>\n",
       "      <td>f2f_mathd_numbertheory_299</td>\n",
       "      <td>/-- What is the ones digit of $1 \\cdot 3 \\cdot...</td>\n",
       "      <td>theorem ones_digit_of_product_is_five : (1 * 3...</td>\n",
       "      <td>theorem mathd_numbertheory_299 : 1 * 3 * 5 * 7...</td>\n",
       "      <td>['number_theory']</td>\n",
       "      <td>import Mathlib\\nimport Aesop\\n\\nset_option max...</td>\n",
       "      <td>test</td>\n",
       "      <td>gpt-4o</td>\n",
       "      <td>openai</td>\n",
       "    </tr>\n",
       "  </tbody>\n",
       "</table>\n",
       "</div>"
      ],
      "text/plain": [
       "                              name  \\\n",
       "0  f2f_numbertheory_4x3m7y3neq2003   \n",
       "1         f2f_mathd_numbertheory_3   \n",
       "2      f2f_mathd_numbertheory_1124   \n",
       "3       f2f_mathd_numbertheory_237   \n",
       "4       f2f_mathd_numbertheory_299   \n",
       "\n",
       "                                  informal_statement  \\\n",
       "0  /-- Show that there are no integers $x$ and $y...   \n",
       "1  /-- What is the units digit of the sum of the ...   \n",
       "2  /-- The four-digit number $\\underline{374n}$ i...   \n",
       "3  /-- What is the modulo $6$ remainder of the su...   \n",
       "4  /-- What is the ones digit of $1 \\cdot 3 \\cdot...   \n",
       "\n",
       "                          generated_formal_statement  \\\n",
       "0  theorem no_integers_satisfy_equation : ¬∃ (x y...   \n",
       "1  theorem units_digit_sum_squares_first_nine : \\...   \n",
       "2  theorem units_digit_of_divisible_by_18 : ∃ n :...   \n",
       "3  theorem sum_mod_six_remainder : (∑ i in Finset...   \n",
       "4  theorem ones_digit_of_product_is_five : (1 * 3...   \n",
       "\n",
       "                                    formal_statement               tags  \\\n",
       "0  theorem numbertheory_4x3m7y3neq2003 (x y : ℤ) ...  ['number_theory']   \n",
       "1  theorem mathd_numbertheory_3 : (∑ x in Finset....  ['number_theory']   \n",
       "2  theorem mathd_numbertheory_1124 (n : ℕ) (h₀ : ...  ['number_theory']   \n",
       "3  theorem mathd_numbertheory_237 : (∑ k in Finse...  ['number_theory']   \n",
       "4  theorem mathd_numbertheory_299 : 1 * 3 * 5 * 7...  ['number_theory']   \n",
       "\n",
       "                                              header split   model provider  \n",
       "0  import Mathlib\\nimport Aesop\\n\\nset_option max...  test  gpt-4o   openai  \n",
       "1  import Mathlib\\nimport Aesop\\n\\nset_option max...  test  gpt-4o   openai  \n",
       "2  import Mathlib\\nimport Aesop\\n\\nset_option max...  test  gpt-4o   openai  \n",
       "3  import Mathlib\\nimport Aesop\\n\\nset_option max...  test  gpt-4o   openai  \n",
       "4  import Mathlib\\nimport Aesop\\n\\nset_option max...  test  gpt-4o   openai  "
      ]
     },
     "execution_count": 42,
     "metadata": {},
     "output_type": "execute_result"
    }
   ],
   "source": [
    "json_file_path = 'results/generations/direct_translation_with_general_fewshot_gpt-4o.json'\n",
    "with open(json_file_path, 'r') as f:\n",
    "    data = json.load(f)\n",
    "\n",
    "df = pd.DataFrame(data)\n",
    "df.head()\n"
   ]
  },
  {
   "cell_type": "markdown",
   "metadata": {},
   "source": [
    "### Length"
   ]
  },
  {
   "cell_type": "code",
   "execution_count": 43,
   "metadata": {},
   "outputs": [
    {
     "name": "stdout",
     "output_type": "stream",
     "text": [
      "Average length of generated_formal_statement: 174.00 characters\n"
     ]
    }
   ],
   "source": [
    "# Calculate the length of each 'generated_formal_statement'\n",
    "df['gen_formal_stmt_length'] = df['generated_formal_statement'].apply(len)\n",
    "\n",
    "# Compute the average length\n",
    "average_length = df['gen_formal_stmt_length'].mean()\n",
    "print(f\"Average length of generated_formal_statement: {average_length:.2f} characters\")\n"
   ]
  },
  {
   "cell_type": "code",
   "execution_count": 44,
   "metadata": {},
   "outputs": [
    {
     "data": {
      "image/png": "[encoded data removed]",
      "text/plain": [
       "<Figure size 1000x600 with 1 Axes>"
      ]
     },
     "metadata": {},
     "output_type": "display_data"
    }
   ],
   "source": [
    "# Plot the distribution\n",
    "plt.figure(figsize=(10, 6))\n",
    "plt.hist(df['gen_formal_stmt_length'], bins=30, color='skyblue', edgecolor='black')\n",
    "plt.title('Distribution of Generated Formal Statement Lengths')\n",
    "plt.xlabel('Length (characters)')\n",
    "plt.ylabel('Frequency')\n",
    "plt.show()"
   ]
  },
  {
   "cell_type": "markdown",
   "metadata": {},
   "source": [
    "### Sorry"
   ]
  },
  {
   "cell_type": "code",
   "execution_count": 45,
   "metadata": {},
   "outputs": [
    {
     "name": "stdout",
     "output_type": "stream",
     "text": [
      "Number of statements not ending with 'sorry': 8\n"
     ]
    },
    {
     "data": {
      "text/html": [
       "<div>\n",
       "<style scoped>\n",
       "    .dataframe tbody tr th:only-of-type {\n",
       "        vertical-align: middle;\n",
       "    }\n",
       "\n",
       "    .dataframe tbody tr th {\n",
       "        vertical-align: top;\n",
       "    }\n",
       "\n",
       "    .dataframe thead th {\n",
       "        text-align: right;\n",
       "    }\n",
       "</style>\n",
       "<table border=\"1\" class=\"dataframe\">\n",
       "  <thead>\n",
       "    <tr style=\"text-align: right;\">\n",
       "      <th></th>\n",
       "      <th>name</th>\n",
       "      <th>generated_formal_statement</th>\n",
       "    </tr>\n",
       "  </thead>\n",
       "  <tbody>\n",
       "    <tr>\n",
       "      <th>0</th>\n",
       "      <td>f2f_mathd_numbertheory_5</td>\n",
       "      <td>theorem smallest_integer_perfect_square_and_cu...</td>\n",
       "    </tr>\n",
       "    <tr>\n",
       "      <th>1</th>\n",
       "      <td>f2f_mathd_numbertheory_150</td>\n",
       "      <td>theorem smallest_N_for_non_prime : ∃ N : ℕ, N ...</td>\n",
       "    </tr>\n",
       "    <tr>\n",
       "      <th>2</th>\n",
       "      <td>putnam_2002_a5</td>\n",
       "      <td>theorem all_positive_rationals_in_sequence :\\n...</td>\n",
       "    </tr>\n",
       "    <tr>\n",
       "      <th>3</th>\n",
       "      <td>putnam_2017_a1</td>\n",
       "      <td>To formalize the given informal statement in L...</td>\n",
       "    </tr>\n",
       "    <tr>\n",
       "      <th>4</th>\n",
       "      <td>f2f_mathd_numbertheory_33</td>\n",
       "      <td>theorem find_inverse_modulo_398 : ∃ n : ℤ, 0 ≤...</td>\n",
       "    </tr>\n",
       "  </tbody>\n",
       "</table>\n",
       "</div>"
      ],
      "text/plain": [
       "                         name  \\\n",
       "0    f2f_mathd_numbertheory_5   \n",
       "1  f2f_mathd_numbertheory_150   \n",
       "2              putnam_2002_a5   \n",
       "3              putnam_2017_a1   \n",
       "4   f2f_mathd_numbertheory_33   \n",
       "\n",
       "                          generated_formal_statement  \n",
       "0  theorem smallest_integer_perfect_square_and_cu...  \n",
       "1  theorem smallest_N_for_non_prime : ∃ N : ℕ, N ...  \n",
       "2  theorem all_positive_rationals_in_sequence :\\n...  \n",
       "3  To formalize the given informal statement in L...  \n",
       "4  theorem find_inverse_modulo_398 : ∃ n : ℤ, 0 ≤...  "
      ]
     },
     "execution_count": 45,
     "metadata": {},
     "output_type": "execute_result"
    }
   ],
   "source": [
    "# Define a function to check if text ends with 'sorry' (case-insensitive, optional punctuation)\n",
    "def ends_with_sorry(text):\n",
    "    text = text.strip()\n",
    "    pattern = re.compile(r'sorry[\\.\\!\\?]?$', re.IGNORECASE)\n",
    "    return bool(pattern.search(text))\n",
    "\n",
    "# Apply the function to the DataFrame\n",
    "df['ends_with_sorry'] = df['generated_formal_statement'].apply(ends_with_sorry)\n",
    "\n",
    "# Filter the DataFrame for statements that do not end with 'sorry'\n",
    "not_sorry_df = df[~df['ends_with_sorry']]\n",
    "\n",
    "# Reset the index\n",
    "not_sorry_df = not_sorry_df.reset_index(drop=True)\n",
    "\n",
    "# Display the number of examples\n",
    "print(f\"Number of statements not ending with 'sorry': {len(not_sorry_df)}\")\n",
    "\n",
    "# Display the first few examples\n",
    "not_sorry_df[['name', 'generated_formal_statement']].head()"
   ]
  },
  {
   "cell_type": "code",
   "execution_count": 46,
   "metadata": {},
   "outputs": [
    {
     "name": "stdout",
     "output_type": "stream",
     "text": [
      "Average length of 'not sorry' generated_formal_statement: 904.00 characters\n"
     ]
    }
   ],
   "source": [
    "# Calculate the length of each 'generated_formal_statement'\n",
    "not_sorry_df['gen_formal_stmt_length'] = not_sorry_df['generated_formal_statement'].apply(len)\n",
    "\n",
    "# Compute the average length\n",
    "average_length_not_sorry = not_sorry_df['gen_formal_stmt_length'].mean()\n",
    "print(f\"Average length of 'not sorry' generated_formal_statement: {average_length_not_sorry:.2f} characters\")"
   ]
  },
  {
   "cell_type": "code",
   "execution_count": 51,
   "metadata": {},
   "outputs": [
    {
     "name": "stdout",
     "output_type": "stream",
     "text": [
      "theorem smallest_N_for_non_prime : ∃ N : ℕ, N > 0 ∧ ¬Nat.Prime (7 + 30 * N) ∧ ∀ M : ℕ, M > 0 → M < N → Nat.Prime (7 + 30 * M) :=\n",
      "begin\n",
      "  use 6,\n",
      "  split,\n",
      "  { exact Nat.succ_pos 5, },\n",
      "  split,\n",
      "  { norm_num, },\n",
      "  { intros M hM hMN,\n",
      "    interval_cases M,\n",
      "    all_goals { norm_num, }, }\n",
      "end\n"
     ]
    }
   ],
   "source": [
    "print(df[df['name'] == 'f2f_mathd_numbertheory_150']['generated_formal_statement'].values[0])"
   ]
  },
  {
   "cell_type": "code",
   "execution_count": 53,
   "metadata": {},
   "outputs": [
    {
     "data": {
      "image/png": "[encoded data removed]",
      "text/plain": [
       "<Figure size 1000x600 with 1 Axes>"
      ]
     },
     "metadata": {},
     "output_type": "display_data"
    }
   ],
   "source": [
    "# Plot the distribution with different colors\n",
    "plt.figure(figsize=(10, 6))\n",
    "\n",
    "# Plot for statements ending with \"sorry\"\n",
    "plt.hist(df[df['ends_with_sorry']]['gen_formal_stmt_length'], bins=30, color='skyblue', edgecolor='black', alpha=0.7, label='Ends with \"sorry\"')\n",
    "\n",
    "# Plot for statements not ending with \"sorry\"\n",
    "plt.hist(df[~df['ends_with_sorry']]['gen_formal_stmt_length'], bins=30, color='orange', edgecolor='black', alpha=0.7, label='Does not end with \"sorry\"')\n",
    "\n",
    "plt.title('Distribution of Generated Formal Statement Lengths')\n",
    "plt.xlabel('Length (characters)')\n",
    "plt.ylabel('Frequency')\n",
    "plt.legend()\n",
    "plt.show()"
   ]
  },
  {
   "cell_type": "markdown",
   "metadata": {},
   "source": [
    "## debug eval"
   ]
  },
  {
   "cell_type": "markdown",
   "metadata": {},
   "source": [
    "### BLEU:"
   ]
  },
  {
   "cell_type": "code",
   "execution_count": 93,
   "metadata": {},
   "outputs": [
    {
     "name": "stdout",
     "output_type": "stream",
     "text": [
      "Generated: \n",
      "theorem dummy : ¬∃ (x y : ℤ), 4 * x^3 - 7 * y^3 = 2003 :=\n",
      "sorry\n",
      "\n",
      "Reference: \n",
      "theorem dummy (x y : ℤ) : 4 * x ^ 3 - 7 * y ^ 3 ≠ 2003 :=\n",
      "sorry\n"
     ]
    }
   ],
   "source": [
    "generated = clean_theorem_string(df.iloc[0].generated_formal_statement)\n",
    "reference = clean_theorem_string(df.iloc[0].formal_statement)\n",
    "print(f\"Generated: \\n{generated}\\n\\nReference: \\n{reference}\")"
   ]
  },
  {
   "cell_type": "code",
   "execution_count": 94,
   "metadata": {},
   "outputs": [
    {
     "data": {
      "text/plain": [
       "0.15421048160685175"
      ]
     },
     "execution_count": 94,
     "metadata": {},
     "output_type": "execute_result"
    }
   ],
   "source": [
    "bleu_eval(generated, reference)"
   ]
  },
  {
   "cell_type": "markdown",
   "metadata": {},
   "source": [
    "### Cosine sim"
   ]
  },
  {
   "cell_type": "code",
   "execution_count": 95,
   "metadata": {},
   "outputs": [
    {
     "data": {
      "text/plain": [
       "0.9802588087715985"
      ]
     },
     "execution_count": 95,
     "metadata": {},
     "output_type": "execute_result"
    }
   ],
   "source": [
    "cos_similarity(generated, reference)"
   ]
  },
  {
   "cell_type": "markdown",
   "metadata": {},
   "source": [
    "### lil data analysis"
   ]
  },
  {
   "cell_type": "code",
   "execution_count": 98,
   "metadata": {},
   "outputs": [
    {
     "data": {
      "text/html": [
       "<div>\n",
       "<style scoped>\n",
       "    .dataframe tbody tr th:only-of-type {\n",
       "        vertical-align: middle;\n",
       "    }\n",
       "\n",
       "    .dataframe tbody tr th {\n",
       "        vertical-align: top;\n",
       "    }\n",
       "\n",
       "    .dataframe thead th {\n",
       "        text-align: right;\n",
       "    }\n",
       "</style>\n",
       "<table border=\"1\" class=\"dataframe\">\n",
       "  <thead>\n",
       "    <tr style=\"text-align: right;\">\n",
       "      <th></th>\n",
       "      <th>name</th>\n",
       "      <th>informal_statement</th>\n",
       "      <th>generated_formal_statement</th>\n",
       "      <th>formal_statement</th>\n",
       "      <th>tags</th>\n",
       "      <th>header</th>\n",
       "      <th>split</th>\n",
       "      <th>model</th>\n",
       "      <th>provider</th>\n",
       "      <th>bleu</th>\n",
       "      <th>cosine_similarity</th>\n",
       "    </tr>\n",
       "  </thead>\n",
       "  <tbody>\n",
       "    <tr>\n",
       "      <th>0</th>\n",
       "      <td>f2f_numbertheory_4x3m7y3neq2003</td>\n",
       "      <td>/-- Show that there are no integers $x$ and $y...</td>\n",
       "      <td>theorem no_integers_satisfy_equation : ¬∃ (x y...</td>\n",
       "      <td>theorem numbertheory_4x3m7y3neq2003 (x y : ℤ) ...</td>\n",
       "      <td>['number_theory']</td>\n",
       "      <td>import Mathlib\\nimport Aesop\\n\\nset_option max...</td>\n",
       "      <td>test</td>\n",
       "      <td>gpt-4o</td>\n",
       "      <td>openai</td>\n",
       "      <td>0.154210</td>\n",
       "      <td>0.900158</td>\n",
       "    </tr>\n",
       "    <tr>\n",
       "      <th>1</th>\n",
       "      <td>f2f_mathd_numbertheory_3</td>\n",
       "      <td>/-- What is the units digit of the sum of the ...</td>\n",
       "      <td>theorem units_digit_sum_squares_first_nine : \\...</td>\n",
       "      <td>theorem mathd_numbertheory_3 : (∑ x in Finset....</td>\n",
       "      <td>['number_theory']</td>\n",
       "      <td>import Mathlib\\nimport Aesop\\n\\nset_option max...</td>\n",
       "      <td>test</td>\n",
       "      <td>gpt-4o</td>\n",
       "      <td>openai</td>\n",
       "      <td>0.498835</td>\n",
       "      <td>0.891059</td>\n",
       "    </tr>\n",
       "    <tr>\n",
       "      <th>2</th>\n",
       "      <td>f2f_mathd_numbertheory_1124</td>\n",
       "      <td>/-- The four-digit number $\\underline{374n}$ i...</td>\n",
       "      <td>theorem units_digit_of_divisible_by_18 : ∃ n :...</td>\n",
       "      <td>theorem mathd_numbertheory_1124 (n : ℕ) (h₀ : ...</td>\n",
       "      <td>['number_theory']</td>\n",
       "      <td>import Mathlib\\nimport Aesop\\n\\nset_option max...</td>\n",
       "      <td>test</td>\n",
       "      <td>gpt-4o</td>\n",
       "      <td>openai</td>\n",
       "      <td>0.202240</td>\n",
       "      <td>0.876434</td>\n",
       "    </tr>\n",
       "    <tr>\n",
       "      <th>3</th>\n",
       "      <td>f2f_mathd_numbertheory_237</td>\n",
       "      <td>/-- What is the modulo $6$ remainder of the su...</td>\n",
       "      <td>theorem sum_mod_six_remainder : (∑ i in Finset...</td>\n",
       "      <td>theorem mathd_numbertheory_237 : (∑ k in Finse...</td>\n",
       "      <td>['number_theory']</td>\n",
       "      <td>import Mathlib\\nimport Aesop\\n\\nset_option max...</td>\n",
       "      <td>test</td>\n",
       "      <td>gpt-4o</td>\n",
       "      <td>openai</td>\n",
       "      <td>0.577350</td>\n",
       "      <td>0.889196</td>\n",
       "    </tr>\n",
       "    <tr>\n",
       "      <th>4</th>\n",
       "      <td>f2f_mathd_numbertheory_299</td>\n",
       "      <td>/-- What is the ones digit of $1 \\cdot 3 \\cdot...</td>\n",
       "      <td>theorem ones_digit_of_product_is_five : (1 * 3...</td>\n",
       "      <td>theorem mathd_numbertheory_299 : 1 * 3 * 5 * 7...</td>\n",
       "      <td>['number_theory']</td>\n",
       "      <td>import Mathlib\\nimport Aesop\\n\\nset_option max...</td>\n",
       "      <td>test</td>\n",
       "      <td>gpt-4o</td>\n",
       "      <td>openai</td>\n",
       "      <td>0.738998</td>\n",
       "      <td>0.879133</td>\n",
       "    </tr>\n",
       "  </tbody>\n",
       "</table>\n",
       "</div>"
      ],
      "text/plain": [
       "                              name  \\\n",
       "0  f2f_numbertheory_4x3m7y3neq2003   \n",
       "1         f2f_mathd_numbertheory_3   \n",
       "2      f2f_mathd_numbertheory_1124   \n",
       "3       f2f_mathd_numbertheory_237   \n",
       "4       f2f_mathd_numbertheory_299   \n",
       "\n",
       "                                  informal_statement  \\\n",
       "0  /-- Show that there are no integers $x$ and $y...   \n",
       "1  /-- What is the units digit of the sum of the ...   \n",
       "2  /-- The four-digit number $\\underline{374n}$ i...   \n",
       "3  /-- What is the modulo $6$ remainder of the su...   \n",
       "4  /-- What is the ones digit of $1 \\cdot 3 \\cdot...   \n",
       "\n",
       "                          generated_formal_statement  \\\n",
       "0  theorem no_integers_satisfy_equation : ¬∃ (x y...   \n",
       "1  theorem units_digit_sum_squares_first_nine : \\...   \n",
       "2  theorem units_digit_of_divisible_by_18 : ∃ n :...   \n",
       "3  theorem sum_mod_six_remainder : (∑ i in Finset...   \n",
       "4  theorem ones_digit_of_product_is_five : (1 * 3...   \n",
       "\n",
       "                                    formal_statement               tags  \\\n",
       "0  theorem numbertheory_4x3m7y3neq2003 (x y : ℤ) ...  ['number_theory']   \n",
       "1  theorem mathd_numbertheory_3 : (∑ x in Finset....  ['number_theory']   \n",
       "2  theorem mathd_numbertheory_1124 (n : ℕ) (h₀ : ...  ['number_theory']   \n",
       "3  theorem mathd_numbertheory_237 : (∑ k in Finse...  ['number_theory']   \n",
       "4  theorem mathd_numbertheory_299 : 1 * 3 * 5 * 7...  ['number_theory']   \n",
       "\n",
       "                                              header split   model provider  \\\n",
       "0  import Mathlib\\nimport Aesop\\n\\nset_option max...  test  gpt-4o   openai   \n",
       "1  import Mathlib\\nimport Aesop\\n\\nset_option max...  test  gpt-4o   openai   \n",
       "2  import Mathlib\\nimport Aesop\\n\\nset_option max...  test  gpt-4o   openai   \n",
       "3  import Mathlib\\nimport Aesop\\n\\nset_option max...  test  gpt-4o   openai   \n",
       "4  import Mathlib\\nimport Aesop\\n\\nset_option max...  test  gpt-4o   openai   \n",
       "\n",
       "       bleu  cosine_similarity  \n",
       "0  0.154210           0.900158  \n",
       "1  0.498835           0.891059  \n",
       "2  0.202240           0.876434  \n",
       "3  0.577350           0.889196  \n",
       "4  0.738998           0.879133  "
      ]
     },
     "execution_count": 98,
     "metadata": {},
     "output_type": "execute_result"
    }
   ],
   "source": [
    "json_file_path = 'results/evaluations/direct_translation_with_general_fewshot_gpt-4o_evaluated.json'\n",
    "with open(json_file_path, 'r') as f:\n",
    "    data = json.load(f)\n",
    "    \n",
    "df = pd.DataFrame(data)"
   ]
  },
  {
   "cell_type": "code",
   "execution_count": 105,
   "metadata": {},
   "outputs": [],
   "source": [
    "df['ref_len'] = df['formal_statement'].apply(len)\n",
    "df['gen_len'] = df['generated_formal_statement'].apply(len)\n",
    "df['ends_with_sorry'] = df['generated_formal_statement'].str.endswith('sorry')"
   ]
  },
  {
   "cell_type": "code",
   "execution_count": 106,
   "metadata": {},
   "outputs": [
    {
     "data": {
      "text/html": [
       "<div>\n",
       "<style scoped>\n",
       "    .dataframe tbody tr th:only-of-type {\n",
       "        vertical-align: middle;\n",
       "    }\n",
       "\n",
       "    .dataframe tbody tr th {\n",
       "        vertical-align: top;\n",
       "    }\n",
       "\n",
       "    .dataframe thead th {\n",
       "        text-align: right;\n",
       "    }\n",
       "</style>\n",
       "<table border=\"1\" class=\"dataframe\">\n",
       "  <thead>\n",
       "    <tr style=\"text-align: right;\">\n",
       "      <th></th>\n",
       "      <th>name</th>\n",
       "      <th>informal_statement</th>\n",
       "      <th>generated_formal_statement</th>\n",
       "      <th>formal_statement</th>\n",
       "      <th>tags</th>\n",
       "      <th>header</th>\n",
       "      <th>split</th>\n",
       "      <th>model</th>\n",
       "      <th>provider</th>\n",
       "      <th>bleu</th>\n",
       "      <th>cosine_similarity</th>\n",
       "      <th>ref_len</th>\n",
       "      <th>gen_len</th>\n",
       "      <th>ends_with_sorry</th>\n",
       "    </tr>\n",
       "  </thead>\n",
       "  <tbody>\n",
       "    <tr>\n",
       "      <th>0</th>\n",
       "      <td>f2f_numbertheory_4x3m7y3neq2003</td>\n",
       "      <td>/-- Show that there are no integers $x$ and $y...</td>\n",
       "      <td>theorem no_integers_satisfy_equation : ¬∃ (x y...</td>\n",
       "      <td>theorem numbertheory_4x3m7y3neq2003 (x y : ℤ) ...</td>\n",
       "      <td>['number_theory']</td>\n",
       "      <td>import Mathlib\\nimport Aesop\\n\\nset_option max...</td>\n",
       "      <td>test</td>\n",
       "      <td>gpt-4o</td>\n",
       "      <td>openai</td>\n",
       "      <td>0.154210</td>\n",
       "      <td>0.900158</td>\n",
       "      <td>83</td>\n",
       "      <td>86</td>\n",
       "      <td>True</td>\n",
       "    </tr>\n",
       "    <tr>\n",
       "      <th>1</th>\n",
       "      <td>f2f_mathd_numbertheory_3</td>\n",
       "      <td>/-- What is the units digit of the sum of the ...</td>\n",
       "      <td>theorem units_digit_sum_squares_first_nine : \\...</td>\n",
       "      <td>theorem mathd_numbertheory_3 : (∑ x in Finset....</td>\n",
       "      <td>['number_theory']</td>\n",
       "      <td>import Mathlib\\nimport Aesop\\n\\nset_option max...</td>\n",
       "      <td>test</td>\n",
       "      <td>gpt-4o</td>\n",
       "      <td>openai</td>\n",
       "      <td>0.498835</td>\n",
       "      <td>0.891059</td>\n",
       "      <td>84</td>\n",
       "      <td>104</td>\n",
       "      <td>True</td>\n",
       "    </tr>\n",
       "    <tr>\n",
       "      <th>2</th>\n",
       "      <td>f2f_mathd_numbertheory_1124</td>\n",
       "      <td>/-- The four-digit number $\\underline{374n}$ i...</td>\n",
       "      <td>theorem units_digit_of_divisible_by_18 : ∃ n :...</td>\n",
       "      <td>theorem mathd_numbertheory_1124 (n : ℕ) (h₀ : ...</td>\n",
       "      <td>['number_theory']</td>\n",
       "      <td>import Mathlib\\nimport Aesop\\n\\nset_option max...</td>\n",
       "      <td>test</td>\n",
       "      <td>gpt-4o</td>\n",
       "      <td>openai</td>\n",
       "      <td>0.202240</td>\n",
       "      <td>0.876434</td>\n",
       "      <td>92</td>\n",
       "      <td>95</td>\n",
       "      <td>True</td>\n",
       "    </tr>\n",
       "    <tr>\n",
       "      <th>3</th>\n",
       "      <td>f2f_mathd_numbertheory_237</td>\n",
       "      <td>/-- What is the modulo $6$ remainder of the su...</td>\n",
       "      <td>theorem sum_mod_six_remainder : (∑ i in Finset...</td>\n",
       "      <td>theorem mathd_numbertheory_237 : (∑ k in Finse...</td>\n",
       "      <td>['number_theory']</td>\n",
       "      <td>import Mathlib\\nimport Aesop\\n\\nset_option max...</td>\n",
       "      <td>test</td>\n",
       "      <td>gpt-4o</td>\n",
       "      <td>openai</td>\n",
       "      <td>0.577350</td>\n",
       "      <td>0.889196</td>\n",
       "      <td>76</td>\n",
       "      <td>77</td>\n",
       "      <td>True</td>\n",
       "    </tr>\n",
       "    <tr>\n",
       "      <th>4</th>\n",
       "      <td>f2f_mathd_numbertheory_299</td>\n",
       "      <td>/-- What is the ones digit of $1 \\cdot 3 \\cdot...</td>\n",
       "      <td>theorem ones_digit_of_product_is_five : (1 * 3...</td>\n",
       "      <td>theorem mathd_numbertheory_299 : 1 * 3 * 5 * 7...</td>\n",
       "      <td>['number_theory']</td>\n",
       "      <td>import Mathlib\\nimport Aesop\\n\\nset_option max...</td>\n",
       "      <td>test</td>\n",
       "      <td>gpt-4o</td>\n",
       "      <td>openai</td>\n",
       "      <td>0.738998</td>\n",
       "      <td>0.879133</td>\n",
       "      <td>76</td>\n",
       "      <td>87</td>\n",
       "      <td>True</td>\n",
       "    </tr>\n",
       "  </tbody>\n",
       "</table>\n",
       "</div>"
      ],
      "text/plain": [
       "                              name  \\\n",
       "0  f2f_numbertheory_4x3m7y3neq2003   \n",
       "1         f2f_mathd_numbertheory_3   \n",
       "2      f2f_mathd_numbertheory_1124   \n",
       "3       f2f_mathd_numbertheory_237   \n",
       "4       f2f_mathd_numbertheory_299   \n",
       "\n",
       "                                  informal_statement  \\\n",
       "0  /-- Show that there are no integers $x$ and $y...   \n",
       "1  /-- What is the units digit of the sum of the ...   \n",
       "2  /-- The four-digit number $\\underline{374n}$ i...   \n",
       "3  /-- What is the modulo $6$ remainder of the su...   \n",
       "4  /-- What is the ones digit of $1 \\cdot 3 \\cdot...   \n",
       "\n",
       "                          generated_formal_statement  \\\n",
       "0  theorem no_integers_satisfy_equation : ¬∃ (x y...   \n",
       "1  theorem units_digit_sum_squares_first_nine : \\...   \n",
       "2  theorem units_digit_of_divisible_by_18 : ∃ n :...   \n",
       "3  theorem sum_mod_six_remainder : (∑ i in Finset...   \n",
       "4  theorem ones_digit_of_product_is_five : (1 * 3...   \n",
       "\n",
       "                                    formal_statement               tags  \\\n",
       "0  theorem numbertheory_4x3m7y3neq2003 (x y : ℤ) ...  ['number_theory']   \n",
       "1  theorem mathd_numbertheory_3 : (∑ x in Finset....  ['number_theory']   \n",
       "2  theorem mathd_numbertheory_1124 (n : ℕ) (h₀ : ...  ['number_theory']   \n",
       "3  theorem mathd_numbertheory_237 : (∑ k in Finse...  ['number_theory']   \n",
       "4  theorem mathd_numbertheory_299 : 1 * 3 * 5 * 7...  ['number_theory']   \n",
       "\n",
       "                                              header split   model provider  \\\n",
       "0  import Mathlib\\nimport Aesop\\n\\nset_option max...  test  gpt-4o   openai   \n",
       "1  import Mathlib\\nimport Aesop\\n\\nset_option max...  test  gpt-4o   openai   \n",
       "2  import Mathlib\\nimport Aesop\\n\\nset_option max...  test  gpt-4o   openai   \n",
       "3  import Mathlib\\nimport Aesop\\n\\nset_option max...  test  gpt-4o   openai   \n",
       "4  import Mathlib\\nimport Aesop\\n\\nset_option max...  test  gpt-4o   openai   \n",
       "\n",
       "       bleu  cosine_similarity  ref_len  gen_len  ends_with_sorry  \n",
       "0  0.154210           0.900158       83       86             True  \n",
       "1  0.498835           0.891059       84      104             True  \n",
       "2  0.202240           0.876434       92       95             True  \n",
       "3  0.577350           0.889196       76       77             True  \n",
       "4  0.738998           0.879133       76       87             True  "
      ]
     },
     "execution_count": 106,
     "metadata": {},
     "output_type": "execute_result"
    }
   ],
   "source": [
    "df.head()"
   ]
  },
  {
   "cell_type": "code",
   "execution_count": 110,
   "metadata": {},
   "outputs": [
    {
     "name": "stdout",
     "output_type": "stream",
     "text": [
      "             bleu  cosine_similarity     ref_len      gen_len\n",
      "count  234.000000         234.000000  234.000000   234.000000\n",
      "mean     0.271398           0.892410  159.230769   174.004274\n",
      "std      0.254483           0.026621  102.329929   207.671528\n",
      "min      0.000198           0.806644   49.000000    42.000000\n",
      "25%      0.081127           0.875569   84.000000    95.000000\n",
      "50%      0.194772           0.894469  128.000000   137.000000\n",
      "75%      0.390686           0.912456  199.750000   191.000000\n",
      "max      1.000000           0.944266  757.000000  2546.000000\n"
     ]
    }
   ],
   "source": [
    "summary_stats = df[['bleu', 'cosine_similarity', 'ref_len', 'gen_len']].describe()\n",
    "print(summary_stats)"
   ]
  },
  {
   "cell_type": "code",
   "execution_count": 120,
   "metadata": {},
   "outputs": [
    {
     "data": {
      "image/png": "[encoded data removed]",
      "text/plain": [
       "<Figure size 2000x500 with 4 Axes>"
      ]
     },
     "metadata": {},
     "output_type": "display_data"
    }
   ],
   "source": [
    "import matplotlib.pyplot as plt\n",
    "\n",
    "# Define the columns to plot and set up a 1x4 subplot layout\n",
    "columns = ['bleu', 'cosine_similarity', 'ref_len', 'gen_len']\n",
    "fig, axes = plt.subplots(1, 4, figsize=(20, 5))  # figsize controls the overall size of the plot\n",
    "\n",
    "# Loop through each column and corresponding subplot axis\n",
    "for ax, column in zip(axes, columns):\n",
    "    # Plot histogram for rows where 'ends_with_sorry' is True\n",
    "    df[df['ends_with_sorry'] == True][column].hist(bins=20, alpha=0.5, label='ends_with_sorry=True', ax=ax)\n",
    "    \n",
    "    # Plot histogram for rows where 'ends_with_sorry' is False\n",
    "    df[df['ends_with_sorry'] == False][column].hist(bins=20, alpha=0.5, label='ends_with_sorry=False', ax=ax)\n",
    "    \n",
    "    # Setting the title, labels, and legend for each subplot\n",
    "    ax.set_title(f'Distribution of {column}')\n",
    "    ax.set_xlabel(column)\n",
    "    ax.set_ylabel('Frequency')\n",
    "    ax.legend()\n",
    "\n",
    "# Adjust layout for better spacing\n",
    "plt.tight_layout()\n",
    "plt.show()\n"
   ]
  },
  {
   "cell_type": "code",
   "execution_count": 113,
   "metadata": {},
   "outputs": [
    {
     "name": "stdout",
     "output_type": "stream",
     "text": [
      "                       bleu  cosine_similarity   ref_len   gen_len\n",
      "bleu               1.000000           0.204905 -0.436111 -0.257112\n",
      "cosine_similarity  0.204905           1.000000  0.167958 -0.066965\n",
      "ref_len           -0.436111           0.167958  1.000000  0.299346\n",
      "gen_len           -0.257112          -0.066965  0.299346  1.000000\n"
     ]
    }
   ],
   "source": [
    "correlation_matrix = df[['bleu', 'cosine_similarity', 'ref_len', 'gen_len']].corr()\n",
    "print(correlation_matrix)"
   ]
  },
  {
   "cell_type": "code",
   "execution_count": 115,
   "metadata": {},
   "outputs": [
    {
     "name": "stdout",
     "output_type": "stream",
     "text": [
      "                     bleu  cosine_similarity\n",
      "ends_with_sorry                             \n",
      "False            0.074589           0.870529\n",
      "True             0.278365           0.893185\n"
     ]
    }
   ],
   "source": [
    "sorry_analysis = df.groupby('ends_with_sorry')[['bleu', 'cosine_similarity']].mean()\n",
    "print(sorry_analysis)"
   ]
  },
  {
   "cell_type": "code",
   "execution_count": 116,
   "metadata": {},
   "outputs": [
    {
     "data": {
      "image/png": "[encoded data removed]",
      "text/plain": [
       "<Figure size 640x480 with 1 Axes>"
      ]
     },
     "metadata": {},
     "output_type": "display_data"
    }
   ],
   "source": [
    "import seaborn as sns\n",
    "\n",
    "# Scatter plot with 'ends_with_sorry' color-coded\n",
    "plt.figure()\n",
    "sns.scatterplot(data=df, x='bleu', y='cosine_similarity', hue='ends_with_sorry')\n",
    "plt.title('BLEU vs Cosine Similarity')\n",
    "plt.xlabel('BLEU Score')\n",
    "plt.ylabel('Cosine Similarity')\n",
    "plt.show()"
   ]
  }
 ],
 "metadata": {
  "kernelspec": {
   "display_name": "modern_nlp",
   "language": "python",
   "name": "python3"
  },
  "language_info": {
   "codemirror_mode": {
    "name": "ipython",
    "version": 3
   },
   "file_extension": ".py",
   "mimetype": "text/x-python",
   "name": "python",
   "nbconvert_exporter": "python",
   "pygments_lexer": "ipython3",
   "version": "3.10.13"
  }
 },
 "nbformat": 4,
 "nbformat_minor": 2
}
