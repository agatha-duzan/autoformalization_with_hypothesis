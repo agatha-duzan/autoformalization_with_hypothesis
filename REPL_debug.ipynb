{
 "cells": [
  {
   "cell_type": "markdown",
   "metadata": {},
   "source": [
    "## Setup:"
   ]
  },
  {
   "cell_type": "code",
   "execution_count": 10,
   "metadata": {},
   "outputs": [],
   "source": [
    "%load_ext autoreload\n",
    "%autoreload 2"
   ]
  },
  {
   "cell_type": "code",
   "execution_count": 11,
   "metadata": {},
   "outputs": [],
   "source": [
    "import os\n",
    "import time\n",
    "import json\n",
    "import pandas as pd\n",
    "\n",
    "from tqdm import tqdm\n",
    "from datasets import load_dataset, concatenate_datasets"
   ]
  },
  {
   "cell_type": "code",
   "execution_count": 17,
   "metadata": {},
   "outputs": [],
   "source": [
    "import sys\n",
    "sys.path.append('/home/agatha/Desktop/MA3/sem proj/autoformalization_with_hypothesis')"
   ]
  },
  {
   "cell_type": "code",
   "execution_count": 18,
   "metadata": {},
   "outputs": [
    {
     "ename": "ModuleNotFoundError",
     "evalue": "No module named 'sklearn'",
     "output_type": "error",
     "traceback": [
      "\u001b[0;31m---------------------------------------------------------------------------\u001b[0m",
      "\u001b[0;31mModuleNotFoundError\u001b[0m                       Traceback (most recent call last)",
      "Cell \u001b[0;32mIn[18], line 2\u001b[0m\n\u001b[1;32m      1\u001b[0m \u001b[38;5;28;01mimport\u001b[39;00m \u001b[38;5;21;01mconfig\u001b[39;00m\n\u001b[0;32m----> 2\u001b[0m \u001b[38;5;28;01mfrom\u001b[39;00m \u001b[38;5;21;01mutils\u001b[39;00m \u001b[38;5;28;01mimport\u001b[39;00m \u001b[38;5;241m*\u001b[39m\n",
      "File \u001b[0;32m~/Desktop/MA3/sem proj/autoformalization_with_hypothesis/utils.py:14\u001b[0m\n\u001b[1;32m     12\u001b[0m \u001b[38;5;28;01mfrom\u001b[39;00m \u001b[38;5;21;01mopenai\u001b[39;00m \u001b[38;5;28;01mimport\u001b[39;00m OpenAI\n\u001b[1;32m     13\u001b[0m \u001b[38;5;28;01mfrom\u001b[39;00m \u001b[38;5;21;01mnltk\u001b[39;00m\u001b[38;5;21;01m.\u001b[39;00m\u001b[38;5;21;01mtranslate\u001b[39;00m\u001b[38;5;21;01m.\u001b[39;00m\u001b[38;5;21;01mbleu_score\u001b[39;00m \u001b[38;5;28;01mimport\u001b[39;00m SmoothingFunction, sentence_bleu\n\u001b[0;32m---> 14\u001b[0m \u001b[38;5;28;01mfrom\u001b[39;00m \u001b[38;5;21;01msklearn\u001b[39;00m\u001b[38;5;21;01m.\u001b[39;00m\u001b[38;5;21;01mmetrics\u001b[39;00m\u001b[38;5;21;01m.\u001b[39;00m\u001b[38;5;21;01mpairwise\u001b[39;00m \u001b[38;5;28;01mimport\u001b[39;00m cosine_similarity\n\u001b[1;32m     16\u001b[0m \u001b[38;5;28;01mfrom\u001b[39;00m \u001b[38;5;21;01mconfig\u001b[39;00m \u001b[38;5;28;01mimport\u001b[39;00m \u001b[38;5;241m*\u001b[39m\n\u001b[1;32m     18\u001b[0m \u001b[38;5;28;01mdef\u001b[39;00m \u001b[38;5;21mload_few_shot_examples\u001b[39m(filepath):\n",
      "\u001b[0;31mModuleNotFoundError\u001b[0m: No module named 'sklearn'"
     ]
    }
   ],
   "source": [
    "import config\n",
    "from utils import *"
   ]
  },
  {
   "cell_type": "code",
   "execution_count": 12,
   "metadata": {},
   "outputs": [],
   "source": [
    "from autoformalization_typechecking.lean_repl import RobustLeanServer"
   ]
  },
  {
   "cell_type": "markdown",
   "metadata": {},
   "source": [
    "## Loading data"
   ]
  },
  {
   "cell_type": "code",
   "execution_count": 15,
   "metadata": {},
   "outputs": [
    {
     "data": {
      "text/html": [
       "<div>\n",
       "<style scoped>\n",
       "    .dataframe tbody tr th:only-of-type {\n",
       "        vertical-align: middle;\n",
       "    }\n",
       "\n",
       "    .dataframe tbody tr th {\n",
       "        vertical-align: top;\n",
       "    }\n",
       "\n",
       "    .dataframe thead th {\n",
       "        text-align: right;\n",
       "    }\n",
       "</style>\n",
       "<table border=\"1\" class=\"dataframe\">\n",
       "  <thead>\n",
       "    <tr style=\"text-align: right;\">\n",
       "      <th></th>\n",
       "      <th>name</th>\n",
       "      <th>informal_statement</th>\n",
       "      <th>generated_formal_statement</th>\n",
       "      <th>formal_statement</th>\n",
       "      <th>tags</th>\n",
       "      <th>header</th>\n",
       "      <th>split</th>\n",
       "      <th>model</th>\n",
       "      <th>provider</th>\n",
       "    </tr>\n",
       "  </thead>\n",
       "  <tbody>\n",
       "    <tr>\n",
       "      <th>0</th>\n",
       "      <td>f2f_numbertheory_4x3m7y3neq2003</td>\n",
       "      <td>/-- Show that there are no integers $x$ and $y...</td>\n",
       "      <td>theorem no_integers_satisfy_equation : ¬∃ (x y...</td>\n",
       "      <td>theorem numbertheory_4x3m7y3neq2003 (x y : ℤ) ...</td>\n",
       "      <td>['number_theory']</td>\n",
       "      <td>import Mathlib\\nimport Aesop\\n\\nset_option max...</td>\n",
       "      <td>test</td>\n",
       "      <td>gpt-4o</td>\n",
       "      <td>openai</td>\n",
       "    </tr>\n",
       "    <tr>\n",
       "      <th>1</th>\n",
       "      <td>f2f_mathd_numbertheory_3</td>\n",
       "      <td>/-- What is the units digit of the sum of the ...</td>\n",
       "      <td>theorem units_digit_sum_squares_first_nine : \\...</td>\n",
       "      <td>theorem mathd_numbertheory_3 : (∑ x in Finset....</td>\n",
       "      <td>['number_theory']</td>\n",
       "      <td>import Mathlib\\nimport Aesop\\n\\nset_option max...</td>\n",
       "      <td>test</td>\n",
       "      <td>gpt-4o</td>\n",
       "      <td>openai</td>\n",
       "    </tr>\n",
       "    <tr>\n",
       "      <th>2</th>\n",
       "      <td>f2f_mathd_numbertheory_1124</td>\n",
       "      <td>/-- The four-digit number $\\underline{374n}$ i...</td>\n",
       "      <td>theorem units_digit_of_divisible_by_18 : ∃ n :...</td>\n",
       "      <td>theorem mathd_numbertheory_1124 (n : ℕ) (h₀ : ...</td>\n",
       "      <td>['number_theory']</td>\n",
       "      <td>import Mathlib\\nimport Aesop\\n\\nset_option max...</td>\n",
       "      <td>test</td>\n",
       "      <td>gpt-4o</td>\n",
       "      <td>openai</td>\n",
       "    </tr>\n",
       "    <tr>\n",
       "      <th>3</th>\n",
       "      <td>f2f_mathd_numbertheory_237</td>\n",
       "      <td>/-- What is the modulo $6$ remainder of the su...</td>\n",
       "      <td>theorem sum_mod_six_remainder : (∑ i in Finset...</td>\n",
       "      <td>theorem mathd_numbertheory_237 : (∑ k in Finse...</td>\n",
       "      <td>['number_theory']</td>\n",
       "      <td>import Mathlib\\nimport Aesop\\n\\nset_option max...</td>\n",
       "      <td>test</td>\n",
       "      <td>gpt-4o</td>\n",
       "      <td>openai</td>\n",
       "    </tr>\n",
       "    <tr>\n",
       "      <th>4</th>\n",
       "      <td>f2f_mathd_numbertheory_299</td>\n",
       "      <td>/-- What is the ones digit of $1 \\cdot 3 \\cdot...</td>\n",
       "      <td>theorem ones_digit_of_product_is_five : (1 * 3...</td>\n",
       "      <td>theorem mathd_numbertheory_299 : 1 * 3 * 5 * 7...</td>\n",
       "      <td>['number_theory']</td>\n",
       "      <td>import Mathlib\\nimport Aesop\\n\\nset_option max...</td>\n",
       "      <td>test</td>\n",
       "      <td>gpt-4o</td>\n",
       "      <td>openai</td>\n",
       "    </tr>\n",
       "  </tbody>\n",
       "</table>\n",
       "</div>"
      ],
      "text/plain": [
       "                              name  \\\n",
       "0  f2f_numbertheory_4x3m7y3neq2003   \n",
       "1         f2f_mathd_numbertheory_3   \n",
       "2      f2f_mathd_numbertheory_1124   \n",
       "3       f2f_mathd_numbertheory_237   \n",
       "4       f2f_mathd_numbertheory_299   \n",
       "\n",
       "                                  informal_statement  \\\n",
       "0  /-- Show that there are no integers $x$ and $y...   \n",
       "1  /-- What is the units digit of the sum of the ...   \n",
       "2  /-- The four-digit number $\\underline{374n}$ i...   \n",
       "3  /-- What is the modulo $6$ remainder of the su...   \n",
       "4  /-- What is the ones digit of $1 \\cdot 3 \\cdot...   \n",
       "\n",
       "                          generated_formal_statement  \\\n",
       "0  theorem no_integers_satisfy_equation : ¬∃ (x y...   \n",
       "1  theorem units_digit_sum_squares_first_nine : \\...   \n",
       "2  theorem units_digit_of_divisible_by_18 : ∃ n :...   \n",
       "3  theorem sum_mod_six_remainder : (∑ i in Finset...   \n",
       "4  theorem ones_digit_of_product_is_five : (1 * 3...   \n",
       "\n",
       "                                    formal_statement               tags  \\\n",
       "0  theorem numbertheory_4x3m7y3neq2003 (x y : ℤ) ...  ['number_theory']   \n",
       "1  theorem mathd_numbertheory_3 : (∑ x in Finset....  ['number_theory']   \n",
       "2  theorem mathd_numbertheory_1124 (n : ℕ) (h₀ : ...  ['number_theory']   \n",
       "3  theorem mathd_numbertheory_237 : (∑ k in Finse...  ['number_theory']   \n",
       "4  theorem mathd_numbertheory_299 : 1 * 3 * 5 * 7...  ['number_theory']   \n",
       "\n",
       "                                              header split   model provider  \n",
       "0  import Mathlib\\nimport Aesop\\n\\nset_option max...  test  gpt-4o   openai  \n",
       "1  import Mathlib\\nimport Aesop\\n\\nset_option max...  test  gpt-4o   openai  \n",
       "2  import Mathlib\\nimport Aesop\\n\\nset_option max...  test  gpt-4o   openai  \n",
       "3  import Mathlib\\nimport Aesop\\n\\nset_option max...  test  gpt-4o   openai  \n",
       "4  import Mathlib\\nimport Aesop\\n\\nset_option max...  test  gpt-4o   openai  "
      ]
     },
     "execution_count": 15,
     "metadata": {},
     "output_type": "execute_result"
    }
   ],
   "source": [
    "json_file_path = '/home/agatha/Desktop/MA3/sem proj/autoformalization_with_hypothesis/results/generations/direct_translation_with_general_fewshot_gpt-4o.json'\n",
    "with open(json_file_path, 'r') as f:\n",
    "    data = json.load(f)\n",
    "\n",
    "df = pd.DataFrame(data)\n",
    "df.head()"
   ]
  },
  {
   "cell_type": "markdown",
   "metadata": {},
   "source": [
    "## REPL"
   ]
  },
  {
   "cell_type": "code",
   "execution_count": 2,
   "metadata": {},
   "outputs": [
    {
     "name": "stdout",
     "output_type": "stream",
     "text": [
      "{'sorries': [{'proofState': 0, 'pos': {'line': 2, 'column': 28}, 'goal': '⊢ 1 + 1 = 2', 'endPos': {'line': 2, 'column': 33}}], 'messages': [{'severity': 'warning', 'pos': {'line': 2, 'column': 8}, 'endPos': {'line': 2, 'column': 12}, 'data': \"declaration uses 'sorry'\"}], 'env': 0}\n"
     ]
    }
   ],
   "source": [
    "lean_server = RobustLeanServer()\n",
    "txt = \"import Mathlib\\ntheorem test : 1 + 1 = 2 := sorry\"\n",
    "\n",
    "result = lean_server.run_code(txt)\n",
    "print(result)  "
   ]
  },
  {
   "cell_type": "code",
   "execution_count": 3,
   "metadata": {},
   "outputs": [
    {
     "name": "stdout",
     "output_type": "stream",
     "text": [
      "[{'severity': 'warning', 'pos': {'line': 2, 'column': 8}, 'endPos': {'line': 2, 'column': 12}, 'data': \"declaration uses 'sorry'\"}]\n"
     ]
    }
   ],
   "source": [
    "print(result['messages'])"
   ]
  },
  {
   "cell_type": "code",
   "execution_count": 16,
   "metadata": {},
   "outputs": [
    {
     "ename": "NameError",
     "evalue": "name 'clean_theorem_string' is not defined",
     "output_type": "error",
     "traceback": [
      "\u001b[0;31m---------------------------------------------------------------------------\u001b[0m",
      "\u001b[0;31mNameError\u001b[0m                                 Traceback (most recent call last)",
      "Cell \u001b[0;32mIn[16], line 1\u001b[0m\n\u001b[0;32m----> 1\u001b[0m generated \u001b[38;5;241m=\u001b[39m \u001b[43mclean_theorem_string\u001b[49m(df\u001b[38;5;241m.\u001b[39miloc[\u001b[38;5;241m0\u001b[39m]\u001b[38;5;241m.\u001b[39mgenerated_formal_statement)\n\u001b[1;32m      2\u001b[0m reference \u001b[38;5;241m=\u001b[39m clean_theorem_string(df\u001b[38;5;241m.\u001b[39miloc[\u001b[38;5;241m0\u001b[39m]\u001b[38;5;241m.\u001b[39mformal_statement)\n\u001b[1;32m      3\u001b[0m \u001b[38;5;28mprint\u001b[39m(\u001b[38;5;124mf\u001b[39m\u001b[38;5;124m\"\u001b[39m\u001b[38;5;124mGenerated: \u001b[39m\u001b[38;5;130;01m\\n\u001b[39;00m\u001b[38;5;132;01m{\u001b[39;00mgenerated\u001b[38;5;132;01m}\u001b[39;00m\u001b[38;5;130;01m\\n\u001b[39;00m\u001b[38;5;130;01m\\n\u001b[39;00m\u001b[38;5;124mReference: \u001b[39m\u001b[38;5;130;01m\\n\u001b[39;00m\u001b[38;5;132;01m{\u001b[39;00mreference\u001b[38;5;132;01m}\u001b[39;00m\u001b[38;5;124m\"\u001b[39m)\n",
      "\u001b[0;31mNameError\u001b[0m: name 'clean_theorem_string' is not defined"
     ]
    }
   ],
   "source": [
    "generated = clean_theorem_string(df.iloc[0].generated_formal_statement)\n",
    "reference = clean_theorem_string(df.iloc[0].formal_statement)\n",
    "print(f\"Generated: \\n{generated}\\n\\nReference: \\n{reference}\")"
   ]
  }
 ],
 "metadata": {
  "kernelspec": {
   "display_name": ".venv",
   "language": "python",
   "name": "python3"
  },
  "language_info": {
   "codemirror_mode": {
    "name": "ipython",
    "version": 3
   },
   "file_extension": ".py",
   "mimetype": "text/x-python",
   "name": "python",
   "nbconvert_exporter": "python",
   "pygments_lexer": "ipython3",
   "version": "3.11.5"
  }
 },
 "nbformat": 4,
 "nbformat_minor": 2
}
